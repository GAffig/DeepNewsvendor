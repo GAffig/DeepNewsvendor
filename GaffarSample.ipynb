{
 "cells": [
  {
   "cell_type": "code",
   "execution_count": 7,
   "metadata": {},
   "outputs": [
    {
     "name": "stdout",
     "output_type": "stream",
     "text": [
      "GLPSOL: GLPK LP/MIP Solver, v4.65\r\n",
      "Parameter(s) specified in the command line:\r\n",
      " -m /dev/stdin -d Training_Ice.dat\r\n",
      "Reading model section from /dev/stdin...\r\n",
      "39 lines were read\r\n",
      "Reading data section from Training_Ice.dat...\r\n",
      "Training_Ice.dat:128: warning: final NL missing before end of file\r\n",
      "128 lines were read\r\n",
      "Generating ExpectedCost...\r\n",
      "Generating Underage...\r\n",
      "Generating Overage...\r\n",
      "Generating S...\r\n",
      "Generating T...\r\n",
      "Model has been successfully generated\r\n",
      "GLPK Simplex Optimizer, v4.65\r\n",
      "1465 rows, 36 columns, 2400 non-zeros\r\n",
      "Preprocessing...\r\n",
      "821 rows, 33 columns, 1642 non-zeros\r\n",
      "Scaling...\r\n",
      " A: min|aij| =  1.000e-02  max|aij| =  1.000e+02  ratio =  1.000e+04\r\n",
      "GM: min|aij| =  2.783e-01  max|aij| =  3.593e+00  ratio =  1.291e+01\r\n",
      "EQ: min|aij| =  7.746e-02  max|aij| =  1.000e+00  ratio =  1.291e+01\r\n",
      "Constructing initial basis...\r\n",
      "Size of triangular part is 821\r\n",
      "      0: obj =   3.015000000e+03 inf =   3.620e+04 (362)\r\n",
      "    364: obj =   5.729895589e+03 inf =   0.000e+00 (0) 3\r\n",
      "*   369: obj =   5.648189918e+03 inf =   0.000e+00 (0)\r\n",
      "OPTIMAL LP SOLUTION FOUND\r\n",
      "Time used:   0.0 secs\r\n",
      "Memory used: 1.6 Mb (1695150 bytes)\r\n",
      "Display statement at line 37\r\n",
      "Beta[M].val = 0\r\n",
      "Beta[T].val = 0\r\n",
      "Beta[W].val = 6\r\n",
      "Beta[R].val = 0\r\n",
      "Beta[F].val = 0\r\n",
      "Beta[Tmax].val = 3.14447592067989\r\n",
      "Beta[Tmin].val = 4.57731958762886\r\n",
      "Beta[FeelsLike].val = 4.88215488215488\r\n",
      "Beta[Precipitation].val = 350\r\n",
      "Beta[WindSpeed].val = 9.06122448979592\r\n",
      "Beta[CloudCover].val = 3.12849162011173\r\n",
      "Beta[RelativeHumidity].val = 3.30393739908086\r\n",
      "Model has been successfully processed\r\n"
     ]
    }
   ],
   "source": [
    "%%script glpsol -m /dev/stdin -d Training_Ice.dat\n",
    "\n",
    "set ROWS;\n",
    "set COLS;\n",
    "\n",
    "param  A{i in ROWS,j in COLS};\n",
    "param B{i in ROWS};\n",
    "param c_u :=0.5;\n",
    "param c_o :=1.0;\n",
    "#param Beta >= 0;\n",
    "\n",
    "#param n :=;\n",
    "\n",
    "var s{j in COLS} >=0;\n",
    "var t{j in COLS} >=0;\n",
    "var Beta{COLS} >=0;\n",
    "\n",
    "# Objective function\n",
    "minimize ExpectedCost:\n",
    "sum{j in COLS}(c_u*s[j] + c_o*t[j]);\n",
    "    \n",
    "    \n",
    "# Constraints    \n",
    "subject to Underage{i in ROWS,j in COLS}:\n",
    "s[j] >= B[i] - A[i,j]*Beta[j];\n",
    "\n",
    "subject to Overage{i in ROWS,j in COLS}:\n",
    "t[j] >=  A[i,j]*Beta[j] - B[i]  ;\n",
    "\n",
    "subject to S{j in COLS}:\n",
    "s[j] >= 0;\n",
    "\n",
    "subject to T{j in COLS}:\n",
    "t[j] >= 0;\n",
    "\n",
    "solve;\n",
    "\n",
    "display Beta;\n",
    "\n",
    "end;"
   ]
  },
  {
   "cell_type": "markdown",
   "metadata": {},
   "source": [
    "With longer data , it outputs error has seen below."
   ]
  },
  {
   "cell_type": "code",
   "execution_count": 8,
   "metadata": {},
   "outputs": [
    {
     "name": "stdout",
     "output_type": "stream",
     "text": [
      "GLPSOL: GLPK LP/MIP Solver, v4.65\r\n",
      "Parameter(s) specified in the command line:\r\n",
      " -m /dev/stdin -d Training_Ice.dat\r\n",
      "Reading model section from /dev/stdin...\r\n",
      "39 lines were read\r\n",
      "Reading data section from Training_Ice.dat...\r\n",
      "Training_Ice.dat:20017: one item missing in data group beginning with 1084\r\n",
      "Context: ...996 ... 19995 951 19996 882 19997 875 19998 323 19999 1084 ;\r\n",
      "MathProg model processing error\r\n"
     ]
    },
    {
     "ename": "CalledProcessError",
     "evalue": "Command 'b'\\nset ROWS;\\nset COLS;\\n\\nparam  A{i in ROWS,j in COLS};\\nparam B{i in ROWS};\\nparam c_u :=0.5;\\nparam c_o :=1.0;\\n#param Beta >= 0;\\n\\n#param n :=;\\n\\nvar s{j in COLS} >=0;\\nvar t{j in COLS} >=0;\\nvar Beta{COLS} >=0;\\n\\n# Objective function\\nminimize ExpectedCost:\\nsum{j in COLS}(c_u*s[j] + c_o*t[j]);\\n    \\n    \\n# Constraints    \\nsubject to Underage{i in ROWS,j in COLS}:\\ns[j] >= B[i] - A[i,j]*Beta[j];\\n\\nsubject to Overage{i in ROWS,j in COLS}:\\nt[j] >=  A[i,j]*Beta[j] - B[i]  ;\\n\\nsubject to S{j in COLS}:\\ns[j] >= 0;\\n\\nsubject to T{j in COLS}:\\nt[j] >= 0;\\n\\nsolve;\\n\\ndisplay Beta;\\n\\nend;\\n'' returned non-zero exit status 1.",
     "output_type": "error",
     "traceback": [
      "\u001b[1;31m---------------------------------------------------------------------------\u001b[0m",
      "\u001b[1;31mCalledProcessError\u001b[0m                        Traceback (most recent call last)",
      "\u001b[1;32m<ipython-input-8-7b4e8d2b0a5c>\u001b[0m in \u001b[0;36m<module>\u001b[1;34m\u001b[0m\n\u001b[1;32m----> 1\u001b[1;33m \u001b[0mget_ipython\u001b[0m\u001b[1;33m(\u001b[0m\u001b[1;33m)\u001b[0m\u001b[1;33m.\u001b[0m\u001b[0mrun_cell_magic\u001b[0m\u001b[1;33m(\u001b[0m\u001b[1;34m'script'\u001b[0m\u001b[1;33m,\u001b[0m \u001b[1;34m'glpsol -m /dev/stdin -d Training_Ice.dat'\u001b[0m\u001b[1;33m,\u001b[0m \u001b[1;34m'\\nset ROWS;\\nset COLS;\\n\\nparam  A{i in ROWS,j in COLS};\\nparam B{i in ROWS};\\nparam c_u :=0.5;\\nparam c_o :=1.0;\\n#param Beta >= 0;\\n\\n#param n :=;\\n\\nvar s{j in COLS} >=0;\\nvar t{j in COLS} >=0;\\nvar Beta{COLS} >=0;\\n\\n# Objective function\\nminimize ExpectedCost:\\nsum{j in COLS}(c_u*s[j] + c_o*t[j]);\\n    \\n    \\n# Constraints    \\nsubject to Underage{i in ROWS,j in COLS}:\\ns[j] >= B[i] - A[i,j]*Beta[j];\\n\\nsubject to Overage{i in ROWS,j in COLS}:\\nt[j] >=  A[i,j]*Beta[j] - B[i]  ;\\n\\nsubject to S{j in COLS}:\\ns[j] >= 0;\\n\\nsubject to T{j in COLS}:\\nt[j] >= 0;\\n\\nsolve;\\n\\ndisplay Beta;\\n\\nend;\\n'\u001b[0m\u001b[1;33m)\u001b[0m\u001b[1;33m\u001b[0m\u001b[1;33m\u001b[0m\u001b[0m\n\u001b[0m",
      "\u001b[1;32m~\\anaconda3\\envs\\DNNpytorch\\lib\\site-packages\\IPython\\core\\interactiveshell.py\u001b[0m in \u001b[0;36mrun_cell_magic\u001b[1;34m(self, magic_name, line, cell)\u001b[0m\n\u001b[0;32m   2380\u001b[0m             \u001b[1;32mwith\u001b[0m \u001b[0mself\u001b[0m\u001b[1;33m.\u001b[0m\u001b[0mbuiltin_trap\u001b[0m\u001b[1;33m:\u001b[0m\u001b[1;33m\u001b[0m\u001b[1;33m\u001b[0m\u001b[0m\n\u001b[0;32m   2381\u001b[0m                 \u001b[0margs\u001b[0m \u001b[1;33m=\u001b[0m \u001b[1;33m(\u001b[0m\u001b[0mmagic_arg_s\u001b[0m\u001b[1;33m,\u001b[0m \u001b[0mcell\u001b[0m\u001b[1;33m)\u001b[0m\u001b[1;33m\u001b[0m\u001b[1;33m\u001b[0m\u001b[0m\n\u001b[1;32m-> 2382\u001b[1;33m                 \u001b[0mresult\u001b[0m \u001b[1;33m=\u001b[0m \u001b[0mfn\u001b[0m\u001b[1;33m(\u001b[0m\u001b[1;33m*\u001b[0m\u001b[0margs\u001b[0m\u001b[1;33m,\u001b[0m \u001b[1;33m**\u001b[0m\u001b[0mkwargs\u001b[0m\u001b[1;33m)\u001b[0m\u001b[1;33m\u001b[0m\u001b[1;33m\u001b[0m\u001b[0m\n\u001b[0m\u001b[0;32m   2383\u001b[0m             \u001b[1;32mreturn\u001b[0m \u001b[0mresult\u001b[0m\u001b[1;33m\u001b[0m\u001b[1;33m\u001b[0m\u001b[0m\n\u001b[0;32m   2384\u001b[0m \u001b[1;33m\u001b[0m\u001b[0m\n",
      "\u001b[1;32m<decorator-gen-104>\u001b[0m in \u001b[0;36mshebang\u001b[1;34m(self, line, cell)\u001b[0m\n",
      "\u001b[1;32m~\\anaconda3\\envs\\DNNpytorch\\lib\\site-packages\\IPython\\core\\magic.py\u001b[0m in \u001b[0;36m<lambda>\u001b[1;34m(f, *a, **k)\u001b[0m\n\u001b[0;32m    185\u001b[0m     \u001b[1;31m# but it's overkill for just that one bit of state.\u001b[0m\u001b[1;33m\u001b[0m\u001b[1;33m\u001b[0m\u001b[1;33m\u001b[0m\u001b[0m\n\u001b[0;32m    186\u001b[0m     \u001b[1;32mdef\u001b[0m \u001b[0mmagic_deco\u001b[0m\u001b[1;33m(\u001b[0m\u001b[0marg\u001b[0m\u001b[1;33m)\u001b[0m\u001b[1;33m:\u001b[0m\u001b[1;33m\u001b[0m\u001b[1;33m\u001b[0m\u001b[0m\n\u001b[1;32m--> 187\u001b[1;33m         \u001b[0mcall\u001b[0m \u001b[1;33m=\u001b[0m \u001b[1;32mlambda\u001b[0m \u001b[0mf\u001b[0m\u001b[1;33m,\u001b[0m \u001b[1;33m*\u001b[0m\u001b[0ma\u001b[0m\u001b[1;33m,\u001b[0m \u001b[1;33m**\u001b[0m\u001b[0mk\u001b[0m\u001b[1;33m:\u001b[0m \u001b[0mf\u001b[0m\u001b[1;33m(\u001b[0m\u001b[1;33m*\u001b[0m\u001b[0ma\u001b[0m\u001b[1;33m,\u001b[0m \u001b[1;33m**\u001b[0m\u001b[0mk\u001b[0m\u001b[1;33m)\u001b[0m\u001b[1;33m\u001b[0m\u001b[1;33m\u001b[0m\u001b[0m\n\u001b[0m\u001b[0;32m    188\u001b[0m \u001b[1;33m\u001b[0m\u001b[0m\n\u001b[0;32m    189\u001b[0m         \u001b[1;32mif\u001b[0m \u001b[0mcallable\u001b[0m\u001b[1;33m(\u001b[0m\u001b[0marg\u001b[0m\u001b[1;33m)\u001b[0m\u001b[1;33m:\u001b[0m\u001b[1;33m\u001b[0m\u001b[1;33m\u001b[0m\u001b[0m\n",
      "\u001b[1;32m~\\anaconda3\\envs\\DNNpytorch\\lib\\site-packages\\IPython\\core\\magics\\script.py\u001b[0m in \u001b[0;36mshebang\u001b[1;34m(self, line, cell)\u001b[0m\n\u001b[0;32m    243\u001b[0m             \u001b[0msys\u001b[0m\u001b[1;33m.\u001b[0m\u001b[0mstderr\u001b[0m\u001b[1;33m.\u001b[0m\u001b[0mflush\u001b[0m\u001b[1;33m(\u001b[0m\u001b[1;33m)\u001b[0m\u001b[1;33m\u001b[0m\u001b[1;33m\u001b[0m\u001b[0m\n\u001b[0;32m    244\u001b[0m         \u001b[1;32mif\u001b[0m \u001b[0margs\u001b[0m\u001b[1;33m.\u001b[0m\u001b[0mraise_error\u001b[0m \u001b[1;32mand\u001b[0m \u001b[0mp\u001b[0m\u001b[1;33m.\u001b[0m\u001b[0mreturncode\u001b[0m\u001b[1;33m!=\u001b[0m\u001b[1;36m0\u001b[0m\u001b[1;33m:\u001b[0m\u001b[1;33m\u001b[0m\u001b[1;33m\u001b[0m\u001b[0m\n\u001b[1;32m--> 245\u001b[1;33m             \u001b[1;32mraise\u001b[0m \u001b[0mCalledProcessError\u001b[0m\u001b[1;33m(\u001b[0m\u001b[0mp\u001b[0m\u001b[1;33m.\u001b[0m\u001b[0mreturncode\u001b[0m\u001b[1;33m,\u001b[0m \u001b[0mcell\u001b[0m\u001b[1;33m,\u001b[0m \u001b[0moutput\u001b[0m\u001b[1;33m=\u001b[0m\u001b[0mout\u001b[0m\u001b[1;33m,\u001b[0m \u001b[0mstderr\u001b[0m\u001b[1;33m=\u001b[0m\u001b[0merr\u001b[0m\u001b[1;33m)\u001b[0m\u001b[1;33m\u001b[0m\u001b[1;33m\u001b[0m\u001b[0m\n\u001b[0m\u001b[0;32m    246\u001b[0m \u001b[1;33m\u001b[0m\u001b[0m\n\u001b[0;32m    247\u001b[0m     \u001b[1;32mdef\u001b[0m \u001b[0m_run_script\u001b[0m\u001b[1;33m(\u001b[0m\u001b[0mself\u001b[0m\u001b[1;33m,\u001b[0m \u001b[0mp\u001b[0m\u001b[1;33m,\u001b[0m \u001b[0mcell\u001b[0m\u001b[1;33m,\u001b[0m \u001b[0mto_close\u001b[0m\u001b[1;33m)\u001b[0m\u001b[1;33m:\u001b[0m\u001b[1;33m\u001b[0m\u001b[1;33m\u001b[0m\u001b[0m\n",
      "\u001b[1;31mCalledProcessError\u001b[0m: Command 'b'\\nset ROWS;\\nset COLS;\\n\\nparam  A{i in ROWS,j in COLS};\\nparam B{i in ROWS};\\nparam c_u :=0.5;\\nparam c_o :=1.0;\\n#param Beta >= 0;\\n\\n#param n :=;\\n\\nvar s{j in COLS} >=0;\\nvar t{j in COLS} >=0;\\nvar Beta{COLS} >=0;\\n\\n# Objective function\\nminimize ExpectedCost:\\nsum{j in COLS}(c_u*s[j] + c_o*t[j]);\\n    \\n    \\n# Constraints    \\nsubject to Underage{i in ROWS,j in COLS}:\\ns[j] >= B[i] - A[i,j]*Beta[j];\\n\\nsubject to Overage{i in ROWS,j in COLS}:\\nt[j] >=  A[i,j]*Beta[j] - B[i]  ;\\n\\nsubject to S{j in COLS}:\\ns[j] >= 0;\\n\\nsubject to T{j in COLS}:\\nt[j] >= 0;\\n\\nsolve;\\n\\ndisplay Beta;\\n\\nend;\\n'' returned non-zero exit status 1."
     ]
    }
   ],
   "source": [
    "%%script glpsol -m /dev/stdin -d Training_Ice.dat\n",
    "\n",
    "set ROWS;\n",
    "set COLS;\n",
    "\n",
    "param  A{i in ROWS,j in COLS};\n",
    "param B{i in ROWS};\n",
    "param c_u :=0.5;\n",
    "param c_o :=1.0;\n",
    "#param Beta >= 0;\n",
    "\n",
    "#param n :=;\n",
    "\n",
    "var s{j in COLS} >=0;\n",
    "var t{j in COLS} >=0;\n",
    "var Beta{COLS} >=0;\n",
    "\n",
    "# Objective function\n",
    "minimize ExpectedCost:\n",
    "sum{j in COLS}(c_u*s[j] + c_o*t[j]);\n",
    "    \n",
    "    \n",
    "# Constraints    \n",
    "subject to Underage{i in ROWS,j in COLS}:\n",
    "s[j] >= B[i] - A[i,j]*Beta[j];\n",
    "\n",
    "subject to Overage{i in ROWS,j in COLS}:\n",
    "t[j] >=  A[i,j]*Beta[j] - B[i]  ;\n",
    "\n",
    "subject to S{j in COLS}:\n",
    "s[j] >= 0;\n",
    "\n",
    "subject to T{j in COLS}:\n",
    "t[j] >= 0;\n",
    "\n",
    "solve;\n",
    "\n",
    "display Beta;\n",
    "\n",
    "end;"
   ]
  },
  {
   "cell_type": "code",
   "execution_count": null,
   "metadata": {},
   "outputs": [],
   "source": []
  }
 ],
 "metadata": {
  "kernelspec": {
   "display_name": "Python 3",
   "language": "python",
   "name": "python3"
  },
  "language_info": {
   "codemirror_mode": {
    "name": "ipython",
    "version": 3
   },
   "file_extension": ".py",
   "mimetype": "text/x-python",
   "name": "python",
   "nbconvert_exporter": "python",
   "pygments_lexer": "ipython3",
   "version": "3.8.5"
  }
 },
 "nbformat": 4,
 "nbformat_minor": 4
}
