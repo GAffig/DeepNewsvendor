{
 "cells": [
  {
   "cell_type": "markdown",
   "metadata": {},
   "source": [
    "<h1 align='center'  style = 'margin-bottom: 0px'> GLKP Examples  </h1>\n",
    "<p>&nbsp;</p>\n",
    "\n",
    "$  % These are commands to simply writing vectors in bold. \n",
    "   \\newcommand{\\vec}[1]{ \\mathbf{#1} }\n",
    "   \\newcommand{\\RR}{\\mathbb{R}}\n",
    "   \\newcommand{\\B}[2][\\varepsilon]{ B_{#1} \\left( #2 \\right) }\n",
    "$  \n"
   ]
  },
  {
   "cell_type": "code",
   "execution_count": 3,
   "metadata": {},
   "outputs": [],
   "source": [
    "%matplotlib inline\n",
    "import matplotlib.pyplot as plt\n",
    "import numpy as np\n",
    "\n",
    "import pandas as pd"
   ]
  },
  {
   "cell_type": "code",
   "execution_count": 3,
   "metadata": {
    "scrolled": true
   },
   "outputs": [
    {
     "name": "stdout",
     "output_type": "stream",
     "text": [
      " Volume in drive C is Windows-SSD\n",
      " Volume Serial Number is F8B5-412E\n",
      "\n",
      " Directory of C:\\Users\\gaffi\\Downloads\\Thesis file\\Section 3 files\\DeepNewsvendorLarge\\DNV_Large\n",
      "\n",
      "06/09/2021  06:04 PM    <DIR>          .\n",
      "06/09/2021  06:04 PM    <DIR>          ..\n",
      "06/08/2021  04:38 PM    <DIR>          .ipynb_checkpoints\n",
      "06/08/2021  12:49 PM    <DIR>          __pycache__\n",
      "06/08/2021  03:39 PM            28,735 best_model.pth\n",
      "04/28/2021  02:07 PM               588 csv_utils.py\n",
      "05/24/2021  06:12 PM            26,767 data.ipynb\n",
      "04/28/2021  12:40 PM             1,314 data.py\n",
      "04/28/2021  12:40 PM               928 data_utils.py\n",
      "06/03/2021  04:27 PM           175,757 DemandSimulationIceCream.ipynb\n",
      "05/30/2021  09:40 AM             1,111 DietProblem.dat\n",
      "05/24/2021  01:27 PM         1,433,434 FeaturesAndDemands.csv\n",
      "04/28/2021  12:40 PM        10,763,600 final.csv\n",
      "04/28/2021  12:40 PM         8,289,936 foodmart_mysql.tar.gz\n",
      "06/08/2021  04:35 PM    <DIR>          glpk_4_65\n",
      "05/30/2021  09:40 AM           920,840 glpk_4_65.zip\n",
      "06/08/2021  05:34 PM            24,186 GLPK_Examples.ipynb\n",
      "04/28/2021  12:40 PM             1,041 hyperband.py\n",
      "06/08/2021  03:39 PM             2,667 LogTable.csv\n",
      "04/28/2021  12:40 PM             1,115 loss_function.py\n",
      "04/28/2021  12:40 PM             1,388 model.py\n",
      "06/09/2021  06:04 PM           210,629 NervousNV_Large.ipynb\n",
      "06/08/2021  12:40 PM               202 params.py\n",
      "06/08/2021  05:34 PM               162 PayoffData.dat\n",
      "04/28/2021  12:40 PM               153 README.md\n",
      "04/28/2021  12:40 PM        10,022,233 sales_fact_1997_8.csv\n",
      "06/08/2021  03:32 PM    <DIR>          simple_fc_idx_0\n",
      "06/08/2021  03:32 PM    <DIR>          simple_fc_idx_1\n",
      "06/08/2021  03:33 PM    <DIR>          simple_fc_idx_2\n",
      "06/08/2021  03:34 PM    <DIR>          simple_fc_idx_3\n",
      "06/08/2021  03:34 PM    <DIR>          simple_fc_idx_4\n",
      "06/08/2021  03:35 PM    <DIR>          simple_fc_idx_5\n",
      "06/08/2021  03:36 PM    <DIR>          simple_fc_idx_6\n",
      "06/08/2021  03:37 PM    <DIR>          simple_fc_idx_7\n",
      "06/08/2021  03:38 PM    <DIR>          simple_fc_idx_8\n",
      "06/08/2021  03:39 PM    <DIR>          simple_fc_idx_9\n",
      "05/24/2021  11:23 PM            54,562 test.npz\n",
      "05/24/2021  10:05 PM           266,562 test_Ice.csv\n",
      "05/24/2021  11:23 PM           216,811 train.npz\n",
      "04/28/2021  12:40 PM             3,545 train.py\n",
      "05/24/2021  10:06 PM         1,065,583 train_Ice.csv\n",
      "04/28/2021  12:40 PM             4,466 train_utils.py\n",
      "05/25/2021  08:06 AM            17,231 Training_Prediction Loss.svg\n",
      "05/25/2021  08:06 AM            17,394 Validation_Prediction Cost.svg\n",
      "              29 File(s)     33,552,940 bytes\n",
      "              15 Dir(s)  123,283,836,928 bytes free\n"
     ]
    }
   ],
   "source": [
    "ls"
   ]
  },
  {
   "cell_type": "code",
   "execution_count": 22,
   "metadata": {},
   "outputs": [
    {
     "name": "stdout",
     "output_type": "stream",
     "text": [
      "GLPSOL: GLPK LP/MIP Solver, v4.65\r\n",
      "Parameter(s) specified in the command line:\r\n",
      " -m /dev/stdin\r\n",
      "Reading model section from /dev/stdin...\r\n",
      "Reading data section from /dev/stdin...\r\n",
      "/dev/stdin:69: warning: unexpected end of file; missing end statement inserted\r\n",
      "69 lines were read\r\n",
      "Generating TotalCalories...\r\n",
      "Generating MustMeetMinRDA...\r\n",
      "Generating DontExceedMaxRDA...\r\n",
      "Model has been successfully generated\r\n",
      "GLPK Simplex Optimizer, v4.65\r\n",
      "13 rows, 4 columns, 48 non-zeros\r\n",
      "Preprocessing...\r\n",
      "12 rows, 4 columns, 44 non-zeros\r\n",
      "Scaling...\r\n",
      " A: min|aij| =  5.000e-01  max|aij| =  8.390e+02  ratio =  1.678e+03\r\n",
      "GM: min|aij| =  2.934e-01  max|aij| =  3.409e+00  ratio =  1.162e+01\r\n",
      "EQ: min|aij| =  8.607e-02  max|aij| =  1.000e+00  ratio =  1.162e+01\r\n",
      "Constructing initial basis...\r\n",
      "Size of triangular part is 12\r\n",
      "      0: obj =   0.000000000e+00 inf =   2.226e+01 (6)\r\n",
      "      8: obj =   2.100000000e+03 inf =   0.000e+00 (0)\r\n",
      "*    11: obj =   1.935877386e+03 inf =   0.000e+00 (0)\r\n",
      "OPTIMAL LP SOLUTION FOUND\r\n",
      "Time used:   0.0 secs\r\n",
      "Memory used: 0.1 Mb (131578 bytes)\r\n",
      "\r\n",
      "\r\n",
      " Food        Amount\r\n",
      " Rice        2.540 cups per day \r\n",
      "Beans        0.000 cups per day \r\n",
      "Spinach       15.870 cups per day \r\n",
      "Chicken        3.838 cups per day \r\n",
      "\r\n",
      "Total Calories = 1935.877\r\n",
      "\r\n",
      "Model has been successfully processed\r\n"
     ]
    }
   ],
   "source": [
    "%%script glpsol -m /dev/stdin \n",
    "\n",
    "# declare index sets \n",
    "set MENU;  # typically sets are written all caps\n",
    "set NUTRIENTS;\n",
    "\n",
    "\n",
    "# define parameters (data fills in parameters)\n",
    "param Calories{MENU}; \n",
    "param NutrientAmount{NUTRIENTS, MENU};\n",
    "param MinRDA{NUTRIENTS};\n",
    "param MaxRDA{NUTRIENTS};\n",
    "\n",
    "# define variables \n",
    "var DietInCups{MENU} >= 0 ;  \n",
    "\n",
    "\n",
    "# declare the objective \n",
    "minimize TotalCalories: sum{food in MENU} Calories[food]*DietInCups[food]; \n",
    "\n",
    "# subject to the constraints\n",
    "s.t.  MustMeetMinRDA{ category in NUTRIENTS}: \n",
    "      sum{food in MENU} NutrientAmount[category, food]*DietInCups[food] >= MinRDA[category];  \n",
    "s.t.  DontExceedMaxRDA{ category in NUTRIENTS}: \n",
    "      sum{food in MENU} NutrientAmount[category, food]*DietInCups[food] <= MaxRDA[category];  \n",
    "\n",
    "# solve\n",
    "solve;\n",
    "\n",
    "# display results\n",
    "printf \"\\n\\n%5s  %3s   %6s\\n\", 'Food', '','Amount';\n",
    "for {food in MENU}:\n",
    "    printf \"%5s  %3s %7.3f cups per day \\n\", food, '', DietInCups[food];\n",
    "printf \"\\nTotal Calories = %7.3f\\n\\n\", TotalCalories;\n",
    "\n",
    "data;\n",
    "\n",
    "set MENU := Rice Beans Spinach Chicken;\n",
    "set NUTRIENTS  := Fat Sodium Potassium Carbohydrates Protein Fiber ;\n",
    "\n",
    "param Calories :=\n",
    "        Rice    166\n",
    "        Beans   240 \n",
    "        Spinach  41 \n",
    "        Chicken 225 ;\n",
    "\n",
    "param MinRDA := \n",
    "        Fat               44\n",
    "        Sodium           100\n",
    "        Potassium       4700\n",
    "        Carbohydrates    200 \n",
    "        Protein           50  \n",
    "        Fiber             25  ;  \n",
    "\n",
    "param MaxRDA := \n",
    "        Fat              1e100   # enter huge number (can't enter \"Infinity\")\n",
    "        Sodium            2400\n",
    "        Potassium        1e100\n",
    "        Carbohydrates      300 \n",
    "        Protein          1e100 \n",
    "        Fiber            1e100    ;  \n",
    "        \n",
    "        \n",
    "param NutrientAmount:  Rice    Beans   Spinach  Chicken :=\n",
    "        Fat              0.6    0.6      0.5        9  \n",
    "        Sodium            5       6      126      101\n",
    "        Potassium       166     801      839      309\n",
    "        Carbohydrates    35      45        7        0\n",
    "        Protein           7      15        5       34\n",
    "        Fiber             3      15       4.3       0  ;  "
   ]
  },
  {
   "cell_type": "code",
   "execution_count": 5,
   "metadata": {},
   "outputs": [
    {
     "data": {
      "text/plain": [
       "1935.8600000000001"
      ]
     },
     "execution_count": 5,
     "metadata": {},
     "output_type": "execute_result"
    }
   ],
   "source": [
    "2.540*166 + 15.870 *41 +  225.0 *3.838"
   ]
  },
  {
   "cell_type": "code",
   "execution_count": 6,
   "metadata": {},
   "outputs": [
    {
     "name": "stdout",
     "output_type": "stream",
     "text": [
      "GLPSOL: GLPK LP/MIP Solver, v4.65\r\n",
      "Parameter(s) specified in the command line:\r\n",
      " -m /dev/stdin -d DietProblem.dat\r\n",
      "Reading model section from /dev/stdin...\r\n",
      "/dev/stdin:34: warning: unexpected end of file; missing end statement inserted\r\n",
      "34 lines were read\r\n",
      "Reading data section from DietProblem.dat...\r\n",
      "DietProblem.dat:33: warning: final NL missing before end of file\r\n",
      "DietProblem.dat:33: warning: unexpected end of file; missing end statement inserted\r\n",
      "33 lines were read\r\n",
      "Generating TotalCalories...\r\n",
      "Generating MustMeetMinRDA...\r\n",
      "Generating DontExceedMaxRDA...\r\n",
      "Model has been successfully generated\r\n",
      "GLPK Simplex Optimizer, v4.65\r\n",
      "13 rows, 4 columns, 48 non-zeros\r\n",
      "Preprocessing...\r\n",
      "12 rows, 4 columns, 44 non-zeros\r\n",
      "Scaling...\r\n",
      " A: min|aij| =  5.000e-01  max|aij| =  8.390e+02  ratio =  1.678e+03\r\n",
      "GM: min|aij| =  2.934e-01  max|aij| =  3.409e+00  ratio =  1.162e+01\r\n",
      "EQ: min|aij| =  8.607e-02  max|aij| =  1.000e+00  ratio =  1.162e+01\r\n",
      "Constructing initial basis...\r\n",
      "Size of triangular part is 12\r\n",
      "      0: obj =   0.000000000e+00 inf =   2.226e+01 (6)\r\n",
      "      8: obj =   2.100000000e+03 inf =   0.000e+00 (0)\r\n",
      "*    11: obj =   1.935877386e+03 inf =   0.000e+00 (0)\r\n",
      "OPTIMAL LP SOLUTION FOUND\r\n",
      "Time used:   0.0 secs\r\n",
      "Memory used: 0.1 Mb (131578 bytes)\r\n",
      "\r\n",
      "\r\n",
      " Food        Amount\r\n",
      " Rice        2.540 cups per day \r\n",
      "Beans        0.000 cups per day \r\n",
      "Spinach       15.870 cups per day \r\n",
      "Chicken        3.838 cups per day \r\n",
      "\r\n",
      "Total Calories = 1935.877\r\n",
      "\r\n",
      "Model has been successfully processed\r\n"
     ]
    }
   ],
   "source": [
    "%%script glpsol -m /dev/stdin -d DietProblem.dat\n",
    "\n",
    "# declare index sets \n",
    "set MENU;  # typically sets are written all caps\n",
    "set NUTRIENTS;\n",
    "\n",
    "\n",
    "# define parameters (data fills in parameters)\n",
    "param Calories{MENU}; \n",
    "param NutrientAmount{NUTRIENTS, MENU};\n",
    "param MinRDA{NUTRIENTS};\n",
    "param MaxRDA{NUTRIENTS};\n",
    "\n",
    "# define variables \n",
    "var DietInCups{MENU} >= 0 ;  \n",
    "\n",
    "\n",
    "# declare the objective \n",
    "minimize TotalCalories: sum{food in MENU} Calories[food]*DietInCups[food]; \n",
    "\n",
    "# subject to the constraints\n",
    "s.t.  MustMeetMinRDA{ category in NUTRIENTS}: \n",
    "      sum{food in MENU} NutrientAmount[category, food]*DietInCups[food] >= MinRDA[category];  \n",
    "s.t.  DontExceedMaxRDA{ category in NUTRIENTS}: \n",
    "      sum{food in MENU} NutrientAmount[category, food]*DietInCups[food] <= MaxRDA[category];  \n",
    "\n",
    "# solve\n",
    "solve;\n",
    "\n",
    "# display results\n",
    "printf \"\\n\\n%5s  %3s   %6s\\n\", 'Food', '','Amount';\n",
    "for {food in MENU}:\n",
    "    printf \"%5s  %3s %7.3f cups per day \\n\", food, '', DietInCups[food];\n",
    "printf \"\\nTotal Calories = %7.3f\\n\\n\", TotalCalories;\n",
    "\n"
   ]
  },
  {
   "cell_type": "code",
   "execution_count": null,
   "metadata": {},
   "outputs": [],
   "source": []
  },
  {
   "cell_type": "code",
   "execution_count": 4,
   "metadata": {},
   "outputs": [],
   "source": [
    "def ToGLPKdat(Df):\n",
    "    \"\"\"Df should be a DataFrame\n",
    "    \n",
    "    Quick and Dirty dat writer for Matrix Game \n",
    "    GLPK model. Df is Payoff Matrix.\"\"\"\n",
    "    Lines = 'set ROWS := '\n",
    "    for row in Df.index:\n",
    "        Lines += '%s ' % row\n",
    "    Lines += ';\\nset COLS := '\n",
    "    for col in Df.columns:\n",
    "        Lines += '%s ' % col\n",
    "    Lines +=';\\n\\nparam A: '\n",
    "    for col in Df.columns:\n",
    "        Lines += '%s ' % col\n",
    "    Lines += ':= '\n",
    "    for row in Df.index:\n",
    "        Lines += '\\n%s ' % row \n",
    "        for col in Df.columns:\n",
    "            Lines += '%s ' % Df.loc[row,col] \n",
    "    Lines += '; \\n \\nend;'\n",
    "    with open('PayoffData.dat','w') as FileObject:\n",
    "        print('Writing to PayoffData.dat')\n",
    "        FileObject.write(Lines)\n",
    "    return Lines"
   ]
  },
  {
   "cell_type": "code",
   "execution_count": 5,
   "metadata": {},
   "outputs": [
    {
     "data": {
      "text/html": [
       "<div>\n",
       "<style scoped>\n",
       "    .dataframe tbody tr th:only-of-type {\n",
       "        vertical-align: middle;\n",
       "    }\n",
       "\n",
       "    .dataframe tbody tr th {\n",
       "        vertical-align: top;\n",
       "    }\n",
       "\n",
       "    .dataframe thead th {\n",
       "        text-align: right;\n",
       "    }\n",
       "</style>\n",
       "<table border=\"1\" class=\"dataframe\">\n",
       "  <thead>\n",
       "    <tr style=\"text-align: right;\">\n",
       "      <th></th>\n",
       "      <th>Paper</th>\n",
       "      <th>Rock</th>\n",
       "      <th>Scissors</th>\n",
       "    </tr>\n",
       "  </thead>\n",
       "  <tbody>\n",
       "    <tr>\n",
       "      <th>Paper</th>\n",
       "      <td>0</td>\n",
       "      <td>1</td>\n",
       "      <td>-1</td>\n",
       "    </tr>\n",
       "    <tr>\n",
       "      <th>Rock</th>\n",
       "      <td>-1</td>\n",
       "      <td>0</td>\n",
       "      <td>1</td>\n",
       "    </tr>\n",
       "    <tr>\n",
       "      <th>Scissors</th>\n",
       "      <td>1</td>\n",
       "      <td>-1</td>\n",
       "      <td>0</td>\n",
       "    </tr>\n",
       "  </tbody>\n",
       "</table>\n",
       "</div>"
      ],
      "text/plain": [
       "          Paper  Rock  Scissors\n",
       "Paper         0     1        -1\n",
       "Rock         -1     0         1\n",
       "Scissors      1    -1         0"
      ]
     },
     "execution_count": 5,
     "metadata": {},
     "output_type": "execute_result"
    }
   ],
   "source": [
    "A = pd.DataFrame( np.array([[ 0, 1,-1],\n",
    "                            [-1, 0, 1],\n",
    "                            [ 1,-1, 0]]),\n",
    "                 columns = ['Paper','Rock','Scissors'],\n",
    "                 index   = ['Paper','Rock','Scissors'])\n",
    "A"
   ]
  },
  {
   "cell_type": "code",
   "execution_count": 6,
   "metadata": {
    "scrolled": true
   },
   "outputs": [
    {
     "name": "stdout",
     "output_type": "stream",
     "text": [
      "Writing to PayoffData.dat\n",
      "set ROWS := Paper Rock Scissors ;\n",
      "set COLS := Paper Rock Scissors ;\n",
      "\n",
      "param A: Paper Rock Scissors := \n",
      "Paper 0 1 -1 \n",
      "Rock -1 0 1 \n",
      "Scissors 1 -1 0 ; \n",
      " \n",
      "end;\n"
     ]
    }
   ],
   "source": [
    "print(ToGLPKdat(A))"
   ]
  },
  {
   "cell_type": "code",
   "execution_count": null,
   "metadata": {},
   "outputs": [],
   "source": []
  },
  {
   "cell_type": "code",
   "execution_count": 10,
   "metadata": {},
   "outputs": [
    {
     "name": "stdout",
     "output_type": "stream",
     "text": [
      "GLPSOL: GLPK LP/MIP Solver, v4.65\r\n",
      "Parameter(s) specified in the command line:\r\n",
      " -m /dev/stdin -d PayoffData.dat\r\n",
      "Reading model section from /dev/stdin...\r\n",
      "22 lines were read\r\n",
      "Reading data section from PayoffData.dat...\r\n",
      "PayoffData.dat:9: warning: final NL missing before end of file\r\n",
      "9 lines were read\r\n",
      "Generating MinOfPayoffs...\r\n",
      "Generating ExpectedPayoffs...\r\n",
      "Generating ProbDist...\r\n",
      "Model has been successfully generated\r\n",
      "GLPK Simplex Optimizer, v4.65\r\n",
      "5 rows, 4 columns, 13 non-zeros\r\n",
      "Preprocessing...\r\n",
      "4 rows, 4 columns, 12 non-zeros\r\n",
      "Scaling...\r\n",
      " A: min|aij| =  1.000e+00  max|aij| =  1.000e+00  ratio =  1.000e+00\r\n",
      "Problem data seem to be well scaled\r\n",
      "Constructing initial basis...\r\n",
      "Size of triangular part is 4\r\n",
      "      0: obj =  -0.000000000e+00 inf =   1.000e+00 (1)\r\n",
      "      2: obj =  -0.000000000e+00 inf =   0.000e+00 (0)\r\n",
      "*     3: obj =   0.000000000e+00 inf =   0.000e+00 (0)\r\n",
      "OPTIMAL LP SOLUTION FOUND\r\n",
      "Time used:   0.0 secs\r\n",
      "Memory used: 0.1 Mb (126475 bytes)\r\n",
      "Display statement at line 19\r\n",
      "p[Paper].val = 0.333333333333333\r\n",
      "p[Rock].val = 0.333333333333333\r\n",
      "p[Scissors].val = 0.333333333333333\r\n",
      "Display statement at line 20\r\n",
      "v.val = 0\r\n",
      "Model has been successfully processed\r\n"
     ]
    }
   ],
   "source": [
    "%%script glpsol -m /dev/stdin -d PayoffData.dat\n",
    "\n",
    "set ROWS;\n",
    "set COLS;\n",
    "param  A{ROWS,COLS};\n",
    "\n",
    "var p{COLS} >= 0;\n",
    "var v;\n",
    "\n",
    "maximize MinOfPayoffs: v;\n",
    "    \n",
    "subject to ExpectedPayoffs {i in ROWS}:\n",
    "sum{j in COLS} A[i,j] * p[j] >= v;\n",
    "\n",
    "subject to ProbDist:\n",
    "sum{j in COLS} p[j] = 1;\n",
    "\n",
    "solve;\n",
    "\n",
    "display p;\n",
    "display v;\n",
    "\n",
    "end;"
   ]
  },
  {
   "cell_type": "code",
   "execution_count": null,
   "metadata": {},
   "outputs": [],
   "source": []
  },
  {
   "cell_type": "code",
   "execution_count": null,
   "metadata": {},
   "outputs": [],
   "source": []
  },
  {
   "cell_type": "code",
   "execution_count": 11,
   "metadata": {},
   "outputs": [
    {
     "data": {
      "text/html": [
       "<div>\n",
       "<style scoped>\n",
       "    .dataframe tbody tr th:only-of-type {\n",
       "        vertical-align: middle;\n",
       "    }\n",
       "\n",
       "    .dataframe tbody tr th {\n",
       "        vertical-align: top;\n",
       "    }\n",
       "\n",
       "    .dataframe thead th {\n",
       "        text-align: right;\n",
       "    }\n",
       "</style>\n",
       "<table border=\"1\" class=\"dataframe\">\n",
       "  <thead>\n",
       "    <tr style=\"text-align: right;\">\n",
       "      <th></th>\n",
       "      <th>Run</th>\n",
       "      <th>Pass</th>\n",
       "    </tr>\n",
       "  </thead>\n",
       "  <tbody>\n",
       "    <tr>\n",
       "      <th>Regular</th>\n",
       "      <td>2</td>\n",
       "      <td>10</td>\n",
       "    </tr>\n",
       "    <tr>\n",
       "      <th>Blitz</th>\n",
       "      <td>6</td>\n",
       "      <td>-1</td>\n",
       "    </tr>\n",
       "  </tbody>\n",
       "</table>\n",
       "</div>"
      ],
      "text/plain": [
       "         Run  Pass\n",
       "Regular    2    10\n",
       "Blitz      6    -1"
      ]
     },
     "execution_count": 11,
     "metadata": {},
     "output_type": "execute_result"
    }
   ],
   "source": [
    "A = pd.DataFrame( np.array([[ 2, 10],\n",
    "                            [ 6, -1]]),\n",
    "                 columns = ['Run','Pass'],\n",
    "                 index   = ['Regular','Blitz'])\n",
    "A"
   ]
  },
  {
   "cell_type": "code",
   "execution_count": 12,
   "metadata": {},
   "outputs": [
    {
     "name": "stdout",
     "output_type": "stream",
     "text": [
      "Writing to PayoffData.dat\n"
     ]
    }
   ],
   "source": [
    "ToGLPKdat(A);"
   ]
  },
  {
   "cell_type": "code",
   "execution_count": 18,
   "metadata": {},
   "outputs": [
    {
     "name": "stdout",
     "output_type": "stream",
     "text": [
      "GLPSOL: GLPK LP/MIP Solver, v4.65\r\n",
      "Parameter(s) specified in the command line:\r\n",
      " -m /dev/stdin -d PayoffData.dat\r\n",
      "Reading model section from /dev/stdin...\r\n",
      "29 lines were read\r\n",
      "Reading data section from PayoffData.dat...\r\n",
      "PayoffData.dat:9: warning: final NL missing before end of file\r\n",
      "9 lines were read\r\n",
      "Generating MinOfPayoffs...\r\n",
      "Generating ExpectedPayoffs...\r\n",
      "Generating ProbDist...\r\n",
      "Model has been successfully generated\r\n",
      "GLPK Simplex Optimizer, v4.65\r\n",
      "5 rows, 4 columns, 13 non-zeros\r\n",
      "Preprocessing...\r\n",
      "4 rows, 4 columns, 12 non-zeros\r\n",
      "Scaling...\r\n",
      " A: min|aij| =  1.000e+00  max|aij| =  1.000e+00  ratio =  1.000e+00\r\n",
      "Problem data seem to be well scaled\r\n",
      "Constructing initial basis...\r\n",
      "Size of triangular part is 4\r\n",
      "      0: obj =  -0.000000000e+00 inf =   1.000e+00 (1)\r\n",
      "      2: obj =  -0.000000000e+00 inf =   0.000e+00 (0)\r\n",
      "*     3: obj =   0.000000000e+00 inf =   0.000e+00 (0)\r\n",
      "OPTIMAL LP SOLUTION FOUND\r\n",
      "Time used:   0.0 secs\r\n",
      "Memory used: 0.1 Mb (126475 bytes)\r\n",
      "Display statement at line 19\r\n",
      "p[Paper].val = 0.333333333333333\r\n",
      "p[Rock].val = 0.333333333333333\r\n",
      "p[Scissors].val = 0.333333333333333\r\n",
      "Display statement at line 20\r\n",
      "v.val = 0\r\n",
      "Display statement at line 22\r\n",
      "MinOfPayoffs.val = 0\r\n",
      "Display statement at line 23\r\n",
      "ExpectedPayoffs[Paper].val = 0\r\n",
      "ExpectedPayoffs[Rock].val = 0\r\n",
      "ExpectedPayoffs[Scissors].val = 0\r\n",
      "Model has been successfully processed\r\n"
     ]
    }
   ],
   "source": [
    "%%script glpsol -m /dev/stdin -d PayoffData.dat\n",
    "\n",
    "set ROWS;\n",
    "set COLS;\n",
    "param  A{ROWS,COLS};\n",
    "\n",
    "var p{COLS} >= 0;\n",
    "var v;\n",
    "\n",
    "maximize MinOfPayoffs: v;\n",
    "    \n",
    "subject to ExpectedPayoffs {i in ROWS}:\n",
    "sum{j in COLS} A[i,j] * p[j] >= v;\n",
    "\n",
    "subject to ProbDist:\n",
    "sum{j in COLS} p[j] = 1;\n",
    "\n",
    "solve;\n",
    "\n",
    "display p;\n",
    "display v;\n",
    "\n",
    "display MinOfPayoffs;\n",
    "display ExpectedPayoffs;\n",
    "\n",
    "\n",
    "\n",
    "\n",
    "\n",
    "end;"
   ]
  },
  {
   "cell_type": "code",
   "execution_count": 14,
   "metadata": {},
   "outputs": [
    {
     "data": {
      "text/plain": [
       "0.7333333333333333"
      ]
     },
     "execution_count": 14,
     "metadata": {},
     "output_type": "execute_result"
    }
   ],
   "source": [
    "11/15"
   ]
  },
  {
   "cell_type": "code",
   "execution_count": null,
   "metadata": {},
   "outputs": [],
   "source": []
  }
 ],
 "metadata": {
  "kernelspec": {
   "display_name": "Python 3",
   "language": "python",
   "name": "python3"
  },
  "language_info": {
   "codemirror_mode": {
    "name": "ipython",
    "version": 3
   },
   "file_extension": ".py",
   "mimetype": "text/x-python",
   "name": "python",
   "nbconvert_exporter": "python",
   "pygments_lexer": "ipython3",
   "version": "3.8.5"
  }
 },
 "nbformat": 4,
 "nbformat_minor": 2
}
