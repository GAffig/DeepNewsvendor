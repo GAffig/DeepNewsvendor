{
 "cells": [
  {
   "cell_type": "markdown",
   "metadata": {},
   "source": [
    "<h1 align='center'> College \"Snack\" Demand Generation </h1>\n",
    "\n",
    "Simulated Demands for \"daily Ice Cream\" snack at a hypothetical \"university\" with __N_students__ students.  "
   ]
  },
  {
   "cell_type": "code",
   "execution_count": 1,
   "metadata": {},
   "outputs": [],
   "source": [
    "%matplotlib inline\n",
    "import matplotlib.pyplot as plt\n",
    "\n",
    "import numpy as np\n",
    "import pandas as pd\n",
    "\n",
    "from numpy.random import choice, rand, uniform\n",
    "\n",
    "import tqdm.notebook as tqdm"
   ]
  },
  {
   "cell_type": "code",
   "execution_count": null,
   "metadata": {},
   "outputs": [],
   "source": []
  },
  {
   "cell_type": "markdown",
   "metadata": {},
   "source": [
    "__Scenario:__ A campus of $N$ students, where each student \n",
    "1. Takes 15 hours of classes ( = 5 courses at 3 hours each)\n",
    "2. Obtains lunch either from the \"commons\" or from one of a number of local food trucks\n",
    "3. Often gets something \"on the fly\" from an ice cream or coffee vendor \n"
   ]
  },
  {
   "cell_type": "code",
   "execution_count": 36,
   "metadata": {},
   "outputs": [],
   "source": [
    "ScheduleTimes = {('M','W','F'):[8,9,10,11,12,13,14,15,16],  #Military time\n",
    "                 ('T','R'):[8,9.5,11,12.5,14,15.5]  }  #classes are 1.5 hours on TR \n",
    "\n",
    "MWF = [8,9,10,11,12,13,14,15,16]\n",
    "TR  = [8,9.5,11,12.5,14,15.5]"
   ]
  },
  {
   "cell_type": "code",
   "execution_count": null,
   "metadata": {},
   "outputs": [],
   "source": []
  },
  {
   "cell_type": "code",
   "execution_count": 37,
   "metadata": {},
   "outputs": [],
   "source": [
    "μ_demand = 500  # Assuming No Features \n",
    "RANDOM_SEED = 42\n",
    "\n",
    "SIM_TIME = 300 # minutes per day\n",
    "SIM_START = 10.  # hours\n",
    "SIM_END   = 15.  # hours\n",
    "N_students = 10_000\n",
    "nclasses = 5  # number of courses each student takes \n",
    "pTR = 2/3 # probability of scheduling a course on a Tuesday or Thursday\n",
    "\n",
    "\n",
    "\n",
    "class CollegeStudent(object):\n",
    "    \"\"\"A template for the features relevant to buying either ice cream or \n",
    "    hot chocolate for a student at a university with $N$ students\"\"\"\n",
    "    \n",
    "    def __init__(self, p_NoFeatures = μ_demand/N_students ):    \n",
    "        '''Construct the Features that motivate a student to buy either icecream or hot chocolate '''\n",
    "        ## Initialize \n",
    "        self.p_MWF = p_NoFeatures / (1-pTR)\n",
    "        self.p_TR  = p_NoFeatures / pTR\n",
    "            \n",
    "        ## Build Schedule \n",
    "        MWF = [8.,9.,10.,11.,12.,13.,14.,15.,16.]\n",
    "        TR  = [8.,9.5,11.,12.5,14.,15.5]\n",
    "        self.sched = {'MWF':[],'TR':[]}\n",
    "        for i in range(nclasses):\n",
    "            if( rand() < pTR and len(self.sched['TR']) < 5 ):\n",
    "                ## Force at least one MWF course -- if all courses are TR, \n",
    "                ## then no times on MWTRF that student goes to vendor\n",
    "                crse = choice(TR)\n",
    "                self.sched['TR'].append(crse)\n",
    "                TR.remove(crse)\n",
    "            else:\n",
    "                crse = choice(MWF)\n",
    "                self.sched['MWF'].append(crse)\n",
    "                MWF.remove(crse)\n",
    "        if( len(self.sched['MWF']) > 0 ): self.sched['MWF'].sort()\n",
    "        if( len(self.sched['TR'] ) > 0 ): self.sched['TR' ].sort()\n",
    "            \n",
    "        ## pairs start time and menu choice\n",
    "        self.FoodOps = dict()  # At most 1 per day\n",
    "        for day in ['M','T','W','R','F']:\n",
    "            self.FoodOps[day] = []\n",
    "            daydur = ('MWF',1.0) if day in ['M','W','F'] else ('TR',1.5)\n",
    "                 \n",
    "            ndurs = len(self.sched[daydur[0]])\n",
    "            if( ndurs == 0): continue \n",
    "            \n",
    "            ## Food Ops between 10 a.m. and 3 p.m. \n",
    "            if( self.sched[daydur[0]][0] > SIM_START):\n",
    "                self.FoodOps[day].append( (SIM_START, self.sched[daydur[0]][0] ) ) \n",
    "\n",
    "            for i in range( ndurs ):\n",
    "                start_time = max(10,self.sched[daydur[0]][i] + daydur[1])\n",
    "                if( i+1 < ndurs ): \n",
    "                    end_time = min(SIM_END, self.sched[daydur[0]][i+1])\n",
    "                else:\n",
    "                    end_time = SIM_END \n",
    "                if( start_time < end_time):\n",
    "                    self.FoodOps[day].append( (start_time, end_time) )\n",
    "    \n",
    "    def GetSnackTime(self,day):\n",
    "        ## Negative if no snack time available that day\n",
    "        if(len(self.FoodOps[day]) > 0):\n",
    "            snackperiod = self.FoodOps[day][choice(range(len(self.FoodOps[day])))]\n",
    "            return np.round(uniform(*snackperiod),4)\n",
    "        else:\n",
    "            return -1\n",
    "            \n",
    "    \n",
    "    def BuyIceCream(self, day, FeatureScales = None, ignore = False ):  # does student buy ice cream at time t\n",
    "        \"\"\"Student Decides to buy ice cream or not: \n",
    "        \n",
    "        returns Number_purchased  \"\"\"\n",
    "        if( day in ['T','R'] ): \n",
    "            p = self.p_TR  \n",
    "        else:\n",
    "            p = self.p_MWF \n",
    "        odds = p/(1-p) ## Features increase or decrease the odds \n",
    "            \n",
    "        if( len(self.FoodOps[day]) == 0):\n",
    "            return 0 ## Nothing purchased this day\n",
    "        if( not ignore ):  #Ignore all features other than what day it is\n",
    "            ## Features Scale Proportionally \n",
    "            WinLen = 0\n",
    "            for per in self.FoodOps[day]:\n",
    "                WinLen += 60*(per[1] - per[0]) ## in minutes\n",
    "            odds = odds * WinLen / SIM_TIME  ## restricted opporunity decreases the odds \n",
    "\n",
    "            if(np.iterable(FeatureScales) ):\n",
    "                for scaler in FeatureScales:\n",
    "                    odds *= scaler  # scalers are positive ( not zero )\n",
    "                    \n",
    "        p = odds/(odds + 1)  # tranform back to a probability\n",
    "        if( rand() < p):\n",
    "            return 1  #buys one ice cream\n",
    "        else:\n",
    "            return 0\n",
    "                \n",
    "    def __repr__(self):\n",
    "        return self.sched.__repr__() + '\\n' + self.FoodOps.__repr__()"
   ]
  },
  {
   "cell_type": "code",
   "execution_count": 38,
   "metadata": {},
   "outputs": [
    {
     "data": {
      "text/plain": [
       "{'MWF': [9.0, 10.0, 14.0, 16.0], 'TR': [11.0]}\n",
       "{'M': [(11.0, 14.0)], 'T': [(10.0, 11.0), (12.5, 15.0)], 'W': [(11.0, 14.0)], 'R': [(10.0, 11.0), (12.5, 15.0)], 'F': [(11.0, 14.0)]}"
      ]
     },
     "execution_count": 38,
     "metadata": {},
     "output_type": "execute_result"
    }
   ],
   "source": [
    "Fred = CollegeStudent()\n",
    "Fred"
   ]
  },
  {
   "cell_type": "code",
   "execution_count": 39,
   "metadata": {},
   "outputs": [
    {
     "data": {
      "text/plain": [
       "13.8844"
      ]
     },
     "execution_count": 39,
     "metadata": {},
     "output_type": "execute_result"
    }
   ],
   "source": [
    "Fred.GetSnackTime('M')"
   ]
  },
  {
   "cell_type": "code",
   "execution_count": 40,
   "metadata": {},
   "outputs": [
    {
     "data": {
      "text/plain": [
       "0"
      ]
     },
     "execution_count": 40,
     "metadata": {},
     "output_type": "execute_result"
    }
   ],
   "source": [
    "Fred.BuyIceCream('M')"
   ]
  },
  {
   "cell_type": "code",
   "execution_count": null,
   "metadata": {},
   "outputs": [],
   "source": []
  },
  {
   "cell_type": "code",
   "execution_count": 42,
   "metadata": {},
   "outputs": [
    {
     "data": {
      "text/html": [
       "<div>\n",
       "<style scoped>\n",
       "    .dataframe tbody tr th:only-of-type {\n",
       "        vertical-align: middle;\n",
       "    }\n",
       "\n",
       "    .dataframe tbody tr th {\n",
       "        vertical-align: top;\n",
       "    }\n",
       "\n",
       "    .dataframe thead th {\n",
       "        text-align: right;\n",
       "    }\n",
       "</style>\n",
       "<table border=\"1\" class=\"dataframe\">\n",
       "  <thead>\n",
       "    <tr style=\"text-align: right;\">\n",
       "      <th></th>\n",
       "      <th>Maximum Temperature</th>\n",
       "      <th>Minimum Temperature</th>\n",
       "      <th>Temperature</th>\n",
       "      <th>Wind Chill</th>\n",
       "      <th>Heat Index</th>\n",
       "      <th>Precipitation</th>\n",
       "      <th>Snow</th>\n",
       "      <th>Snow Depth</th>\n",
       "      <th>Wind Speed</th>\n",
       "      <th>Wind Direction</th>\n",
       "      <th>Wind Gust</th>\n",
       "      <th>Visibility</th>\n",
       "      <th>Cloud Cover</th>\n",
       "      <th>Relative Humidity</th>\n",
       "      <th>Conditions</th>\n",
       "    </tr>\n",
       "    <tr>\n",
       "      <th>Date time</th>\n",
       "      <th></th>\n",
       "      <th></th>\n",
       "      <th></th>\n",
       "      <th></th>\n",
       "      <th></th>\n",
       "      <th></th>\n",
       "      <th></th>\n",
       "      <th></th>\n",
       "      <th></th>\n",
       "      <th></th>\n",
       "      <th></th>\n",
       "      <th></th>\n",
       "      <th></th>\n",
       "      <th></th>\n",
       "      <th></th>\n",
       "    </tr>\n",
       "  </thead>\n",
       "  <tbody>\n",
       "    <tr>\n",
       "      <th>8/24/2020</th>\n",
       "      <td>86.5</td>\n",
       "      <td>66.4</td>\n",
       "      <td>74.8</td>\n",
       "      <td>NaN</td>\n",
       "      <td>88.9</td>\n",
       "      <td>0.00</td>\n",
       "      <td>0.00</td>\n",
       "      <td>0.00</td>\n",
       "      <td>6.4</td>\n",
       "      <td>139.25</td>\n",
       "      <td>16.1</td>\n",
       "      <td>8.9</td>\n",
       "      <td>57.1</td>\n",
       "      <td>77.67</td>\n",
       "      <td>Partially cloudy</td>\n",
       "    </tr>\n",
       "    <tr>\n",
       "      <th>8/25/2020</th>\n",
       "      <td>87.8</td>\n",
       "      <td>66.8</td>\n",
       "      <td>76.6</td>\n",
       "      <td>NaN</td>\n",
       "      <td>89.2</td>\n",
       "      <td>0.00</td>\n",
       "      <td>0.00</td>\n",
       "      <td>0.00</td>\n",
       "      <td>10.4</td>\n",
       "      <td>207.71</td>\n",
       "      <td>23.0</td>\n",
       "      <td>9.4</td>\n",
       "      <td>41.4</td>\n",
       "      <td>74.50</td>\n",
       "      <td>Partially cloudy</td>\n",
       "    </tr>\n",
       "    <tr>\n",
       "      <th>8/26/2020</th>\n",
       "      <td>89.0</td>\n",
       "      <td>65.6</td>\n",
       "      <td>76.5</td>\n",
       "      <td>NaN</td>\n",
       "      <td>91.5</td>\n",
       "      <td>0.00</td>\n",
       "      <td>0.00</td>\n",
       "      <td>0.00</td>\n",
       "      <td>6.9</td>\n",
       "      <td>191.42</td>\n",
       "      <td>16.1</td>\n",
       "      <td>9.1</td>\n",
       "      <td>39.4</td>\n",
       "      <td>76.62</td>\n",
       "      <td>Partially cloudy</td>\n",
       "    </tr>\n",
       "    <tr>\n",
       "      <th>8/27/2020</th>\n",
       "      <td>86.9</td>\n",
       "      <td>66.8</td>\n",
       "      <td>76.4</td>\n",
       "      <td>NaN</td>\n",
       "      <td>91.1</td>\n",
       "      <td>0.00</td>\n",
       "      <td>0.00</td>\n",
       "      <td>0.00</td>\n",
       "      <td>10.4</td>\n",
       "      <td>158.04</td>\n",
       "      <td>19.7</td>\n",
       "      <td>8.9</td>\n",
       "      <td>52.0</td>\n",
       "      <td>80.55</td>\n",
       "      <td>Partially cloudy</td>\n",
       "    </tr>\n",
       "    <tr>\n",
       "      <th>8/28/2020</th>\n",
       "      <td>85.4</td>\n",
       "      <td>68.2</td>\n",
       "      <td>76.3</td>\n",
       "      <td>NaN</td>\n",
       "      <td>90.3</td>\n",
       "      <td>0.42</td>\n",
       "      <td>0.00</td>\n",
       "      <td>0.00</td>\n",
       "      <td>6.5</td>\n",
       "      <td>150.79</td>\n",
       "      <td>11.4</td>\n",
       "      <td>8.5</td>\n",
       "      <td>49.8</td>\n",
       "      <td>82.33</td>\n",
       "      <td>Rain, Partially cloudy</td>\n",
       "    </tr>\n",
       "    <tr>\n",
       "      <th>...</th>\n",
       "      <td>...</td>\n",
       "      <td>...</td>\n",
       "      <td>...</td>\n",
       "      <td>...</td>\n",
       "      <td>...</td>\n",
       "      <td>...</td>\n",
       "      <td>...</td>\n",
       "      <td>...</td>\n",
       "      <td>...</td>\n",
       "      <td>...</td>\n",
       "      <td>...</td>\n",
       "      <td>...</td>\n",
       "      <td>...</td>\n",
       "      <td>...</td>\n",
       "      <td>...</td>\n",
       "    </tr>\n",
       "    <tr>\n",
       "      <th>11/27/2020</th>\n",
       "      <td>59.8</td>\n",
       "      <td>35.7</td>\n",
       "      <td>46.1</td>\n",
       "      <td>NaN</td>\n",
       "      <td>NaN</td>\n",
       "      <td>0.00</td>\n",
       "      <td>0.00</td>\n",
       "      <td>0.00</td>\n",
       "      <td>8.8</td>\n",
       "      <td>143.59</td>\n",
       "      <td>19.7</td>\n",
       "      <td>7.9</td>\n",
       "      <td>47.2</td>\n",
       "      <td>80.61</td>\n",
       "      <td>Partially cloudy</td>\n",
       "    </tr>\n",
       "    <tr>\n",
       "      <th>11/28/2020</th>\n",
       "      <td>59.3</td>\n",
       "      <td>38.8</td>\n",
       "      <td>48.6</td>\n",
       "      <td>39.1</td>\n",
       "      <td>NaN</td>\n",
       "      <td>0.00</td>\n",
       "      <td>0.00</td>\n",
       "      <td>0.00</td>\n",
       "      <td>6.8</td>\n",
       "      <td>161.50</td>\n",
       "      <td>23.0</td>\n",
       "      <td>9.9</td>\n",
       "      <td>40.7</td>\n",
       "      <td>70.48</td>\n",
       "      <td>Partially cloudy</td>\n",
       "    </tr>\n",
       "    <tr>\n",
       "      <th>11/29/2020</th>\n",
       "      <td>57.6</td>\n",
       "      <td>32.4</td>\n",
       "      <td>44.8</td>\n",
       "      <td>44.3</td>\n",
       "      <td>NaN</td>\n",
       "      <td>0.01</td>\n",
       "      <td>0.00</td>\n",
       "      <td>0.00</td>\n",
       "      <td>5.1</td>\n",
       "      <td>37.96</td>\n",
       "      <td>NaN</td>\n",
       "      <td>9.6</td>\n",
       "      <td>51.7</td>\n",
       "      <td>74.01</td>\n",
       "      <td>Rain, Partially cloudy</td>\n",
       "    </tr>\n",
       "    <tr>\n",
       "      <th>11/30/2020</th>\n",
       "      <td>49.4</td>\n",
       "      <td>33.0</td>\n",
       "      <td>42.4</td>\n",
       "      <td>24.0</td>\n",
       "      <td>NaN</td>\n",
       "      <td>0.39</td>\n",
       "      <td>0.00</td>\n",
       "      <td>0.00</td>\n",
       "      <td>16.1</td>\n",
       "      <td>197.29</td>\n",
       "      <td>33.3</td>\n",
       "      <td>7.8</td>\n",
       "      <td>98.4</td>\n",
       "      <td>90.69</td>\n",
       "      <td>Rain, Overcast</td>\n",
       "    </tr>\n",
       "    <tr>\n",
       "      <th>12/1/2020</th>\n",
       "      <td>32.6</td>\n",
       "      <td>28.4</td>\n",
       "      <td>30.0</td>\n",
       "      <td>17.8</td>\n",
       "      <td>NaN</td>\n",
       "      <td>0.07</td>\n",
       "      <td>1.15</td>\n",
       "      <td>1.15</td>\n",
       "      <td>14.8</td>\n",
       "      <td>261.00</td>\n",
       "      <td>28.9</td>\n",
       "      <td>7.2</td>\n",
       "      <td>99.4</td>\n",
       "      <td>81.03</td>\n",
       "      <td>Snow, Overcast</td>\n",
       "    </tr>\n",
       "  </tbody>\n",
       "</table>\n",
       "<p>100 rows × 15 columns</p>\n",
       "</div>"
      ],
      "text/plain": [
       "            Maximum Temperature  Minimum Temperature  Temperature  Wind Chill  \\\n",
       "Date time                                                                       \n",
       "8/24/2020                  86.5                 66.4         74.8         NaN   \n",
       "8/25/2020                  87.8                 66.8         76.6         NaN   \n",
       "8/26/2020                  89.0                 65.6         76.5         NaN   \n",
       "8/27/2020                  86.9                 66.8         76.4         NaN   \n",
       "8/28/2020                  85.4                 68.2         76.3         NaN   \n",
       "...                         ...                  ...          ...         ...   \n",
       "11/27/2020                 59.8                 35.7         46.1         NaN   \n",
       "11/28/2020                 59.3                 38.8         48.6        39.1   \n",
       "11/29/2020                 57.6                 32.4         44.8        44.3   \n",
       "11/30/2020                 49.4                 33.0         42.4        24.0   \n",
       "12/1/2020                  32.6                 28.4         30.0        17.8   \n",
       "\n",
       "            Heat Index  Precipitation  Snow  Snow Depth  Wind Speed  \\\n",
       "Date time                                                             \n",
       "8/24/2020         88.9           0.00  0.00        0.00         6.4   \n",
       "8/25/2020         89.2           0.00  0.00        0.00        10.4   \n",
       "8/26/2020         91.5           0.00  0.00        0.00         6.9   \n",
       "8/27/2020         91.1           0.00  0.00        0.00        10.4   \n",
       "8/28/2020         90.3           0.42  0.00        0.00         6.5   \n",
       "...                ...            ...   ...         ...         ...   \n",
       "11/27/2020         NaN           0.00  0.00        0.00         8.8   \n",
       "11/28/2020         NaN           0.00  0.00        0.00         6.8   \n",
       "11/29/2020         NaN           0.01  0.00        0.00         5.1   \n",
       "11/30/2020         NaN           0.39  0.00        0.00        16.1   \n",
       "12/1/2020          NaN           0.07  1.15        1.15        14.8   \n",
       "\n",
       "            Wind Direction  Wind Gust  Visibility  Cloud Cover  \\\n",
       "Date time                                                        \n",
       "8/24/2020           139.25       16.1         8.9         57.1   \n",
       "8/25/2020           207.71       23.0         9.4         41.4   \n",
       "8/26/2020           191.42       16.1         9.1         39.4   \n",
       "8/27/2020           158.04       19.7         8.9         52.0   \n",
       "8/28/2020           150.79       11.4         8.5         49.8   \n",
       "...                    ...        ...         ...          ...   \n",
       "11/27/2020          143.59       19.7         7.9         47.2   \n",
       "11/28/2020          161.50       23.0         9.9         40.7   \n",
       "11/29/2020           37.96        NaN         9.6         51.7   \n",
       "11/30/2020          197.29       33.3         7.8         98.4   \n",
       "12/1/2020           261.00       28.9         7.2         99.4   \n",
       "\n",
       "            Relative Humidity              Conditions  \n",
       "Date time                                              \n",
       "8/24/2020               77.67        Partially cloudy  \n",
       "8/25/2020               74.50        Partially cloudy  \n",
       "8/26/2020               76.62        Partially cloudy  \n",
       "8/27/2020               80.55        Partially cloudy  \n",
       "8/28/2020               82.33  Rain, Partially cloudy  \n",
       "...                       ...                     ...  \n",
       "11/27/2020              80.61        Partially cloudy  \n",
       "11/28/2020              70.48        Partially cloudy  \n",
       "11/29/2020              74.01  Rain, Partially cloudy  \n",
       "11/30/2020              90.69          Rain, Overcast  \n",
       "12/1/2020               81.03          Snow, Overcast  \n",
       "\n",
       "[100 rows x 15 columns]"
      ]
     },
     "execution_count": 42,
     "metadata": {},
     "output_type": "execute_result"
    }
   ],
   "source": [
    "DailyData = pd.read_csv('ETSU2020-2021AcademicYear.csv', index_col=0)\n",
    "DailyData.head(100)"
   ]
  },
  {
   "cell_type": "code",
   "execution_count": 45,
   "metadata": {},
   "outputs": [
    {
     "data": {
      "text/plain": [
       "Index(['Maximum Temperature', 'Minimum Temperature', 'Temperature',\n",
       "       'Wind Chill', 'Heat Index', 'Precipitation', 'Snow', 'Snow Depth',\n",
       "       'Wind Speed', 'Wind Direction', 'Wind Gust', 'Visibility',\n",
       "       'Cloud Cover', 'Relative Humidity', 'Conditions', 'Day'],\n",
       "      dtype='object')"
      ]
     },
     "execution_count": 45,
     "metadata": {},
     "output_type": "execute_result"
    }
   ],
   "source": [
    "columns = DailyData.columns\n",
    "columns"
   ]
  },
  {
   "cell_type": "code",
   "execution_count": 46,
   "metadata": {},
   "outputs": [
    {
     "data": {
      "text/html": [
       "<div>\n",
       "<style scoped>\n",
       "    .dataframe tbody tr th:only-of-type {\n",
       "        vertical-align: middle;\n",
       "    }\n",
       "\n",
       "    .dataframe tbody tr th {\n",
       "        vertical-align: top;\n",
       "    }\n",
       "\n",
       "    .dataframe thead th {\n",
       "        text-align: right;\n",
       "    }\n",
       "</style>\n",
       "<table border=\"1\" class=\"dataframe\">\n",
       "  <thead>\n",
       "    <tr style=\"text-align: right;\">\n",
       "      <th></th>\n",
       "      <th>Day</th>\n",
       "      <th>Maximum Temperature</th>\n",
       "      <th>Minimum Temperature</th>\n",
       "      <th>Wind Chill</th>\n",
       "      <th>Heat Index</th>\n",
       "      <th>Precipitation</th>\n",
       "      <th>Wind Speed</th>\n",
       "      <th>Cloud Cover</th>\n",
       "      <th>Relative Humidity</th>\n",
       "    </tr>\n",
       "    <tr>\n",
       "      <th>Date time</th>\n",
       "      <th></th>\n",
       "      <th></th>\n",
       "      <th></th>\n",
       "      <th></th>\n",
       "      <th></th>\n",
       "      <th></th>\n",
       "      <th></th>\n",
       "      <th></th>\n",
       "      <th></th>\n",
       "    </tr>\n",
       "  </thead>\n",
       "  <tbody>\n",
       "    <tr>\n",
       "      <th>8/24/2020</th>\n",
       "      <td>M</td>\n",
       "      <td>86.5</td>\n",
       "      <td>66.4</td>\n",
       "      <td>NaN</td>\n",
       "      <td>88.9</td>\n",
       "      <td>0.00</td>\n",
       "      <td>6.4</td>\n",
       "      <td>57.1</td>\n",
       "      <td>77.67</td>\n",
       "    </tr>\n",
       "    <tr>\n",
       "      <th>8/25/2020</th>\n",
       "      <td>T</td>\n",
       "      <td>87.8</td>\n",
       "      <td>66.8</td>\n",
       "      <td>NaN</td>\n",
       "      <td>89.2</td>\n",
       "      <td>0.00</td>\n",
       "      <td>10.4</td>\n",
       "      <td>41.4</td>\n",
       "      <td>74.50</td>\n",
       "    </tr>\n",
       "    <tr>\n",
       "      <th>8/26/2020</th>\n",
       "      <td>W</td>\n",
       "      <td>89.0</td>\n",
       "      <td>65.6</td>\n",
       "      <td>NaN</td>\n",
       "      <td>91.5</td>\n",
       "      <td>0.00</td>\n",
       "      <td>6.9</td>\n",
       "      <td>39.4</td>\n",
       "      <td>76.62</td>\n",
       "    </tr>\n",
       "    <tr>\n",
       "      <th>8/27/2020</th>\n",
       "      <td>R</td>\n",
       "      <td>86.9</td>\n",
       "      <td>66.8</td>\n",
       "      <td>NaN</td>\n",
       "      <td>91.1</td>\n",
       "      <td>0.00</td>\n",
       "      <td>10.4</td>\n",
       "      <td>52.0</td>\n",
       "      <td>80.55</td>\n",
       "    </tr>\n",
       "    <tr>\n",
       "      <th>8/28/2020</th>\n",
       "      <td>F</td>\n",
       "      <td>85.4</td>\n",
       "      <td>68.2</td>\n",
       "      <td>NaN</td>\n",
       "      <td>90.3</td>\n",
       "      <td>0.42</td>\n",
       "      <td>6.5</td>\n",
       "      <td>49.8</td>\n",
       "      <td>82.33</td>\n",
       "    </tr>\n",
       "  </tbody>\n",
       "</table>\n",
       "</div>"
      ],
      "text/plain": [
       "          Day  Maximum Temperature  Minimum Temperature  Wind Chill  \\\n",
       "Date time                                                             \n",
       "8/24/2020   M                 86.5                 66.4         NaN   \n",
       "8/25/2020   T                 87.8                 66.8         NaN   \n",
       "8/26/2020   W                 89.0                 65.6         NaN   \n",
       "8/27/2020   R                 86.9                 66.8         NaN   \n",
       "8/28/2020   F                 85.4                 68.2         NaN   \n",
       "\n",
       "           Heat Index  Precipitation  Wind Speed  Cloud Cover  \\\n",
       "Date time                                                       \n",
       "8/24/2020        88.9           0.00         6.4         57.1   \n",
       "8/25/2020        89.2           0.00        10.4         41.4   \n",
       "8/26/2020        91.5           0.00         6.9         39.4   \n",
       "8/27/2020        91.1           0.00        10.4         52.0   \n",
       "8/28/2020        90.3           0.42         6.5         49.8   \n",
       "\n",
       "           Relative Humidity  \n",
       "Date time                     \n",
       "8/24/2020              77.67  \n",
       "8/25/2020              74.50  \n",
       "8/26/2020              76.62  \n",
       "8/27/2020              80.55  \n",
       "8/28/2020              82.33  "
      ]
     },
     "execution_count": 46,
     "metadata": {},
     "output_type": "execute_result"
    }
   ],
   "source": [
    "WkDays = ['M','T','W','R','F']*100\n",
    "DailyData['Day'] = WkDays[:len(DailyData)]\n",
    "DailyDf = DailyData[['Day','Maximum Temperature', 'Minimum Temperature', 'Wind Chill', 'Heat Index', 'Precipitation',\n",
    "       'Wind Speed',  'Cloud Cover', 'Relative Humidity']]\n",
    "DailyDf.head()"
   ]
  },
  {
   "cell_type": "code",
   "execution_count": 47,
   "metadata": {},
   "outputs": [
    {
     "data": {
      "text/html": [
       "<div>\n",
       "<style scoped>\n",
       "    .dataframe tbody tr th:only-of-type {\n",
       "        vertical-align: middle;\n",
       "    }\n",
       "\n",
       "    .dataframe tbody tr th {\n",
       "        vertical-align: top;\n",
       "    }\n",
       "\n",
       "    .dataframe thead th {\n",
       "        text-align: right;\n",
       "    }\n",
       "</style>\n",
       "<table border=\"1\" class=\"dataframe\">\n",
       "  <thead>\n",
       "    <tr style=\"text-align: right;\">\n",
       "      <th></th>\n",
       "      <th>Maximum Temperature</th>\n",
       "      <th>Minimum Temperature</th>\n",
       "      <th>Wind Chill</th>\n",
       "      <th>Heat Index</th>\n",
       "      <th>Precipitation</th>\n",
       "      <th>Wind Speed</th>\n",
       "      <th>Cloud Cover</th>\n",
       "      <th>Relative Humidity</th>\n",
       "    </tr>\n",
       "  </thead>\n",
       "  <tbody>\n",
       "    <tr>\n",
       "      <th>count</th>\n",
       "      <td>250.000000</td>\n",
       "      <td>250.000000</td>\n",
       "      <td>149.000000</td>\n",
       "      <td>25.00000</td>\n",
       "      <td>250.000000</td>\n",
       "      <td>250.000000</td>\n",
       "      <td>250.000000</td>\n",
       "      <td>250.000000</td>\n",
       "    </tr>\n",
       "    <tr>\n",
       "      <th>mean</th>\n",
       "      <td>60.806400</td>\n",
       "      <td>40.831600</td>\n",
       "      <td>33.212081</td>\n",
       "      <td>86.36000</td>\n",
       "      <td>0.149200</td>\n",
       "      <td>9.402000</td>\n",
       "      <td>55.356000</td>\n",
       "      <td>71.531640</td>\n",
       "    </tr>\n",
       "    <tr>\n",
       "      <th>std</th>\n",
       "      <td>14.875117</td>\n",
       "      <td>13.186792</td>\n",
       "      <td>9.619483</td>\n",
       "      <td>4.08483</td>\n",
       "      <td>0.312015</td>\n",
       "      <td>4.299402</td>\n",
       "      <td>29.928424</td>\n",
       "      <td>13.017417</td>\n",
       "    </tr>\n",
       "    <tr>\n",
       "      <th>min</th>\n",
       "      <td>26.400000</td>\n",
       "      <td>8.200000</td>\n",
       "      <td>-1.600000</td>\n",
       "      <td>79.00000</td>\n",
       "      <td>0.000000</td>\n",
       "      <td>2.300000</td>\n",
       "      <td>0.000000</td>\n",
       "      <td>37.850000</td>\n",
       "    </tr>\n",
       "    <tr>\n",
       "      <th>25%</th>\n",
       "      <td>47.950000</td>\n",
       "      <td>30.675000</td>\n",
       "      <td>27.500000</td>\n",
       "      <td>82.80000</td>\n",
       "      <td>0.000000</td>\n",
       "      <td>6.000000</td>\n",
       "      <td>31.675000</td>\n",
       "      <td>62.180000</td>\n",
       "    </tr>\n",
       "    <tr>\n",
       "      <th>50%</th>\n",
       "      <td>62.500000</td>\n",
       "      <td>38.800000</td>\n",
       "      <td>33.600000</td>\n",
       "      <td>86.30000</td>\n",
       "      <td>0.000000</td>\n",
       "      <td>8.700000</td>\n",
       "      <td>58.500000</td>\n",
       "      <td>73.950000</td>\n",
       "    </tr>\n",
       "    <tr>\n",
       "      <th>75%</th>\n",
       "      <td>72.650000</td>\n",
       "      <td>50.200000</td>\n",
       "      <td>41.800000</td>\n",
       "      <td>89.20000</td>\n",
       "      <td>0.137500</td>\n",
       "      <td>12.275000</td>\n",
       "      <td>82.175000</td>\n",
       "      <td>80.305000</td>\n",
       "    </tr>\n",
       "    <tr>\n",
       "      <th>max</th>\n",
       "      <td>89.500000</td>\n",
       "      <td>70.400000</td>\n",
       "      <td>49.500000</td>\n",
       "      <td>92.80000</td>\n",
       "      <td>1.600000</td>\n",
       "      <td>24.500000</td>\n",
       "      <td>100.000000</td>\n",
       "      <td>95.670000</td>\n",
       "    </tr>\n",
       "  </tbody>\n",
       "</table>\n",
       "</div>"
      ],
      "text/plain": [
       "       Maximum Temperature  Minimum Temperature  Wind Chill  Heat Index  \\\n",
       "count           250.000000           250.000000  149.000000    25.00000   \n",
       "mean             60.806400            40.831600   33.212081    86.36000   \n",
       "std              14.875117            13.186792    9.619483     4.08483   \n",
       "min              26.400000             8.200000   -1.600000    79.00000   \n",
       "25%              47.950000            30.675000   27.500000    82.80000   \n",
       "50%              62.500000            38.800000   33.600000    86.30000   \n",
       "75%              72.650000            50.200000   41.800000    89.20000   \n",
       "max              89.500000            70.400000   49.500000    92.80000   \n",
       "\n",
       "       Precipitation  Wind Speed  Cloud Cover  Relative Humidity  \n",
       "count     250.000000  250.000000   250.000000         250.000000  \n",
       "mean        0.149200    9.402000    55.356000          71.531640  \n",
       "std         0.312015    4.299402    29.928424          13.017417  \n",
       "min         0.000000    2.300000     0.000000          37.850000  \n",
       "25%         0.000000    6.000000    31.675000          62.180000  \n",
       "50%         0.000000    8.700000    58.500000          73.950000  \n",
       "75%         0.137500   12.275000    82.175000          80.305000  \n",
       "max         1.600000   24.500000   100.000000          95.670000  "
      ]
     },
     "execution_count": 47,
     "metadata": {},
     "output_type": "execute_result"
    }
   ],
   "source": [
    "DailyDf.describe()"
   ]
  },
  {
   "cell_type": "code",
   "execution_count": 48,
   "metadata": {},
   "outputs": [
    {
     "name": "stderr",
     "output_type": "stream",
     "text": [
      "C:\\Users\\gaffi\\anaconda3\\envs\\DNNpytorch\\lib\\site-packages\\pandas\\core\\series.py:4517: SettingWithCopyWarning: \n",
      "A value is trying to be set on a copy of a slice from a DataFrame\n",
      "\n",
      "See the caveats in the documentation: https://pandas.pydata.org/pandas-docs/stable/user_guide/indexing.html#returning-a-view-versus-a-copy\n",
      "  return super().fillna(\n"
     ]
    }
   ],
   "source": [
    "DailyDf['Wind Chill'].fillna(DailyDf['Heat Index'], inplace = True)\n",
    "DailyDf['Wind Chill'].fillna(DailyData.Temperature, inplace = True)"
   ]
  },
  {
   "cell_type": "code",
   "execution_count": 49,
   "metadata": {},
   "outputs": [
    {
     "name": "stderr",
     "output_type": "stream",
     "text": [
      "C:\\Users\\gaffi\\anaconda3\\envs\\DNNpytorch\\lib\\site-packages\\pandas\\core\\frame.py:4163: SettingWithCopyWarning: \n",
      "A value is trying to be set on a copy of a slice from a DataFrame\n",
      "\n",
      "See the caveats in the documentation: https://pandas.pydata.org/pandas-docs/stable/user_guide/indexing.html#returning-a-view-versus-a-copy\n",
      "  return super().drop(\n"
     ]
    },
    {
     "data": {
      "text/html": [
       "<div>\n",
       "<style scoped>\n",
       "    .dataframe tbody tr th:only-of-type {\n",
       "        vertical-align: middle;\n",
       "    }\n",
       "\n",
       "    .dataframe tbody tr th {\n",
       "        vertical-align: top;\n",
       "    }\n",
       "\n",
       "    .dataframe thead th {\n",
       "        text-align: right;\n",
       "    }\n",
       "</style>\n",
       "<table border=\"1\" class=\"dataframe\">\n",
       "  <thead>\n",
       "    <tr style=\"text-align: right;\">\n",
       "      <th></th>\n",
       "      <th>Day</th>\n",
       "      <th>Tmax</th>\n",
       "      <th>Tmin</th>\n",
       "      <th>FeelsLike</th>\n",
       "      <th>Precipitation</th>\n",
       "      <th>WindSpeed</th>\n",
       "      <th>CloudCover</th>\n",
       "      <th>RelativeHumidity</th>\n",
       "    </tr>\n",
       "    <tr>\n",
       "      <th>Date time</th>\n",
       "      <th></th>\n",
       "      <th></th>\n",
       "      <th></th>\n",
       "      <th></th>\n",
       "      <th></th>\n",
       "      <th></th>\n",
       "      <th></th>\n",
       "      <th></th>\n",
       "    </tr>\n",
       "  </thead>\n",
       "  <tbody>\n",
       "    <tr>\n",
       "      <th>8/24/2020</th>\n",
       "      <td>M</td>\n",
       "      <td>86.5</td>\n",
       "      <td>66.4</td>\n",
       "      <td>88.9</td>\n",
       "      <td>0.00</td>\n",
       "      <td>6.4</td>\n",
       "      <td>57.1</td>\n",
       "      <td>77.67</td>\n",
       "    </tr>\n",
       "    <tr>\n",
       "      <th>8/25/2020</th>\n",
       "      <td>T</td>\n",
       "      <td>87.8</td>\n",
       "      <td>66.8</td>\n",
       "      <td>89.2</td>\n",
       "      <td>0.00</td>\n",
       "      <td>10.4</td>\n",
       "      <td>41.4</td>\n",
       "      <td>74.50</td>\n",
       "    </tr>\n",
       "    <tr>\n",
       "      <th>8/26/2020</th>\n",
       "      <td>W</td>\n",
       "      <td>89.0</td>\n",
       "      <td>65.6</td>\n",
       "      <td>91.5</td>\n",
       "      <td>0.00</td>\n",
       "      <td>6.9</td>\n",
       "      <td>39.4</td>\n",
       "      <td>76.62</td>\n",
       "    </tr>\n",
       "    <tr>\n",
       "      <th>8/27/2020</th>\n",
       "      <td>R</td>\n",
       "      <td>86.9</td>\n",
       "      <td>66.8</td>\n",
       "      <td>91.1</td>\n",
       "      <td>0.00</td>\n",
       "      <td>10.4</td>\n",
       "      <td>52.0</td>\n",
       "      <td>80.55</td>\n",
       "    </tr>\n",
       "    <tr>\n",
       "      <th>8/28/2020</th>\n",
       "      <td>F</td>\n",
       "      <td>85.4</td>\n",
       "      <td>68.2</td>\n",
       "      <td>90.3</td>\n",
       "      <td>0.42</td>\n",
       "      <td>6.5</td>\n",
       "      <td>49.8</td>\n",
       "      <td>82.33</td>\n",
       "    </tr>\n",
       "  </tbody>\n",
       "</table>\n",
       "</div>"
      ],
      "text/plain": [
       "          Day  Tmax  Tmin  FeelsLike  Precipitation  WindSpeed  CloudCover  \\\n",
       "Date time                                                                    \n",
       "8/24/2020   M  86.5  66.4       88.9           0.00        6.4        57.1   \n",
       "8/25/2020   T  87.8  66.8       89.2           0.00       10.4        41.4   \n",
       "8/26/2020   W  89.0  65.6       91.5           0.00        6.9        39.4   \n",
       "8/27/2020   R  86.9  66.8       91.1           0.00       10.4        52.0   \n",
       "8/28/2020   F  85.4  68.2       90.3           0.42        6.5        49.8   \n",
       "\n",
       "           RelativeHumidity  \n",
       "Date time                    \n",
       "8/24/2020             77.67  \n",
       "8/25/2020             74.50  \n",
       "8/26/2020             76.62  \n",
       "8/27/2020             80.55  \n",
       "8/28/2020             82.33  "
      ]
     },
     "execution_count": 49,
     "metadata": {},
     "output_type": "execute_result"
    }
   ],
   "source": [
    "DailyDf.columns = ['Day','Tmax','Tmin','FeelsLike','HeatIndex','Precipitation','WindSpeed',\n",
    "                   'CloudCover','RelativeHumidity']\n",
    "DailyDf.drop('HeatIndex',axis=1,inplace=True)  \n",
    "DailyDf\n",
    "DailyDf.head()"
   ]
  },
  {
   "cell_type": "code",
   "execution_count": 50,
   "metadata": {},
   "outputs": [
    {
     "data": {
      "text/html": [
       "<div>\n",
       "<style scoped>\n",
       "    .dataframe tbody tr th:only-of-type {\n",
       "        vertical-align: middle;\n",
       "    }\n",
       "\n",
       "    .dataframe tbody tr th {\n",
       "        vertical-align: top;\n",
       "    }\n",
       "\n",
       "    .dataframe thead th {\n",
       "        text-align: right;\n",
       "    }\n",
       "</style>\n",
       "<table border=\"1\" class=\"dataframe\">\n",
       "  <thead>\n",
       "    <tr style=\"text-align: right;\">\n",
       "      <th></th>\n",
       "      <th>Tmax</th>\n",
       "      <th>Tmin</th>\n",
       "      <th>FeelsLike</th>\n",
       "      <th>Precipitation</th>\n",
       "      <th>WindSpeed</th>\n",
       "      <th>CloudCover</th>\n",
       "      <th>RelativeHumidity</th>\n",
       "    </tr>\n",
       "  </thead>\n",
       "  <tbody>\n",
       "    <tr>\n",
       "      <th>count</th>\n",
       "      <td>250.000000</td>\n",
       "      <td>250.000000</td>\n",
       "      <td>250.000000</td>\n",
       "      <td>250.000000</td>\n",
       "      <td>250.000000</td>\n",
       "      <td>250.000000</td>\n",
       "      <td>250.000000</td>\n",
       "    </tr>\n",
       "    <tr>\n",
       "      <th>mean</th>\n",
       "      <td>60.806400</td>\n",
       "      <td>40.831600</td>\n",
       "      <td>46.142000</td>\n",
       "      <td>0.149200</td>\n",
       "      <td>9.402000</td>\n",
       "      <td>55.356000</td>\n",
       "      <td>71.531640</td>\n",
       "    </tr>\n",
       "    <tr>\n",
       "      <th>std</th>\n",
       "      <td>14.875117</td>\n",
       "      <td>13.186792</td>\n",
       "      <td>19.559358</td>\n",
       "      <td>0.312015</td>\n",
       "      <td>4.299402</td>\n",
       "      <td>29.928424</td>\n",
       "      <td>13.017417</td>\n",
       "    </tr>\n",
       "    <tr>\n",
       "      <th>min</th>\n",
       "      <td>26.400000</td>\n",
       "      <td>8.200000</td>\n",
       "      <td>-1.600000</td>\n",
       "      <td>0.000000</td>\n",
       "      <td>2.300000</td>\n",
       "      <td>0.000000</td>\n",
       "      <td>37.850000</td>\n",
       "    </tr>\n",
       "    <tr>\n",
       "      <th>25%</th>\n",
       "      <td>47.950000</td>\n",
       "      <td>30.675000</td>\n",
       "      <td>31.150000</td>\n",
       "      <td>0.000000</td>\n",
       "      <td>6.000000</td>\n",
       "      <td>31.675000</td>\n",
       "      <td>62.180000</td>\n",
       "    </tr>\n",
       "    <tr>\n",
       "      <th>50%</th>\n",
       "      <td>62.500000</td>\n",
       "      <td>38.800000</td>\n",
       "      <td>43.600000</td>\n",
       "      <td>0.000000</td>\n",
       "      <td>8.700000</td>\n",
       "      <td>58.500000</td>\n",
       "      <td>73.950000</td>\n",
       "    </tr>\n",
       "    <tr>\n",
       "      <th>75%</th>\n",
       "      <td>72.650000</td>\n",
       "      <td>50.200000</td>\n",
       "      <td>59.850000</td>\n",
       "      <td>0.137500</td>\n",
       "      <td>12.275000</td>\n",
       "      <td>82.175000</td>\n",
       "      <td>80.305000</td>\n",
       "    </tr>\n",
       "    <tr>\n",
       "      <th>max</th>\n",
       "      <td>89.500000</td>\n",
       "      <td>70.400000</td>\n",
       "      <td>92.800000</td>\n",
       "      <td>1.600000</td>\n",
       "      <td>24.500000</td>\n",
       "      <td>100.000000</td>\n",
       "      <td>95.670000</td>\n",
       "    </tr>\n",
       "  </tbody>\n",
       "</table>\n",
       "</div>"
      ],
      "text/plain": [
       "             Tmax        Tmin   FeelsLike  Precipitation   WindSpeed  \\\n",
       "count  250.000000  250.000000  250.000000     250.000000  250.000000   \n",
       "mean    60.806400   40.831600   46.142000       0.149200    9.402000   \n",
       "std     14.875117   13.186792   19.559358       0.312015    4.299402   \n",
       "min     26.400000    8.200000   -1.600000       0.000000    2.300000   \n",
       "25%     47.950000   30.675000   31.150000       0.000000    6.000000   \n",
       "50%     62.500000   38.800000   43.600000       0.000000    8.700000   \n",
       "75%     72.650000   50.200000   59.850000       0.137500   12.275000   \n",
       "max     89.500000   70.400000   92.800000       1.600000   24.500000   \n",
       "\n",
       "       CloudCover  RelativeHumidity  \n",
       "count  250.000000        250.000000  \n",
       "mean    55.356000         71.531640  \n",
       "std     29.928424         13.017417  \n",
       "min      0.000000         37.850000  \n",
       "25%     31.675000         62.180000  \n",
       "50%     58.500000         73.950000  \n",
       "75%     82.175000         80.305000  \n",
       "max    100.000000         95.670000  "
      ]
     },
     "execution_count": 50,
     "metadata": {},
     "output_type": "execute_result"
    }
   ],
   "source": [
    "DailyDf.describe()"
   ]
  },
  {
   "cell_type": "code",
   "execution_count": 54,
   "metadata": {},
   "outputs": [
    {
     "data": {
      "text/plain": [
       "[<matplotlib.lines.Line2D at 0x1f08f455fa0>]"
      ]
     },
     "execution_count": 54,
     "metadata": {},
     "output_type": "execute_result"
    },
    {
     "data": {
      "image/png": "[encoded data removed]",
      "text/plain": [
       "<Figure size 432x288 with 1 Axes>"
      ]
     },
     "metadata": {
      "needs_background": "light"
     },
     "output_type": "display_data"
    }
   ],
   "source": [
    "Tmin = 60\n",
    "Tmax = 80 \n",
    "\n",
    "Am = (Tmax - Tmin)/2\n",
    "Mn = (Tmax + Tmin)/2\n",
    "ω = np.pi/(60*12)  #t in minutes \n",
    "Temp = lambda t: Mn+Am*np.cos(ω*(t-17*60))\n",
    "\n",
    "tran = np.linspace(0,24,1000)\n",
    "plt.plot(tran,Temp(60*tran))"
   ]
  },
  {
   "cell_type": "code",
   "execution_count": 65,
   "metadata": {},
   "outputs": [
    {
     "data": {
      "text/plain": [
       "1.034269490696546"
      ]
     },
     "execution_count": 65,
     "metadata": {},
     "output_type": "execute_result"
    }
   ],
   "source": [
    "ω = np.pi/(60*12)  #time in minutes \n",
    "\n",
    "def TempAtTime(t,tempran):\n",
    "    Tmin, Tmax = tempran\n",
    "    Am = (Tmax - Tmin)/2\n",
    "    Mn = (Tmax + Tmin)/2\n",
    "    return Mn+Am*np.cos(ω*(t-17*60))  #max at 5 p.m. (so min at 5 a.m.)\n",
    "\n",
    "IC_ran = (40,110)\n",
    "HC_ran = (70,-20)\n",
    "\n",
    "def TempToScaler(temp, ran, β = 0.1 ):\n",
    "    p = (temp - ran[0])/(ran[1] - ran[0])\n",
    "    return 1+β*np.tanh(p-0.5)\n",
    "\n",
    "TempToScaler(100,IC_ran)"
   ]
  },
  {
   "cell_type": "code",
   "execution_count": 66,
   "metadata": {},
   "outputs": [],
   "source": [
    "def PrecipToScaler_IC(precip, β = 0.1):\n",
    "    return np.exp(-β*precip)\n",
    "def PrecipToScaler_HC(precip, β = 0.1):\n",
    "    return np.exp(β*precip)\n",
    "def WindSpeedToScaler_IC(windspeed, β = 0.01):\n",
    "    return np.exp(-β*windspeed)\n",
    "def CloudCoverToScaler_IC(CC,β = 0.1 ):\n",
    "    p = 1-CC/100\n",
    "    return 1+β*np.tanh(p-0.5)\n",
    "def CloudCoverToScaler_HC(CC,β = 0.1):\n",
    "    p = CC/100\n",
    "    return 1+β*np.tanh(p-0.5)\n",
    "def RelativeHumidityToScaler(RH,β = 0.1):\n",
    "    p = RH/100\n",
    "    return 1+β*np.tanh(p-0.5)"
   ]
  },
  {
   "cell_type": "code",
   "execution_count": 67,
   "metadata": {},
   "outputs": [
    {
     "data": {
      "application/vnd.jupyter.widget-view+json": {
       "model_id": "95422823d3f34d96a30a68ec008e4f15",
       "version_major": 2,
       "version_minor": 0
      },
      "text/plain": [
       "HBox(children=(HTML(value=''), FloatProgress(value=0.0, max=250.0), HTML(value='')))"
      ]
     },
     "metadata": {},
     "output_type": "display_data"
    },
    {
     "name": "stdout",
     "output_type": "stream",
     "text": [
      "\n"
     ]
    },
    {
     "data": {
      "text/html": [
       "<div>\n",
       "<style scoped>\n",
       "    .dataframe tbody tr th:only-of-type {\n",
       "        vertical-align: middle;\n",
       "    }\n",
       "\n",
       "    .dataframe tbody tr th {\n",
       "        vertical-align: top;\n",
       "    }\n",
       "\n",
       "    .dataframe thead th {\n",
       "        text-align: right;\n",
       "    }\n",
       "</style>\n",
       "<table border=\"1\" class=\"dataframe\">\n",
       "  <thead>\n",
       "    <tr style=\"text-align: right;\">\n",
       "      <th></th>\n",
       "      <th>Day</th>\n",
       "      <th>Tmax</th>\n",
       "      <th>Tmin</th>\n",
       "      <th>FeelsLike</th>\n",
       "      <th>Precipitation</th>\n",
       "      <th>WindSpeed</th>\n",
       "      <th>CloudCover</th>\n",
       "      <th>RelativeHumidity</th>\n",
       "      <th>Demand</th>\n",
       "    </tr>\n",
       "    <tr>\n",
       "      <th>Date time</th>\n",
       "      <th></th>\n",
       "      <th></th>\n",
       "      <th></th>\n",
       "      <th></th>\n",
       "      <th></th>\n",
       "      <th></th>\n",
       "      <th></th>\n",
       "      <th></th>\n",
       "      <th></th>\n",
       "    </tr>\n",
       "  </thead>\n",
       "  <tbody>\n",
       "    <tr>\n",
       "      <th>8/24/2020</th>\n",
       "      <td>M</td>\n",
       "      <td>86.5</td>\n",
       "      <td>66.4</td>\n",
       "      <td>88.9</td>\n",
       "      <td>0.00</td>\n",
       "      <td>6.4</td>\n",
       "      <td>57.1</td>\n",
       "      <td>77.67</td>\n",
       "      <td>1067.0</td>\n",
       "    </tr>\n",
       "    <tr>\n",
       "      <th>8/25/2020</th>\n",
       "      <td>T</td>\n",
       "      <td>87.8</td>\n",
       "      <td>66.8</td>\n",
       "      <td>89.2</td>\n",
       "      <td>0.00</td>\n",
       "      <td>10.4</td>\n",
       "      <td>41.4</td>\n",
       "      <td>74.50</td>\n",
       "      <td>327.0</td>\n",
       "    </tr>\n",
       "    <tr>\n",
       "      <th>8/26/2020</th>\n",
       "      <td>W</td>\n",
       "      <td>89.0</td>\n",
       "      <td>65.6</td>\n",
       "      <td>91.5</td>\n",
       "      <td>0.00</td>\n",
       "      <td>6.9</td>\n",
       "      <td>39.4</td>\n",
       "      <td>76.62</td>\n",
       "      <td>1079.0</td>\n",
       "    </tr>\n",
       "    <tr>\n",
       "      <th>8/27/2020</th>\n",
       "      <td>R</td>\n",
       "      <td>86.9</td>\n",
       "      <td>66.8</td>\n",
       "      <td>91.1</td>\n",
       "      <td>0.00</td>\n",
       "      <td>10.4</td>\n",
       "      <td>52.0</td>\n",
       "      <td>80.55</td>\n",
       "      <td>306.0</td>\n",
       "    </tr>\n",
       "    <tr>\n",
       "      <th>8/28/2020</th>\n",
       "      <td>F</td>\n",
       "      <td>85.4</td>\n",
       "      <td>68.2</td>\n",
       "      <td>90.3</td>\n",
       "      <td>0.42</td>\n",
       "      <td>6.5</td>\n",
       "      <td>49.8</td>\n",
       "      <td>82.33</td>\n",
       "      <td>1045.0</td>\n",
       "    </tr>\n",
       "    <tr>\n",
       "      <th>8/29/2020</th>\n",
       "      <td>M</td>\n",
       "      <td>82.6</td>\n",
       "      <td>70.2</td>\n",
       "      <td>85.9</td>\n",
       "      <td>0.58</td>\n",
       "      <td>12.8</td>\n",
       "      <td>67.5</td>\n",
       "      <td>83.84</td>\n",
       "      <td>947.0</td>\n",
       "    </tr>\n",
       "    <tr>\n",
       "      <th>8/30/2020</th>\n",
       "      <td>T</td>\n",
       "      <td>82.3</td>\n",
       "      <td>69.6</td>\n",
       "      <td>83.7</td>\n",
       "      <td>0.00</td>\n",
       "      <td>5.5</td>\n",
       "      <td>67.4</td>\n",
       "      <td>80.26</td>\n",
       "      <td>333.0</td>\n",
       "    </tr>\n",
       "    <tr>\n",
       "      <th>8/31/2020</th>\n",
       "      <td>W</td>\n",
       "      <td>82.6</td>\n",
       "      <td>69.7</td>\n",
       "      <td>86.3</td>\n",
       "      <td>0.25</td>\n",
       "      <td>4.6</td>\n",
       "      <td>71.3</td>\n",
       "      <td>86.65</td>\n",
       "      <td>1042.0</td>\n",
       "    </tr>\n",
       "    <tr>\n",
       "      <th>9/1/2020</th>\n",
       "      <td>R</td>\n",
       "      <td>82.8</td>\n",
       "      <td>70.1</td>\n",
       "      <td>87.7</td>\n",
       "      <td>0.29</td>\n",
       "      <td>5.3</td>\n",
       "      <td>60.9</td>\n",
       "      <td>87.33</td>\n",
       "      <td>322.0</td>\n",
       "    </tr>\n",
       "    <tr>\n",
       "      <th>9/2/2020</th>\n",
       "      <td>F</td>\n",
       "      <td>86.8</td>\n",
       "      <td>70.4</td>\n",
       "      <td>92.4</td>\n",
       "      <td>0.14</td>\n",
       "      <td>14.2</td>\n",
       "      <td>55.2</td>\n",
       "      <td>85.54</td>\n",
       "      <td>933.0</td>\n",
       "    </tr>\n",
       "    <tr>\n",
       "      <th>9/3/2020</th>\n",
       "      <td>M</td>\n",
       "      <td>86.9</td>\n",
       "      <td>68.9</td>\n",
       "      <td>90.6</td>\n",
       "      <td>0.02</td>\n",
       "      <td>18.8</td>\n",
       "      <td>61.1</td>\n",
       "      <td>84.03</td>\n",
       "      <td>940.0</td>\n",
       "    </tr>\n",
       "    <tr>\n",
       "      <th>9/4/2020</th>\n",
       "      <td>T</td>\n",
       "      <td>85.1</td>\n",
       "      <td>69.5</td>\n",
       "      <td>86.7</td>\n",
       "      <td>0.15</td>\n",
       "      <td>12.1</td>\n",
       "      <td>59.4</td>\n",
       "      <td>79.68</td>\n",
       "      <td>310.0</td>\n",
       "    </tr>\n",
       "    <tr>\n",
       "      <th>9/5/2020</th>\n",
       "      <td>W</td>\n",
       "      <td>79.2</td>\n",
       "      <td>58.0</td>\n",
       "      <td>68.6</td>\n",
       "      <td>0.00</td>\n",
       "      <td>6.9</td>\n",
       "      <td>36.3</td>\n",
       "      <td>69.77</td>\n",
       "      <td>996.0</td>\n",
       "    </tr>\n",
       "    <tr>\n",
       "      <th>9/6/2020</th>\n",
       "      <td>R</td>\n",
       "      <td>81.8</td>\n",
       "      <td>53.0</td>\n",
       "      <td>80.7</td>\n",
       "      <td>0.00</td>\n",
       "      <td>4.0</td>\n",
       "      <td>10.1</td>\n",
       "      <td>72.15</td>\n",
       "      <td>381.0</td>\n",
       "    </tr>\n",
       "    <tr>\n",
       "      <th>9/7/2020</th>\n",
       "      <td>F</td>\n",
       "      <td>83.0</td>\n",
       "      <td>56.4</td>\n",
       "      <td>82.4</td>\n",
       "      <td>0.00</td>\n",
       "      <td>7.0</td>\n",
       "      <td>10.5</td>\n",
       "      <td>74.34</td>\n",
       "      <td>1029.0</td>\n",
       "    </tr>\n",
       "  </tbody>\n",
       "</table>\n",
       "</div>"
      ],
      "text/plain": [
       "          Day  Tmax  Tmin  FeelsLike  Precipitation  WindSpeed  CloudCover  \\\n",
       "Date time                                                                    \n",
       "8/24/2020   M  86.5  66.4       88.9           0.00        6.4        57.1   \n",
       "8/25/2020   T  87.8  66.8       89.2           0.00       10.4        41.4   \n",
       "8/26/2020   W  89.0  65.6       91.5           0.00        6.9        39.4   \n",
       "8/27/2020   R  86.9  66.8       91.1           0.00       10.4        52.0   \n",
       "8/28/2020   F  85.4  68.2       90.3           0.42        6.5        49.8   \n",
       "8/29/2020   M  82.6  70.2       85.9           0.58       12.8        67.5   \n",
       "8/30/2020   T  82.3  69.6       83.7           0.00        5.5        67.4   \n",
       "8/31/2020   W  82.6  69.7       86.3           0.25        4.6        71.3   \n",
       "9/1/2020    R  82.8  70.1       87.7           0.29        5.3        60.9   \n",
       "9/2/2020    F  86.8  70.4       92.4           0.14       14.2        55.2   \n",
       "9/3/2020    M  86.9  68.9       90.6           0.02       18.8        61.1   \n",
       "9/4/2020    T  85.1  69.5       86.7           0.15       12.1        59.4   \n",
       "9/5/2020    W  79.2  58.0       68.6           0.00        6.9        36.3   \n",
       "9/6/2020    R  81.8  53.0       80.7           0.00        4.0        10.1   \n",
       "9/7/2020    F  83.0  56.4       82.4           0.00        7.0        10.5   \n",
       "\n",
       "           RelativeHumidity  Demand  \n",
       "Date time                            \n",
       "8/24/2020             77.67  1067.0  \n",
       "8/25/2020             74.50   327.0  \n",
       "8/26/2020             76.62  1079.0  \n",
       "8/27/2020             80.55   306.0  \n",
       "8/28/2020             82.33  1045.0  \n",
       "8/29/2020             83.84   947.0  \n",
       "8/30/2020             80.26   333.0  \n",
       "8/31/2020             86.65  1042.0  \n",
       "9/1/2020              87.33   322.0  \n",
       "9/2/2020              85.54   933.0  \n",
       "9/3/2020              84.03   940.0  \n",
       "9/4/2020              79.68   310.0  \n",
       "9/5/2020              69.77   996.0  \n",
       "9/6/2020              72.15   381.0  \n",
       "9/7/2020              74.34  1029.0  "
      ]
     },
     "execution_count": 67,
     "metadata": {},
     "output_type": "execute_result"
    }
   ],
   "source": [
    "## Generate Demands -- Single Instance of Schedules \n",
    "CollegeStudents = [CollegeStudent() for __ in range(N_students)]\n",
    "WeekDays = ['M','T','W','R','F']\n",
    "\n",
    "FeaturesAndDemands = DailyDf.copy()\n",
    "FeaturesAndDemands['Demand'] = np.zeros(len(DailyDf))\n",
    "pd.DataFrame( columns = [ 'Day','Tmax','Tmin','FeelsLike','Precipitation','WindSpeed',\n",
    "                                               'CloudCover','RelativeHumidity', 'Demand'],\n",
    "                                   index = DailyDf.index) \n",
    "fdmax = np.zeros(6)\n",
    "fdmin = 1e10*np.ones(6) \n",
    "for idx, row in tqdm.tqdm(DailyDf.iterrows(), total=DailyDf.shape[0]):\n",
    "    FeatureScalars = np.array(\n",
    "                        [ PrecipToScaler_IC(row.Precipitation),\n",
    "                          WindSpeedToScaler_IC(row.WindSpeed), \n",
    "                          CloudCoverToScaler_IC(row.CloudCover),\n",
    "                          RelativeHumidityToScaler(row.RelativeHumidity),\n",
    "                          TempToScaler(row.FeelsLike,IC_ran),\n",
    "                          1.0 ] ) # for Max, Min temp scaling\n",
    "    Tmax = row.Tmax\n",
    "    Tmin = row.Tmin                    \n",
    "    n_purchases = 0\n",
    "    for student in CollegeStudents:\n",
    "        snackTemp = TempAtTime(student.GetSnackTime(row.Day), (Tmin,Tmax))\n",
    "        FeatureScalars[-1] = TempToScaler(snackTemp, IC_ran )\n",
    "        n_purchases += student.BuyIceCream(row.Day, FeatureScales=FeatureScalars)                  \n",
    "    FeaturesAndDemands.loc[idx,'Demand'] = n_purchases\n",
    "    fdmax = np.maximum(FeatureScalars, fdmax)\n",
    "    fdmin = np.minimum(FeatureScalars, fdmin)\n",
    "FeaturesAndDemands.head(15) "
   ]
  },
  {
   "cell_type": "code",
   "execution_count": 68,
   "metadata": {},
   "outputs": [
    {
     "data": {
      "text/plain": [
       "(array([0.85214379, 0.78270454, 0.95378828, 0.98790944, 0.9201563 ,\n",
       "        0.930502  ]),\n",
       " array([1.        , 0.97726248, 1.04621172, 1.04273908, 1.0248943 ,\n",
       "        1.00151565]))"
      ]
     },
     "execution_count": 68,
     "metadata": {},
     "output_type": "execute_result"
    }
   ],
   "source": [
    "fdmin, fdmax"
   ]
  },
  {
   "cell_type": "code",
   "execution_count": 69,
   "metadata": {},
   "outputs": [
    {
     "data": {
      "text/plain": [
       "array([0.99104038, 0.83861798, 1.00947152, 1.00523521, 0.98357861,\n",
       "       0.97690489])"
      ]
     },
     "execution_count": 69,
     "metadata": {},
     "output_type": "execute_result"
    }
   ],
   "source": [
    "FeatureScalars"
   ]
  },
  {
   "cell_type": "code",
   "execution_count": 70,
   "metadata": {},
   "outputs": [
    {
     "data": {
      "text/html": [
       "<div>\n",
       "<style scoped>\n",
       "    .dataframe tbody tr th:only-of-type {\n",
       "        vertical-align: middle;\n",
       "    }\n",
       "\n",
       "    .dataframe tbody tr th {\n",
       "        vertical-align: top;\n",
       "    }\n",
       "\n",
       "    .dataframe thead th {\n",
       "        text-align: right;\n",
       "    }\n",
       "</style>\n",
       "<table border=\"1\" class=\"dataframe\">\n",
       "  <thead>\n",
       "    <tr style=\"text-align: right;\">\n",
       "      <th></th>\n",
       "      <th>Day</th>\n",
       "      <th>Tmax</th>\n",
       "      <th>Tmin</th>\n",
       "      <th>FeelsLike</th>\n",
       "      <th>Precipitation</th>\n",
       "      <th>WindSpeed</th>\n",
       "      <th>CloudCover</th>\n",
       "      <th>RelativeHumidity</th>\n",
       "      <th>Demand</th>\n",
       "    </tr>\n",
       "    <tr>\n",
       "      <th>Date time</th>\n",
       "      <th></th>\n",
       "      <th></th>\n",
       "      <th></th>\n",
       "      <th></th>\n",
       "      <th></th>\n",
       "      <th></th>\n",
       "      <th></th>\n",
       "      <th></th>\n",
       "      <th></th>\n",
       "    </tr>\n",
       "  </thead>\n",
       "  <tbody>\n",
       "    <tr>\n",
       "      <th>4/11/2021</th>\n",
       "      <td>M</td>\n",
       "      <td>67.5</td>\n",
       "      <td>53.4</td>\n",
       "      <td>59.3</td>\n",
       "      <td>0.02</td>\n",
       "      <td>20.4</td>\n",
       "      <td>52.0</td>\n",
       "      <td>63.09</td>\n",
       "      <td>852.0</td>\n",
       "    </tr>\n",
       "    <tr>\n",
       "      <th>4/12/2021</th>\n",
       "      <td>T</td>\n",
       "      <td>74.1</td>\n",
       "      <td>41.0</td>\n",
       "      <td>42.3</td>\n",
       "      <td>0.00</td>\n",
       "      <td>20.0</td>\n",
       "      <td>1.8</td>\n",
       "      <td>46.99</td>\n",
       "      <td>280.0</td>\n",
       "    </tr>\n",
       "    <tr>\n",
       "      <th>4/13/2021</th>\n",
       "      <td>W</td>\n",
       "      <td>66.7</td>\n",
       "      <td>45.4</td>\n",
       "      <td>57.0</td>\n",
       "      <td>0.01</td>\n",
       "      <td>5.6</td>\n",
       "      <td>47.5</td>\n",
       "      <td>61.05</td>\n",
       "      <td>950.0</td>\n",
       "    </tr>\n",
       "    <tr>\n",
       "      <th>4/14/2021</th>\n",
       "      <td>R</td>\n",
       "      <td>75.6</td>\n",
       "      <td>46.8</td>\n",
       "      <td>60.1</td>\n",
       "      <td>0.13</td>\n",
       "      <td>14.2</td>\n",
       "      <td>58.6</td>\n",
       "      <td>66.72</td>\n",
       "      <td>270.0</td>\n",
       "    </tr>\n",
       "    <tr>\n",
       "      <th>4/15/2021</th>\n",
       "      <td>F</td>\n",
       "      <td>61.0</td>\n",
       "      <td>46.2</td>\n",
       "      <td>42.7</td>\n",
       "      <td>0.02</td>\n",
       "      <td>17.2</td>\n",
       "      <td>68.5</td>\n",
       "      <td>59.96</td>\n",
       "      <td>846.0</td>\n",
       "    </tr>\n",
       "    <tr>\n",
       "      <th>4/16/2021</th>\n",
       "      <td>M</td>\n",
       "      <td>62.1</td>\n",
       "      <td>31.8</td>\n",
       "      <td>44.9</td>\n",
       "      <td>0.00</td>\n",
       "      <td>9.1</td>\n",
       "      <td>35.2</td>\n",
       "      <td>56.66</td>\n",
       "      <td>916.0</td>\n",
       "    </tr>\n",
       "    <tr>\n",
       "      <th>4/17/2021</th>\n",
       "      <td>T</td>\n",
       "      <td>59.4</td>\n",
       "      <td>38.9</td>\n",
       "      <td>50.2</td>\n",
       "      <td>0.00</td>\n",
       "      <td>8.6</td>\n",
       "      <td>88.3</td>\n",
       "      <td>62.22</td>\n",
       "      <td>309.0</td>\n",
       "    </tr>\n",
       "    <tr>\n",
       "      <th>4/18/2021</th>\n",
       "      <td>W</td>\n",
       "      <td>64.0</td>\n",
       "      <td>46.1</td>\n",
       "      <td>46.2</td>\n",
       "      <td>0.00</td>\n",
       "      <td>7.6</td>\n",
       "      <td>87.2</td>\n",
       "      <td>53.36</td>\n",
       "      <td>913.0</td>\n",
       "    </tr>\n",
       "    <tr>\n",
       "      <th>4/19/2021</th>\n",
       "      <td>R</td>\n",
       "      <td>63.3</td>\n",
       "      <td>46.4</td>\n",
       "      <td>46.1</td>\n",
       "      <td>0.02</td>\n",
       "      <td>10.8</td>\n",
       "      <td>70.6</td>\n",
       "      <td>54.53</td>\n",
       "      <td>310.0</td>\n",
       "    </tr>\n",
       "    <tr>\n",
       "      <th>4/20/2021</th>\n",
       "      <td>F</td>\n",
       "      <td>72.8</td>\n",
       "      <td>38.5</td>\n",
       "      <td>55.9</td>\n",
       "      <td>0.00</td>\n",
       "      <td>14.8</td>\n",
       "      <td>31.3</td>\n",
       "      <td>56.90</td>\n",
       "      <td>891.0</td>\n",
       "    </tr>\n",
       "    <tr>\n",
       "      <th>4/21/2021</th>\n",
       "      <td>M</td>\n",
       "      <td>55.7</td>\n",
       "      <td>34.4</td>\n",
       "      <td>30.7</td>\n",
       "      <td>0.03</td>\n",
       "      <td>15.8</td>\n",
       "      <td>82.2</td>\n",
       "      <td>59.03</td>\n",
       "      <td>802.0</td>\n",
       "    </tr>\n",
       "    <tr>\n",
       "      <th>4/22/2021</th>\n",
       "      <td>T</td>\n",
       "      <td>53.6</td>\n",
       "      <td>25.8</td>\n",
       "      <td>31.1</td>\n",
       "      <td>0.00</td>\n",
       "      <td>14.3</td>\n",
       "      <td>23.2</td>\n",
       "      <td>55.61</td>\n",
       "      <td>301.0</td>\n",
       "    </tr>\n",
       "    <tr>\n",
       "      <th>4/23/2021</th>\n",
       "      <td>W</td>\n",
       "      <td>57.3</td>\n",
       "      <td>28.8</td>\n",
       "      <td>44.1</td>\n",
       "      <td>0.00</td>\n",
       "      <td>10.6</td>\n",
       "      <td>36.8</td>\n",
       "      <td>58.16</td>\n",
       "      <td>881.0</td>\n",
       "    </tr>\n",
       "    <tr>\n",
       "      <th>4/24/2021</th>\n",
       "      <td>R</td>\n",
       "      <td>57.4</td>\n",
       "      <td>44.0</td>\n",
       "      <td>43.8</td>\n",
       "      <td>0.76</td>\n",
       "      <td>8.5</td>\n",
       "      <td>57.8</td>\n",
       "      <td>80.51</td>\n",
       "      <td>283.0</td>\n",
       "    </tr>\n",
       "    <tr>\n",
       "      <th>4/25/2021</th>\n",
       "      <td>F</td>\n",
       "      <td>63.2</td>\n",
       "      <td>47.7</td>\n",
       "      <td>48.3</td>\n",
       "      <td>0.04</td>\n",
       "      <td>10.7</td>\n",
       "      <td>51.4</td>\n",
       "      <td>69.64</td>\n",
       "      <td>917.0</td>\n",
       "    </tr>\n",
       "    <tr>\n",
       "      <th>4/26/2021</th>\n",
       "      <td>M</td>\n",
       "      <td>77.3</td>\n",
       "      <td>37.8</td>\n",
       "      <td>47.7</td>\n",
       "      <td>0.00</td>\n",
       "      <td>5.3</td>\n",
       "      <td>12.9</td>\n",
       "      <td>58.33</td>\n",
       "      <td>1032.0</td>\n",
       "    </tr>\n",
       "    <tr>\n",
       "      <th>4/27/2021</th>\n",
       "      <td>T</td>\n",
       "      <td>81.6</td>\n",
       "      <td>47.9</td>\n",
       "      <td>80.6</td>\n",
       "      <td>0.00</td>\n",
       "      <td>9.1</td>\n",
       "      <td>23.5</td>\n",
       "      <td>58.97</td>\n",
       "      <td>306.0</td>\n",
       "    </tr>\n",
       "    <tr>\n",
       "      <th>4/28/2021</th>\n",
       "      <td>W</td>\n",
       "      <td>81.2</td>\n",
       "      <td>58.7</td>\n",
       "      <td>81.4</td>\n",
       "      <td>0.00</td>\n",
       "      <td>14.6</td>\n",
       "      <td>73.3</td>\n",
       "      <td>65.66</td>\n",
       "      <td>953.0</td>\n",
       "    </tr>\n",
       "    <tr>\n",
       "      <th>4/29/2021</th>\n",
       "      <td>R</td>\n",
       "      <td>77.7</td>\n",
       "      <td>58.8</td>\n",
       "      <td>68.6</td>\n",
       "      <td>0.03</td>\n",
       "      <td>18.1</td>\n",
       "      <td>83.9</td>\n",
       "      <td>72.42</td>\n",
       "      <td>263.0</td>\n",
       "    </tr>\n",
       "    <tr>\n",
       "      <th>4/30/2021</th>\n",
       "      <td>F</td>\n",
       "      <td>72.7</td>\n",
       "      <td>51.0</td>\n",
       "      <td>63.4</td>\n",
       "      <td>0.09</td>\n",
       "      <td>17.6</td>\n",
       "      <td>40.5</td>\n",
       "      <td>55.24</td>\n",
       "      <td>872.0</td>\n",
       "    </tr>\n",
       "  </tbody>\n",
       "</table>\n",
       "</div>"
      ],
      "text/plain": [
       "          Day  Tmax  Tmin  FeelsLike  Precipitation  WindSpeed  CloudCover  \\\n",
       "Date time                                                                    \n",
       "4/11/2021   M  67.5  53.4       59.3           0.02       20.4        52.0   \n",
       "4/12/2021   T  74.1  41.0       42.3           0.00       20.0         1.8   \n",
       "4/13/2021   W  66.7  45.4       57.0           0.01        5.6        47.5   \n",
       "4/14/2021   R  75.6  46.8       60.1           0.13       14.2        58.6   \n",
       "4/15/2021   F  61.0  46.2       42.7           0.02       17.2        68.5   \n",
       "4/16/2021   M  62.1  31.8       44.9           0.00        9.1        35.2   \n",
       "4/17/2021   T  59.4  38.9       50.2           0.00        8.6        88.3   \n",
       "4/18/2021   W  64.0  46.1       46.2           0.00        7.6        87.2   \n",
       "4/19/2021   R  63.3  46.4       46.1           0.02       10.8        70.6   \n",
       "4/20/2021   F  72.8  38.5       55.9           0.00       14.8        31.3   \n",
       "4/21/2021   M  55.7  34.4       30.7           0.03       15.8        82.2   \n",
       "4/22/2021   T  53.6  25.8       31.1           0.00       14.3        23.2   \n",
       "4/23/2021   W  57.3  28.8       44.1           0.00       10.6        36.8   \n",
       "4/24/2021   R  57.4  44.0       43.8           0.76        8.5        57.8   \n",
       "4/25/2021   F  63.2  47.7       48.3           0.04       10.7        51.4   \n",
       "4/26/2021   M  77.3  37.8       47.7           0.00        5.3        12.9   \n",
       "4/27/2021   T  81.6  47.9       80.6           0.00        9.1        23.5   \n",
       "4/28/2021   W  81.2  58.7       81.4           0.00       14.6        73.3   \n",
       "4/29/2021   R  77.7  58.8       68.6           0.03       18.1        83.9   \n",
       "4/30/2021   F  72.7  51.0       63.4           0.09       17.6        40.5   \n",
       "\n",
       "           RelativeHumidity  Demand  \n",
       "Date time                            \n",
       "4/11/2021             63.09   852.0  \n",
       "4/12/2021             46.99   280.0  \n",
       "4/13/2021             61.05   950.0  \n",
       "4/14/2021             66.72   270.0  \n",
       "4/15/2021             59.96   846.0  \n",
       "4/16/2021             56.66   916.0  \n",
       "4/17/2021             62.22   309.0  \n",
       "4/18/2021             53.36   913.0  \n",
       "4/19/2021             54.53   310.0  \n",
       "4/20/2021             56.90   891.0  \n",
       "4/21/2021             59.03   802.0  \n",
       "4/22/2021             55.61   301.0  \n",
       "4/23/2021             58.16   881.0  \n",
       "4/24/2021             80.51   283.0  \n",
       "4/25/2021             69.64   917.0  \n",
       "4/26/2021             58.33  1032.0  \n",
       "4/27/2021             58.97   306.0  \n",
       "4/28/2021             65.66   953.0  \n",
       "4/29/2021             72.42   263.0  \n",
       "4/30/2021             55.24   872.0  "
      ]
     },
     "execution_count": 70,
     "metadata": {},
     "output_type": "execute_result"
    }
   ],
   "source": [
    "FeaturesAndDemands.tail(20) "
   ]
  },
  {
   "cell_type": "code",
   "execution_count": 71,
   "metadata": {
    "scrolled": false
   },
   "outputs": [
    {
     "data": {
      "application/vnd.jupyter.widget-view+json": {
       "model_id": "216a447d8b9845d498a29499b669d3f3",
       "version_major": 2,
       "version_minor": 0
      },
      "text/plain": [
       "HBox(children=(HTML(value=''), FloatProgress(value=0.0), HTML(value='')))"
      ]
     },
     "metadata": {},
     "output_type": "display_data"
    },
    {
     "data": {
      "application/vnd.jupyter.widget-view+json": {
       "model_id": "",
       "version_major": 2,
       "version_minor": 0
      },
      "text/plain": [
       "HBox(children=(HTML(value=''), FloatProgress(value=0.0, max=250.0), HTML(value='')))"
      ]
     },
     "metadata": {},
     "output_type": "display_data"
    },
    {
     "data": {
      "application/vnd.jupyter.widget-view+json": {
       "model_id": "",
       "version_major": 2,
       "version_minor": 0
      },
      "text/plain": [
       "HBox(children=(HTML(value=''), FloatProgress(value=0.0, max=250.0), HTML(value='')))"
      ]
     },
     "metadata": {},
     "output_type": "display_data"
    },
    {
     "data": {
      "application/vnd.jupyter.widget-view+json": {
       "model_id": "",
       "version_major": 2,
       "version_minor": 0
      },
      "text/plain": [
       "HBox(children=(HTML(value=''), FloatProgress(value=0.0, max=250.0), HTML(value='')))"
      ]
     },
     "metadata": {},
     "output_type": "display_data"
    },
    {
     "data": {
      "application/vnd.jupyter.widget-view+json": {
       "model_id": "",
       "version_major": 2,
       "version_minor": 0
      },
      "text/plain": [
       "HBox(children=(HTML(value=''), FloatProgress(value=0.0, max=250.0), HTML(value='')))"
      ]
     },
     "metadata": {},
     "output_type": "display_data"
    },
    {
     "data": {
      "application/vnd.jupyter.widget-view+json": {
       "model_id": "",
       "version_major": 2,
       "version_minor": 0
      },
      "text/plain": [
       "HBox(children=(HTML(value=''), FloatProgress(value=0.0, max=250.0), HTML(value='')))"
      ]
     },
     "metadata": {},
     "output_type": "display_data"
    },
    {
     "data": {
      "application/vnd.jupyter.widget-view+json": {
       "model_id": "",
       "version_major": 2,
       "version_minor": 0
      },
      "text/plain": [
       "HBox(children=(HTML(value=''), FloatProgress(value=0.0, max=250.0), HTML(value='')))"
      ]
     },
     "metadata": {},
     "output_type": "display_data"
    },
    {
     "data": {
      "application/vnd.jupyter.widget-view+json": {
       "model_id": "",
       "version_major": 2,
       "version_minor": 0
      },
      "text/plain": [
       "HBox(children=(HTML(value=''), FloatProgress(value=0.0, max=250.0), HTML(value='')))"
      ]
     },
     "metadata": {},
     "output_type": "display_data"
    },
    {
     "data": {
      "application/vnd.jupyter.widget-view+json": {
       "model_id": "",
       "version_major": 2,
       "version_minor": 0
      },
      "text/plain": [
       "HBox(children=(HTML(value=''), FloatProgress(value=0.0, max=250.0), HTML(value='')))"
      ]
     },
     "metadata": {},
     "output_type": "display_data"
    },
    {
     "data": {
      "application/vnd.jupyter.widget-view+json": {
       "model_id": "",
       "version_major": 2,
       "version_minor": 0
      },
      "text/plain": [
       "HBox(children=(HTML(value=''), FloatProgress(value=0.0, max=250.0), HTML(value='')))"
      ]
     },
     "metadata": {},
     "output_type": "display_data"
    },
    {
     "data": {
      "application/vnd.jupyter.widget-view+json": {
       "model_id": "",
       "version_major": 2,
       "version_minor": 0
      },
      "text/plain": [
       "HBox(children=(HTML(value=''), FloatProgress(value=0.0, max=250.0), HTML(value='')))"
      ]
     },
     "metadata": {},
     "output_type": "display_data"
    },
    {
     "data": {
      "application/vnd.jupyter.widget-view+json": {
       "model_id": "",
       "version_major": 2,
       "version_minor": 0
      },
      "text/plain": [
       "HBox(children=(HTML(value=''), FloatProgress(value=0.0, max=250.0), HTML(value='')))"
      ]
     },
     "metadata": {},
     "output_type": "display_data"
    },
    {
     "data": {
      "application/vnd.jupyter.widget-view+json": {
       "model_id": "",
       "version_major": 2,
       "version_minor": 0
      },
      "text/plain": [
       "HBox(children=(HTML(value=''), FloatProgress(value=0.0, max=250.0), HTML(value='')))"
      ]
     },
     "metadata": {},
     "output_type": "display_data"
    },
    {
     "data": {
      "application/vnd.jupyter.widget-view+json": {
       "model_id": "",
       "version_major": 2,
       "version_minor": 0
      },
      "text/plain": [
       "HBox(children=(HTML(value=''), FloatProgress(value=0.0, max=250.0), HTML(value='')))"
      ]
     },
     "metadata": {},
     "output_type": "display_data"
    },
    {
     "data": {
      "application/vnd.jupyter.widget-view+json": {
       "model_id": "",
       "version_major": 2,
       "version_minor": 0
      },
      "text/plain": [
       "HBox(children=(HTML(value=''), FloatProgress(value=0.0, max=250.0), HTML(value='')))"
      ]
     },
     "metadata": {},
     "output_type": "display_data"
    },
    {
     "data": {
      "application/vnd.jupyter.widget-view+json": {
       "model_id": "",
       "version_major": 2,
       "version_minor": 0
      },
      "text/plain": [
       "HBox(children=(HTML(value=''), FloatProgress(value=0.0, max=250.0), HTML(value='')))"
      ]
     },
     "metadata": {},
     "output_type": "display_data"
    },
    {
     "data": {
      "application/vnd.jupyter.widget-view+json": {
       "model_id": "",
       "version_major": 2,
       "version_minor": 0
      },
      "text/plain": [
       "HBox(children=(HTML(value=''), FloatProgress(value=0.0, max=250.0), HTML(value='')))"
      ]
     },
     "metadata": {},
     "output_type": "display_data"
    },
    {
     "data": {
      "application/vnd.jupyter.widget-view+json": {
       "model_id": "",
       "version_major": 2,
       "version_minor": 0
      },
      "text/plain": [
       "HBox(children=(HTML(value=''), FloatProgress(value=0.0, max=250.0), HTML(value='')))"
      ]
     },
     "metadata": {},
     "output_type": "display_data"
    },
    {
     "data": {
      "application/vnd.jupyter.widget-view+json": {
       "model_id": "",
       "version_major": 2,
       "version_minor": 0
      },
      "text/plain": [
       "HBox(children=(HTML(value=''), FloatProgress(value=0.0, max=250.0), HTML(value='')))"
      ]
     },
     "metadata": {},
     "output_type": "display_data"
    },
    {
     "data": {
      "application/vnd.jupyter.widget-view+json": {
       "model_id": "",
       "version_major": 2,
       "version_minor": 0
      },
      "text/plain": [
       "HBox(children=(HTML(value=''), FloatProgress(value=0.0, max=250.0), HTML(value='')))"
      ]
     },
     "metadata": {},
     "output_type": "display_data"
    },
    {
     "data": {
      "application/vnd.jupyter.widget-view+json": {
       "model_id": "",
       "version_major": 2,
       "version_minor": 0
      },
      "text/plain": [
       "HBox(children=(HTML(value=''), FloatProgress(value=0.0, max=250.0), HTML(value='')))"
      ]
     },
     "metadata": {},
     "output_type": "display_data"
    },
    {
     "data": {
      "application/vnd.jupyter.widget-view+json": {
       "model_id": "",
       "version_major": 2,
       "version_minor": 0
      },
      "text/plain": [
       "HBox(children=(HTML(value=''), FloatProgress(value=0.0, max=250.0), HTML(value='')))"
      ]
     },
     "metadata": {},
     "output_type": "display_data"
    },
    {
     "data": {
      "application/vnd.jupyter.widget-view+json": {
       "model_id": "",
       "version_major": 2,
       "version_minor": 0
      },
      "text/plain": [
       "HBox(children=(HTML(value=''), FloatProgress(value=0.0, max=250.0), HTML(value='')))"
      ]
     },
     "metadata": {},
     "output_type": "display_data"
    },
    {
     "data": {
      "application/vnd.jupyter.widget-view+json": {
       "model_id": "",
       "version_major": 2,
       "version_minor": 0
      },
      "text/plain": [
       "HBox(children=(HTML(value=''), FloatProgress(value=0.0, max=250.0), HTML(value='')))"
      ]
     },
     "metadata": {},
     "output_type": "display_data"
    },
    {
     "data": {
      "application/vnd.jupyter.widget-view+json": {
       "model_id": "",
       "version_major": 2,
       "version_minor": 0
      },
      "text/plain": [
       "HBox(children=(HTML(value=''), FloatProgress(value=0.0, max=250.0), HTML(value='')))"
      ]
     },
     "metadata": {},
     "output_type": "display_data"
    },
    {
     "data": {
      "application/vnd.jupyter.widget-view+json": {
       "model_id": "",
       "version_major": 2,
       "version_minor": 0
      },
      "text/plain": [
       "HBox(children=(HTML(value=''), FloatProgress(value=0.0, max=250.0), HTML(value='')))"
      ]
     },
     "metadata": {},
     "output_type": "display_data"
    },
    {
     "data": {
      "application/vnd.jupyter.widget-view+json": {
       "model_id": "",
       "version_major": 2,
       "version_minor": 0
      },
      "text/plain": [
       "HBox(children=(HTML(value=''), FloatProgress(value=0.0, max=250.0), HTML(value='')))"
      ]
     },
     "metadata": {},
     "output_type": "display_data"
    },
    {
     "data": {
      "application/vnd.jupyter.widget-view+json": {
       "model_id": "",
       "version_major": 2,
       "version_minor": 0
      },
      "text/plain": [
       "HBox(children=(HTML(value=''), FloatProgress(value=0.0, max=250.0), HTML(value='')))"
      ]
     },
     "metadata": {},
     "output_type": "display_data"
    },
    {
     "data": {
      "application/vnd.jupyter.widget-view+json": {
       "model_id": "",
       "version_major": 2,
       "version_minor": 0
      },
      "text/plain": [
       "HBox(children=(HTML(value=''), FloatProgress(value=0.0, max=250.0), HTML(value='')))"
      ]
     },
     "metadata": {},
     "output_type": "display_data"
    },
    {
     "data": {
      "application/vnd.jupyter.widget-view+json": {
       "model_id": "",
       "version_major": 2,
       "version_minor": 0
      },
      "text/plain": [
       "HBox(children=(HTML(value=''), FloatProgress(value=0.0, max=250.0), HTML(value='')))"
      ]
     },
     "metadata": {},
     "output_type": "display_data"
    },
    {
     "data": {
      "application/vnd.jupyter.widget-view+json": {
       "model_id": "",
       "version_major": 2,
       "version_minor": 0
      },
      "text/plain": [
       "HBox(children=(HTML(value=''), FloatProgress(value=0.0, max=250.0), HTML(value='')))"
      ]
     },
     "metadata": {},
     "output_type": "display_data"
    },
    {
     "data": {
      "application/vnd.jupyter.widget-view+json": {
       "model_id": "",
       "version_major": 2,
       "version_minor": 0
      },
      "text/plain": [
       "HBox(children=(HTML(value=''), FloatProgress(value=0.0, max=250.0), HTML(value='')))"
      ]
     },
     "metadata": {},
     "output_type": "display_data"
    },
    {
     "data": {
      "application/vnd.jupyter.widget-view+json": {
       "model_id": "",
       "version_major": 2,
       "version_minor": 0
      },
      "text/plain": [
       "HBox(children=(HTML(value=''), FloatProgress(value=0.0, max=250.0), HTML(value='')))"
      ]
     },
     "metadata": {},
     "output_type": "display_data"
    },
    {
     "data": {
      "application/vnd.jupyter.widget-view+json": {
       "model_id": "",
       "version_major": 2,
       "version_minor": 0
      },
      "text/plain": [
       "HBox(children=(HTML(value=''), FloatProgress(value=0.0, max=250.0), HTML(value='')))"
      ]
     },
     "metadata": {},
     "output_type": "display_data"
    },
    {
     "data": {
      "application/vnd.jupyter.widget-view+json": {
       "model_id": "",
       "version_major": 2,
       "version_minor": 0
      },
      "text/plain": [
       "HBox(children=(HTML(value=''), FloatProgress(value=0.0, max=250.0), HTML(value='')))"
      ]
     },
     "metadata": {},
     "output_type": "display_data"
    },
    {
     "data": {
      "application/vnd.jupyter.widget-view+json": {
       "model_id": "",
       "version_major": 2,
       "version_minor": 0
      },
      "text/plain": [
       "HBox(children=(HTML(value=''), FloatProgress(value=0.0, max=250.0), HTML(value='')))"
      ]
     },
     "metadata": {},
     "output_type": "display_data"
    },
    {
     "data": {
      "application/vnd.jupyter.widget-view+json": {
       "model_id": "",
       "version_major": 2,
       "version_minor": 0
      },
      "text/plain": [
       "HBox(children=(HTML(value=''), FloatProgress(value=0.0, max=250.0), HTML(value='')))"
      ]
     },
     "metadata": {},
     "output_type": "display_data"
    },
    {
     "data": {
      "application/vnd.jupyter.widget-view+json": {
       "model_id": "",
       "version_major": 2,
       "version_minor": 0
      },
      "text/plain": [
       "HBox(children=(HTML(value=''), FloatProgress(value=0.0, max=250.0), HTML(value='')))"
      ]
     },
     "metadata": {},
     "output_type": "display_data"
    },
    {
     "data": {
      "application/vnd.jupyter.widget-view+json": {
       "model_id": "",
       "version_major": 2,
       "version_minor": 0
      },
      "text/plain": [
       "HBox(children=(HTML(value=''), FloatProgress(value=0.0, max=250.0), HTML(value='')))"
      ]
     },
     "metadata": {},
     "output_type": "display_data"
    },
    {
     "data": {
      "application/vnd.jupyter.widget-view+json": {
       "model_id": "",
       "version_major": 2,
       "version_minor": 0
      },
      "text/plain": [
       "HBox(children=(HTML(value=''), FloatProgress(value=0.0, max=250.0), HTML(value='')))"
      ]
     },
     "metadata": {},
     "output_type": "display_data"
    },
    {
     "data": {
      "application/vnd.jupyter.widget-view+json": {
       "model_id": "",
       "version_major": 2,
       "version_minor": 0
      },
      "text/plain": [
       "HBox(children=(HTML(value=''), FloatProgress(value=0.0, max=250.0), HTML(value='')))"
      ]
     },
     "metadata": {},
     "output_type": "display_data"
    },
    {
     "data": {
      "application/vnd.jupyter.widget-view+json": {
       "model_id": "",
       "version_major": 2,
       "version_minor": 0
      },
      "text/plain": [
       "HBox(children=(HTML(value=''), FloatProgress(value=0.0, max=250.0), HTML(value='')))"
      ]
     },
     "metadata": {},
     "output_type": "display_data"
    },
    {
     "data": {
      "application/vnd.jupyter.widget-view+json": {
       "model_id": "",
       "version_major": 2,
       "version_minor": 0
      },
      "text/plain": [
       "HBox(children=(HTML(value=''), FloatProgress(value=0.0, max=250.0), HTML(value='')))"
      ]
     },
     "metadata": {},
     "output_type": "display_data"
    },
    {
     "data": {
      "application/vnd.jupyter.widget-view+json": {
       "model_id": "",
       "version_major": 2,
       "version_minor": 0
      },
      "text/plain": [
       "HBox(children=(HTML(value=''), FloatProgress(value=0.0, max=250.0), HTML(value='')))"
      ]
     },
     "metadata": {},
     "output_type": "display_data"
    },
    {
     "data": {
      "application/vnd.jupyter.widget-view+json": {
       "model_id": "",
       "version_major": 2,
       "version_minor": 0
      },
      "text/plain": [
       "HBox(children=(HTML(value=''), FloatProgress(value=0.0, max=250.0), HTML(value='')))"
      ]
     },
     "metadata": {},
     "output_type": "display_data"
    },
    {
     "data": {
      "application/vnd.jupyter.widget-view+json": {
       "model_id": "",
       "version_major": 2,
       "version_minor": 0
      },
      "text/plain": [
       "HBox(children=(HTML(value=''), FloatProgress(value=0.0, max=250.0), HTML(value='')))"
      ]
     },
     "metadata": {},
     "output_type": "display_data"
    },
    {
     "data": {
      "application/vnd.jupyter.widget-view+json": {
       "model_id": "",
       "version_major": 2,
       "version_minor": 0
      },
      "text/plain": [
       "HBox(children=(HTML(value=''), FloatProgress(value=0.0, max=250.0), HTML(value='')))"
      ]
     },
     "metadata": {},
     "output_type": "display_data"
    },
    {
     "data": {
      "application/vnd.jupyter.widget-view+json": {
       "model_id": "",
       "version_major": 2,
       "version_minor": 0
      },
      "text/plain": [
       "HBox(children=(HTML(value=''), FloatProgress(value=0.0, max=250.0), HTML(value='')))"
      ]
     },
     "metadata": {},
     "output_type": "display_data"
    },
    {
     "data": {
      "application/vnd.jupyter.widget-view+json": {
       "model_id": "",
       "version_major": 2,
       "version_minor": 0
      },
      "text/plain": [
       "HBox(children=(HTML(value=''), FloatProgress(value=0.0, max=250.0), HTML(value='')))"
      ]
     },
     "metadata": {},
     "output_type": "display_data"
    },
    {
     "data": {
      "application/vnd.jupyter.widget-view+json": {
       "model_id": "",
       "version_major": 2,
       "version_minor": 0
      },
      "text/plain": [
       "HBox(children=(HTML(value=''), FloatProgress(value=0.0, max=250.0), HTML(value='')))"
      ]
     },
     "metadata": {},
     "output_type": "display_data"
    },
    {
     "data": {
      "application/vnd.jupyter.widget-view+json": {
       "model_id": "",
       "version_major": 2,
       "version_minor": 0
      },
      "text/plain": [
       "HBox(children=(HTML(value=''), FloatProgress(value=0.0, max=250.0), HTML(value='')))"
      ]
     },
     "metadata": {},
     "output_type": "display_data"
    },
    {
     "data": {
      "application/vnd.jupyter.widget-view+json": {
       "model_id": "",
       "version_major": 2,
       "version_minor": 0
      },
      "text/plain": [
       "HBox(children=(HTML(value=''), FloatProgress(value=0.0, max=250.0), HTML(value='')))"
      ]
     },
     "metadata": {},
     "output_type": "display_data"
    },
    {
     "data": {
      "application/vnd.jupyter.widget-view+json": {
       "model_id": "",
       "version_major": 2,
       "version_minor": 0
      },
      "text/plain": [
       "HBox(children=(HTML(value=''), FloatProgress(value=0.0, max=250.0), HTML(value='')))"
      ]
     },
     "metadata": {},
     "output_type": "display_data"
    },
    {
     "data": {
      "application/vnd.jupyter.widget-view+json": {
       "model_id": "",
       "version_major": 2,
       "version_minor": 0
      },
      "text/plain": [
       "HBox(children=(HTML(value=''), FloatProgress(value=0.0, max=250.0), HTML(value='')))"
      ]
     },
     "metadata": {},
     "output_type": "display_data"
    },
    {
     "data": {
      "application/vnd.jupyter.widget-view+json": {
       "model_id": "",
       "version_major": 2,
       "version_minor": 0
      },
      "text/plain": [
       "HBox(children=(HTML(value=''), FloatProgress(value=0.0, max=250.0), HTML(value='')))"
      ]
     },
     "metadata": {},
     "output_type": "display_data"
    },
    {
     "data": {
      "application/vnd.jupyter.widget-view+json": {
       "model_id": "",
       "version_major": 2,
       "version_minor": 0
      },
      "text/plain": [
       "HBox(children=(HTML(value=''), FloatProgress(value=0.0, max=250.0), HTML(value='')))"
      ]
     },
     "metadata": {},
     "output_type": "display_data"
    },
    {
     "data": {
      "application/vnd.jupyter.widget-view+json": {
       "model_id": "",
       "version_major": 2,
       "version_minor": 0
      },
      "text/plain": [
       "HBox(children=(HTML(value=''), FloatProgress(value=0.0, max=250.0), HTML(value='')))"
      ]
     },
     "metadata": {},
     "output_type": "display_data"
    },
    {
     "data": {
      "application/vnd.jupyter.widget-view+json": {
       "model_id": "",
       "version_major": 2,
       "version_minor": 0
      },
      "text/plain": [
       "HBox(children=(HTML(value=''), FloatProgress(value=0.0, max=250.0), HTML(value='')))"
      ]
     },
     "metadata": {},
     "output_type": "display_data"
    },
    {
     "data": {
      "application/vnd.jupyter.widget-view+json": {
       "model_id": "",
       "version_major": 2,
       "version_minor": 0
      },
      "text/plain": [
       "HBox(children=(HTML(value=''), FloatProgress(value=0.0, max=250.0), HTML(value='')))"
      ]
     },
     "metadata": {},
     "output_type": "display_data"
    },
    {
     "data": {
      "application/vnd.jupyter.widget-view+json": {
       "model_id": "",
       "version_major": 2,
       "version_minor": 0
      },
      "text/plain": [
       "HBox(children=(HTML(value=''), FloatProgress(value=0.0, max=250.0), HTML(value='')))"
      ]
     },
     "metadata": {},
     "output_type": "display_data"
    },
    {
     "data": {
      "application/vnd.jupyter.widget-view+json": {
       "model_id": "",
       "version_major": 2,
       "version_minor": 0
      },
      "text/plain": [
       "HBox(children=(HTML(value=''), FloatProgress(value=0.0, max=250.0), HTML(value='')))"
      ]
     },
     "metadata": {},
     "output_type": "display_data"
    },
    {
     "data": {
      "application/vnd.jupyter.widget-view+json": {
       "model_id": "",
       "version_major": 2,
       "version_minor": 0
      },
      "text/plain": [
       "HBox(children=(HTML(value=''), FloatProgress(value=0.0, max=250.0), HTML(value='')))"
      ]
     },
     "metadata": {},
     "output_type": "display_data"
    },
    {
     "data": {
      "application/vnd.jupyter.widget-view+json": {
       "model_id": "",
       "version_major": 2,
       "version_minor": 0
      },
      "text/plain": [
       "HBox(children=(HTML(value=''), FloatProgress(value=0.0, max=250.0), HTML(value='')))"
      ]
     },
     "metadata": {},
     "output_type": "display_data"
    },
    {
     "data": {
      "application/vnd.jupyter.widget-view+json": {
       "model_id": "",
       "version_major": 2,
       "version_minor": 0
      },
      "text/plain": [
       "HBox(children=(HTML(value=''), FloatProgress(value=0.0, max=250.0), HTML(value='')))"
      ]
     },
     "metadata": {},
     "output_type": "display_data"
    },
    {
     "data": {
      "application/vnd.jupyter.widget-view+json": {
       "model_id": "",
       "version_major": 2,
       "version_minor": 0
      },
      "text/plain": [
       "HBox(children=(HTML(value=''), FloatProgress(value=0.0, max=250.0), HTML(value='')))"
      ]
     },
     "metadata": {},
     "output_type": "display_data"
    },
    {
     "data": {
      "application/vnd.jupyter.widget-view+json": {
       "model_id": "",
       "version_major": 2,
       "version_minor": 0
      },
      "text/plain": [
       "HBox(children=(HTML(value=''), FloatProgress(value=0.0, max=250.0), HTML(value='')))"
      ]
     },
     "metadata": {},
     "output_type": "display_data"
    },
    {
     "data": {
      "application/vnd.jupyter.widget-view+json": {
       "model_id": "",
       "version_major": 2,
       "version_minor": 0
      },
      "text/plain": [
       "HBox(children=(HTML(value=''), FloatProgress(value=0.0, max=250.0), HTML(value='')))"
      ]
     },
     "metadata": {},
     "output_type": "display_data"
    },
    {
     "data": {
      "application/vnd.jupyter.widget-view+json": {
       "model_id": "",
       "version_major": 2,
       "version_minor": 0
      },
      "text/plain": [
       "HBox(children=(HTML(value=''), FloatProgress(value=0.0, max=250.0), HTML(value='')))"
      ]
     },
     "metadata": {},
     "output_type": "display_data"
    },
    {
     "data": {
      "application/vnd.jupyter.widget-view+json": {
       "model_id": "",
       "version_major": 2,
       "version_minor": 0
      },
      "text/plain": [
       "HBox(children=(HTML(value=''), FloatProgress(value=0.0, max=250.0), HTML(value='')))"
      ]
     },
     "metadata": {},
     "output_type": "display_data"
    },
    {
     "data": {
      "application/vnd.jupyter.widget-view+json": {
       "model_id": "",
       "version_major": 2,
       "version_minor": 0
      },
      "text/plain": [
       "HBox(children=(HTML(value=''), FloatProgress(value=0.0, max=250.0), HTML(value='')))"
      ]
     },
     "metadata": {},
     "output_type": "display_data"
    },
    {
     "data": {
      "application/vnd.jupyter.widget-view+json": {
       "model_id": "",
       "version_major": 2,
       "version_minor": 0
      },
      "text/plain": [
       "HBox(children=(HTML(value=''), FloatProgress(value=0.0, max=250.0), HTML(value='')))"
      ]
     },
     "metadata": {},
     "output_type": "display_data"
    },
    {
     "data": {
      "application/vnd.jupyter.widget-view+json": {
       "model_id": "",
       "version_major": 2,
       "version_minor": 0
      },
      "text/plain": [
       "HBox(children=(HTML(value=''), FloatProgress(value=0.0, max=250.0), HTML(value='')))"
      ]
     },
     "metadata": {},
     "output_type": "display_data"
    },
    {
     "data": {
      "application/vnd.jupyter.widget-view+json": {
       "model_id": "",
       "version_major": 2,
       "version_minor": 0
      },
      "text/plain": [
       "HBox(children=(HTML(value=''), FloatProgress(value=0.0, max=250.0), HTML(value='')))"
      ]
     },
     "metadata": {},
     "output_type": "display_data"
    },
    {
     "data": {
      "application/vnd.jupyter.widget-view+json": {
       "model_id": "",
       "version_major": 2,
       "version_minor": 0
      },
      "text/plain": [
       "HBox(children=(HTML(value=''), FloatProgress(value=0.0, max=250.0), HTML(value='')))"
      ]
     },
     "metadata": {},
     "output_type": "display_data"
    },
    {
     "data": {
      "application/vnd.jupyter.widget-view+json": {
       "model_id": "",
       "version_major": 2,
       "version_minor": 0
      },
      "text/plain": [
       "HBox(children=(HTML(value=''), FloatProgress(value=0.0, max=250.0), HTML(value='')))"
      ]
     },
     "metadata": {},
     "output_type": "display_data"
    },
    {
     "data": {
      "application/vnd.jupyter.widget-view+json": {
       "model_id": "",
       "version_major": 2,
       "version_minor": 0
      },
      "text/plain": [
       "HBox(children=(HTML(value=''), FloatProgress(value=0.0, max=250.0), HTML(value='')))"
      ]
     },
     "metadata": {},
     "output_type": "display_data"
    },
    {
     "data": {
      "application/vnd.jupyter.widget-view+json": {
       "model_id": "",
       "version_major": 2,
       "version_minor": 0
      },
      "text/plain": [
       "HBox(children=(HTML(value=''), FloatProgress(value=0.0, max=250.0), HTML(value='')))"
      ]
     },
     "metadata": {},
     "output_type": "display_data"
    },
    {
     "data": {
      "application/vnd.jupyter.widget-view+json": {
       "model_id": "",
       "version_major": 2,
       "version_minor": 0
      },
      "text/plain": [
       "HBox(children=(HTML(value=''), FloatProgress(value=0.0, max=250.0), HTML(value='')))"
      ]
     },
     "metadata": {},
     "output_type": "display_data"
    },
    {
     "data": {
      "application/vnd.jupyter.widget-view+json": {
       "model_id": "",
       "version_major": 2,
       "version_minor": 0
      },
      "text/plain": [
       "HBox(children=(HTML(value=''), FloatProgress(value=0.0, max=250.0), HTML(value='')))"
      ]
     },
     "metadata": {},
     "output_type": "display_data"
    },
    {
     "data": {
      "application/vnd.jupyter.widget-view+json": {
       "model_id": "",
       "version_major": 2,
       "version_minor": 0
      },
      "text/plain": [
       "HBox(children=(HTML(value=''), FloatProgress(value=0.0, max=250.0), HTML(value='')))"
      ]
     },
     "metadata": {},
     "output_type": "display_data"
    },
    {
     "data": {
      "application/vnd.jupyter.widget-view+json": {
       "model_id": "",
       "version_major": 2,
       "version_minor": 0
      },
      "text/plain": [
       "HBox(children=(HTML(value=''), FloatProgress(value=0.0, max=250.0), HTML(value='')))"
      ]
     },
     "metadata": {},
     "output_type": "display_data"
    },
    {
     "data": {
      "application/vnd.jupyter.widget-view+json": {
       "model_id": "",
       "version_major": 2,
       "version_minor": 0
      },
      "text/plain": [
       "HBox(children=(HTML(value=''), FloatProgress(value=0.0, max=250.0), HTML(value='')))"
      ]
     },
     "metadata": {},
     "output_type": "display_data"
    },
    {
     "data": {
      "application/vnd.jupyter.widget-view+json": {
       "model_id": "",
       "version_major": 2,
       "version_minor": 0
      },
      "text/plain": [
       "HBox(children=(HTML(value=''), FloatProgress(value=0.0, max=250.0), HTML(value='')))"
      ]
     },
     "metadata": {},
     "output_type": "display_data"
    },
    {
     "data": {
      "application/vnd.jupyter.widget-view+json": {
       "model_id": "",
       "version_major": 2,
       "version_minor": 0
      },
      "text/plain": [
       "HBox(children=(HTML(value=''), FloatProgress(value=0.0, max=250.0), HTML(value='')))"
      ]
     },
     "metadata": {},
     "output_type": "display_data"
    },
    {
     "data": {
      "application/vnd.jupyter.widget-view+json": {
       "model_id": "",
       "version_major": 2,
       "version_minor": 0
      },
      "text/plain": [
       "HBox(children=(HTML(value=''), FloatProgress(value=0.0, max=250.0), HTML(value='')))"
      ]
     },
     "metadata": {},
     "output_type": "display_data"
    },
    {
     "data": {
      "application/vnd.jupyter.widget-view+json": {
       "model_id": "",
       "version_major": 2,
       "version_minor": 0
      },
      "text/plain": [
       "HBox(children=(HTML(value=''), FloatProgress(value=0.0, max=250.0), HTML(value='')))"
      ]
     },
     "metadata": {},
     "output_type": "display_data"
    },
    {
     "data": {
      "application/vnd.jupyter.widget-view+json": {
       "model_id": "",
       "version_major": 2,
       "version_minor": 0
      },
      "text/plain": [
       "HBox(children=(HTML(value=''), FloatProgress(value=0.0, max=250.0), HTML(value='')))"
      ]
     },
     "metadata": {},
     "output_type": "display_data"
    },
    {
     "data": {
      "application/vnd.jupyter.widget-view+json": {
       "model_id": "",
       "version_major": 2,
       "version_minor": 0
      },
      "text/plain": [
       "HBox(children=(HTML(value=''), FloatProgress(value=0.0, max=250.0), HTML(value='')))"
      ]
     },
     "metadata": {},
     "output_type": "display_data"
    },
    {
     "data": {
      "application/vnd.jupyter.widget-view+json": {
       "model_id": "",
       "version_major": 2,
       "version_minor": 0
      },
      "text/plain": [
       "HBox(children=(HTML(value=''), FloatProgress(value=0.0, max=250.0), HTML(value='')))"
      ]
     },
     "metadata": {},
     "output_type": "display_data"
    },
    {
     "data": {
      "application/vnd.jupyter.widget-view+json": {
       "model_id": "",
       "version_major": 2,
       "version_minor": 0
      },
      "text/plain": [
       "HBox(children=(HTML(value=''), FloatProgress(value=0.0, max=250.0), HTML(value='')))"
      ]
     },
     "metadata": {},
     "output_type": "display_data"
    },
    {
     "data": {
      "application/vnd.jupyter.widget-view+json": {
       "model_id": "",
       "version_major": 2,
       "version_minor": 0
      },
      "text/plain": [
       "HBox(children=(HTML(value=''), FloatProgress(value=0.0, max=250.0), HTML(value='')))"
      ]
     },
     "metadata": {},
     "output_type": "display_data"
    },
    {
     "data": {
      "application/vnd.jupyter.widget-view+json": {
       "model_id": "",
       "version_major": 2,
       "version_minor": 0
      },
      "text/plain": [
       "HBox(children=(HTML(value=''), FloatProgress(value=0.0, max=250.0), HTML(value='')))"
      ]
     },
     "metadata": {},
     "output_type": "display_data"
    },
    {
     "data": {
      "application/vnd.jupyter.widget-view+json": {
       "model_id": "",
       "version_major": 2,
       "version_minor": 0
      },
      "text/plain": [
       "HBox(children=(HTML(value=''), FloatProgress(value=0.0, max=250.0), HTML(value='')))"
      ]
     },
     "metadata": {},
     "output_type": "display_data"
    },
    {
     "data": {
      "application/vnd.jupyter.widget-view+json": {
       "model_id": "",
       "version_major": 2,
       "version_minor": 0
      },
      "text/plain": [
       "HBox(children=(HTML(value=''), FloatProgress(value=0.0, max=250.0), HTML(value='')))"
      ]
     },
     "metadata": {},
     "output_type": "display_data"
    },
    {
     "data": {
      "application/vnd.jupyter.widget-view+json": {
       "model_id": "",
       "version_major": 2,
       "version_minor": 0
      },
      "text/plain": [
       "HBox(children=(HTML(value=''), FloatProgress(value=0.0, max=250.0), HTML(value='')))"
      ]
     },
     "metadata": {},
     "output_type": "display_data"
    },
    {
     "data": {
      "application/vnd.jupyter.widget-view+json": {
       "model_id": "",
       "version_major": 2,
       "version_minor": 0
      },
      "text/plain": [
       "HBox(children=(HTML(value=''), FloatProgress(value=0.0, max=250.0), HTML(value='')))"
      ]
     },
     "metadata": {},
     "output_type": "display_data"
    },
    {
     "data": {
      "application/vnd.jupyter.widget-view+json": {
       "model_id": "",
       "version_major": 2,
       "version_minor": 0
      },
      "text/plain": [
       "HBox(children=(HTML(value=''), FloatProgress(value=0.0, max=250.0), HTML(value='')))"
      ]
     },
     "metadata": {},
     "output_type": "display_data"
    },
    {
     "data": {
      "application/vnd.jupyter.widget-view+json": {
       "model_id": "",
       "version_major": 2,
       "version_minor": 0
      },
      "text/plain": [
       "HBox(children=(HTML(value=''), FloatProgress(value=0.0, max=250.0), HTML(value='')))"
      ]
     },
     "metadata": {},
     "output_type": "display_data"
    },
    {
     "data": {
      "application/vnd.jupyter.widget-view+json": {
       "model_id": "",
       "version_major": 2,
       "version_minor": 0
      },
      "text/plain": [
       "HBox(children=(HTML(value=''), FloatProgress(value=0.0, max=250.0), HTML(value='')))"
      ]
     },
     "metadata": {},
     "output_type": "display_data"
    },
    {
     "data": {
      "application/vnd.jupyter.widget-view+json": {
       "model_id": "",
       "version_major": 2,
       "version_minor": 0
      },
      "text/plain": [
       "HBox(children=(HTML(value=''), FloatProgress(value=0.0, max=250.0), HTML(value='')))"
      ]
     },
     "metadata": {},
     "output_type": "display_data"
    },
    {
     "data": {
      "application/vnd.jupyter.widget-view+json": {
       "model_id": "",
       "version_major": 2,
       "version_minor": 0
      },
      "text/plain": [
       "HBox(children=(HTML(value=''), FloatProgress(value=0.0, max=250.0), HTML(value='')))"
      ]
     },
     "metadata": {},
     "output_type": "display_data"
    },
    {
     "name": "stdout",
     "output_type": "stream",
     "text": [
      "\n"
     ]
    }
   ],
   "source": [
    "## Multiple Instances of Schedules to create Demands \n",
    "FeaturesAndDemands = DailyDf.copy()\n",
    "for i in tqdm.trange(100):\n",
    "    CollegeStudents = [CollegeStudent() for __ in range(N_students)]\n",
    "    FeaturesAndDemands['Demand%s'%i] = np.zeros(len(DailyDf))\n",
    "    pd.DataFrame( columns = [ 'Day','Tmax','Tmin','FeelsLike','Precipitation','WindSpeed',\n",
    "                                                   'CloudCover','RelativeHumidity', 'Demand'],\n",
    "                                       index = DailyDf.index) \n",
    "    fdmax = FeatureScalars\n",
    "    fdmin = FeatureScalars \n",
    "    for idx, row in tqdm.tqdm(DailyDf.iterrows(), total=DailyDf.shape[0], leave=False):\n",
    "        FeatureScalars = np.array(\n",
    "                            [ PrecipToScaler_IC(row.Precipitation),\n",
    "                              WindSpeedToScaler_IC(row.WindSpeed), \n",
    "                              CloudCoverToScaler_IC(row.CloudCover),\n",
    "                              RelativeHumidityToScaler(row.RelativeHumidity),\n",
    "                              TempToScaler(row.FeelsLike,IC_ran),\n",
    "                              1.0 ] ) # for Max, Min temp scaling\n",
    "        Tmax = row.Tmax\n",
    "        Tmin = row.Tmin                    \n",
    "        n_purchases = 0\n",
    "        for student in CollegeStudents:\n",
    "            snackTemp = TempAtTime(student.GetSnackTime(row.Day), (Tmin,Tmax))\n",
    "            FeatureScalars[-1] = TempToScaler(snackTemp, IC_ran )\n",
    "            n_purchases += student.BuyIceCream(row.Day, FeatureScales=FeatureScalars)                  \n",
    "        FeaturesAndDemands.loc[idx,'Demand%s'%i] = n_purchases\n",
    "        fdmax = np.maximum(FeatureScalars, fdmax)\n",
    "        fdmin = np.minimum(FeatureScalars, fdmin)\n",
    "        \n",
    "## This Will Take Approximately 3(100) = 300 minutes (5 hours)"
   ]
  },
  {
   "cell_type": "code",
   "execution_count": 73,
   "metadata": {},
   "outputs": [
    {
     "data": {
      "text/html": [
       "<div>\n",
       "<style scoped>\n",
       "    .dataframe tbody tr th:only-of-type {\n",
       "        vertical-align: middle;\n",
       "    }\n",
       "\n",
       "    .dataframe tbody tr th {\n",
       "        vertical-align: top;\n",
       "    }\n",
       "\n",
       "    .dataframe thead th {\n",
       "        text-align: right;\n",
       "    }\n",
       "</style>\n",
       "<table border=\"1\" class=\"dataframe\">\n",
       "  <thead>\n",
       "    <tr style=\"text-align: right;\">\n",
       "      <th></th>\n",
       "      <th>Day</th>\n",
       "      <th>Tmax</th>\n",
       "      <th>Tmin</th>\n",
       "      <th>FeelsLike</th>\n",
       "      <th>Precipitation</th>\n",
       "      <th>WindSpeed</th>\n",
       "      <th>CloudCover</th>\n",
       "      <th>RelativeHumidity</th>\n",
       "      <th>Demand0</th>\n",
       "      <th>Demand1</th>\n",
       "      <th>...</th>\n",
       "      <th>Demand90</th>\n",
       "      <th>Demand91</th>\n",
       "      <th>Demand92</th>\n",
       "      <th>Demand93</th>\n",
       "      <th>Demand94</th>\n",
       "      <th>Demand95</th>\n",
       "      <th>Demand96</th>\n",
       "      <th>Demand97</th>\n",
       "      <th>Demand98</th>\n",
       "      <th>Demand99</th>\n",
       "    </tr>\n",
       "    <tr>\n",
       "      <th>Date time</th>\n",
       "      <th></th>\n",
       "      <th></th>\n",
       "      <th></th>\n",
       "      <th></th>\n",
       "      <th></th>\n",
       "      <th></th>\n",
       "      <th></th>\n",
       "      <th></th>\n",
       "      <th></th>\n",
       "      <th></th>\n",
       "      <th></th>\n",
       "      <th></th>\n",
       "      <th></th>\n",
       "      <th></th>\n",
       "      <th></th>\n",
       "      <th></th>\n",
       "      <th></th>\n",
       "      <th></th>\n",
       "      <th></th>\n",
       "      <th></th>\n",
       "      <th></th>\n",
       "    </tr>\n",
       "  </thead>\n",
       "  <tbody>\n",
       "    <tr>\n",
       "      <th>8/24/2020</th>\n",
       "      <td>M</td>\n",
       "      <td>86.5</td>\n",
       "      <td>66.4</td>\n",
       "      <td>88.9</td>\n",
       "      <td>0.00</td>\n",
       "      <td>6.4</td>\n",
       "      <td>57.1</td>\n",
       "      <td>77.67</td>\n",
       "      <td>959.0</td>\n",
       "      <td>1086.0</td>\n",
       "      <td>...</td>\n",
       "      <td>1045.0</td>\n",
       "      <td>985.0</td>\n",
       "      <td>1040.0</td>\n",
       "      <td>1037.0</td>\n",
       "      <td>1011.0</td>\n",
       "      <td>1067.0</td>\n",
       "      <td>1033.0</td>\n",
       "      <td>1011.0</td>\n",
       "      <td>1034.0</td>\n",
       "      <td>1032.0</td>\n",
       "    </tr>\n",
       "    <tr>\n",
       "      <th>8/25/2020</th>\n",
       "      <td>T</td>\n",
       "      <td>87.8</td>\n",
       "      <td>66.8</td>\n",
       "      <td>89.2</td>\n",
       "      <td>0.00</td>\n",
       "      <td>10.4</td>\n",
       "      <td>41.4</td>\n",
       "      <td>74.50</td>\n",
       "      <td>302.0</td>\n",
       "      <td>316.0</td>\n",
       "      <td>...</td>\n",
       "      <td>301.0</td>\n",
       "      <td>333.0</td>\n",
       "      <td>329.0</td>\n",
       "      <td>310.0</td>\n",
       "      <td>333.0</td>\n",
       "      <td>325.0</td>\n",
       "      <td>318.0</td>\n",
       "      <td>329.0</td>\n",
       "      <td>308.0</td>\n",
       "      <td>353.0</td>\n",
       "    </tr>\n",
       "    <tr>\n",
       "      <th>8/26/2020</th>\n",
       "      <td>W</td>\n",
       "      <td>89.0</td>\n",
       "      <td>65.6</td>\n",
       "      <td>91.5</td>\n",
       "      <td>0.00</td>\n",
       "      <td>6.9</td>\n",
       "      <td>39.4</td>\n",
       "      <td>76.62</td>\n",
       "      <td>1028.0</td>\n",
       "      <td>1059.0</td>\n",
       "      <td>...</td>\n",
       "      <td>1035.0</td>\n",
       "      <td>1119.0</td>\n",
       "      <td>1081.0</td>\n",
       "      <td>1070.0</td>\n",
       "      <td>1017.0</td>\n",
       "      <td>1080.0</td>\n",
       "      <td>1006.0</td>\n",
       "      <td>1051.0</td>\n",
       "      <td>1050.0</td>\n",
       "      <td>1047.0</td>\n",
       "    </tr>\n",
       "    <tr>\n",
       "      <th>8/27/2020</th>\n",
       "      <td>R</td>\n",
       "      <td>86.9</td>\n",
       "      <td>66.8</td>\n",
       "      <td>91.1</td>\n",
       "      <td>0.00</td>\n",
       "      <td>10.4</td>\n",
       "      <td>52.0</td>\n",
       "      <td>80.55</td>\n",
       "      <td>321.0</td>\n",
       "      <td>317.0</td>\n",
       "      <td>...</td>\n",
       "      <td>348.0</td>\n",
       "      <td>347.0</td>\n",
       "      <td>331.0</td>\n",
       "      <td>339.0</td>\n",
       "      <td>310.0</td>\n",
       "      <td>310.0</td>\n",
       "      <td>327.0</td>\n",
       "      <td>312.0</td>\n",
       "      <td>351.0</td>\n",
       "      <td>341.0</td>\n",
       "    </tr>\n",
       "    <tr>\n",
       "      <th>8/28/2020</th>\n",
       "      <td>F</td>\n",
       "      <td>85.4</td>\n",
       "      <td>68.2</td>\n",
       "      <td>90.3</td>\n",
       "      <td>0.42</td>\n",
       "      <td>6.5</td>\n",
       "      <td>49.8</td>\n",
       "      <td>82.33</td>\n",
       "      <td>995.0</td>\n",
       "      <td>1033.0</td>\n",
       "      <td>...</td>\n",
       "      <td>1003.0</td>\n",
       "      <td>1031.0</td>\n",
       "      <td>1009.0</td>\n",
       "      <td>1043.0</td>\n",
       "      <td>992.0</td>\n",
       "      <td>1047.0</td>\n",
       "      <td>984.0</td>\n",
       "      <td>1005.0</td>\n",
       "      <td>1007.0</td>\n",
       "      <td>1012.0</td>\n",
       "    </tr>\n",
       "    <tr>\n",
       "      <th>8/29/2020</th>\n",
       "      <td>M</td>\n",
       "      <td>82.6</td>\n",
       "      <td>70.2</td>\n",
       "      <td>85.9</td>\n",
       "      <td>0.58</td>\n",
       "      <td>12.8</td>\n",
       "      <td>67.5</td>\n",
       "      <td>83.84</td>\n",
       "      <td>916.0</td>\n",
       "      <td>920.0</td>\n",
       "      <td>...</td>\n",
       "      <td>910.0</td>\n",
       "      <td>910.0</td>\n",
       "      <td>963.0</td>\n",
       "      <td>900.0</td>\n",
       "      <td>925.0</td>\n",
       "      <td>954.0</td>\n",
       "      <td>942.0</td>\n",
       "      <td>919.0</td>\n",
       "      <td>897.0</td>\n",
       "      <td>943.0</td>\n",
       "    </tr>\n",
       "    <tr>\n",
       "      <th>8/30/2020</th>\n",
       "      <td>T</td>\n",
       "      <td>82.3</td>\n",
       "      <td>69.6</td>\n",
       "      <td>83.7</td>\n",
       "      <td>0.00</td>\n",
       "      <td>5.5</td>\n",
       "      <td>67.4</td>\n",
       "      <td>80.26</td>\n",
       "      <td>325.0</td>\n",
       "      <td>318.0</td>\n",
       "      <td>...</td>\n",
       "      <td>337.0</td>\n",
       "      <td>337.0</td>\n",
       "      <td>357.0</td>\n",
       "      <td>327.0</td>\n",
       "      <td>333.0</td>\n",
       "      <td>325.0</td>\n",
       "      <td>342.0</td>\n",
       "      <td>321.0</td>\n",
       "      <td>307.0</td>\n",
       "      <td>338.0</td>\n",
       "    </tr>\n",
       "    <tr>\n",
       "      <th>8/31/2020</th>\n",
       "      <td>W</td>\n",
       "      <td>82.6</td>\n",
       "      <td>69.7</td>\n",
       "      <td>86.3</td>\n",
       "      <td>0.25</td>\n",
       "      <td>4.6</td>\n",
       "      <td>71.3</td>\n",
       "      <td>86.65</td>\n",
       "      <td>1021.0</td>\n",
       "      <td>1005.0</td>\n",
       "      <td>...</td>\n",
       "      <td>1078.0</td>\n",
       "      <td>960.0</td>\n",
       "      <td>1057.0</td>\n",
       "      <td>1034.0</td>\n",
       "      <td>1038.0</td>\n",
       "      <td>1013.0</td>\n",
       "      <td>1014.0</td>\n",
       "      <td>1030.0</td>\n",
       "      <td>1050.0</td>\n",
       "      <td>1019.0</td>\n",
       "    </tr>\n",
       "    <tr>\n",
       "      <th>9/1/2020</th>\n",
       "      <td>R</td>\n",
       "      <td>82.8</td>\n",
       "      <td>70.1</td>\n",
       "      <td>87.7</td>\n",
       "      <td>0.29</td>\n",
       "      <td>5.3</td>\n",
       "      <td>60.9</td>\n",
       "      <td>87.33</td>\n",
       "      <td>326.0</td>\n",
       "      <td>336.0</td>\n",
       "      <td>...</td>\n",
       "      <td>348.0</td>\n",
       "      <td>297.0</td>\n",
       "      <td>361.0</td>\n",
       "      <td>321.0</td>\n",
       "      <td>339.0</td>\n",
       "      <td>346.0</td>\n",
       "      <td>317.0</td>\n",
       "      <td>319.0</td>\n",
       "      <td>307.0</td>\n",
       "      <td>352.0</td>\n",
       "    </tr>\n",
       "    <tr>\n",
       "      <th>9/2/2020</th>\n",
       "      <td>F</td>\n",
       "      <td>86.8</td>\n",
       "      <td>70.4</td>\n",
       "      <td>92.4</td>\n",
       "      <td>0.14</td>\n",
       "      <td>14.2</td>\n",
       "      <td>55.2</td>\n",
       "      <td>85.54</td>\n",
       "      <td>953.0</td>\n",
       "      <td>1002.0</td>\n",
       "      <td>...</td>\n",
       "      <td>950.0</td>\n",
       "      <td>984.0</td>\n",
       "      <td>1001.0</td>\n",
       "      <td>970.0</td>\n",
       "      <td>938.0</td>\n",
       "      <td>987.0</td>\n",
       "      <td>927.0</td>\n",
       "      <td>960.0</td>\n",
       "      <td>1009.0</td>\n",
       "      <td>990.0</td>\n",
       "    </tr>\n",
       "  </tbody>\n",
       "</table>\n",
       "<p>10 rows × 108 columns</p>\n",
       "</div>"
      ],
      "text/plain": [
       "          Day  Tmax  Tmin  FeelsLike  Precipitation  WindSpeed  CloudCover  \\\n",
       "Date time                                                                    \n",
       "8/24/2020   M  86.5  66.4       88.9           0.00        6.4        57.1   \n",
       "8/25/2020   T  87.8  66.8       89.2           0.00       10.4        41.4   \n",
       "8/26/2020   W  89.0  65.6       91.5           0.00        6.9        39.4   \n",
       "8/27/2020   R  86.9  66.8       91.1           0.00       10.4        52.0   \n",
       "8/28/2020   F  85.4  68.2       90.3           0.42        6.5        49.8   \n",
       "8/29/2020   M  82.6  70.2       85.9           0.58       12.8        67.5   \n",
       "8/30/2020   T  82.3  69.6       83.7           0.00        5.5        67.4   \n",
       "8/31/2020   W  82.6  69.7       86.3           0.25        4.6        71.3   \n",
       "9/1/2020    R  82.8  70.1       87.7           0.29        5.3        60.9   \n",
       "9/2/2020    F  86.8  70.4       92.4           0.14       14.2        55.2   \n",
       "\n",
       "           RelativeHumidity  Demand0  Demand1  ...  Demand90  Demand91  \\\n",
       "Date time                                      ...                       \n",
       "8/24/2020             77.67    959.0   1086.0  ...    1045.0     985.0   \n",
       "8/25/2020             74.50    302.0    316.0  ...     301.0     333.0   \n",
       "8/26/2020             76.62   1028.0   1059.0  ...    1035.0    1119.0   \n",
       "8/27/2020             80.55    321.0    317.0  ...     348.0     347.0   \n",
       "8/28/2020             82.33    995.0   1033.0  ...    1003.0    1031.0   \n",
       "8/29/2020             83.84    916.0    920.0  ...     910.0     910.0   \n",
       "8/30/2020             80.26    325.0    318.0  ...     337.0     337.0   \n",
       "8/31/2020             86.65   1021.0   1005.0  ...    1078.0     960.0   \n",
       "9/1/2020              87.33    326.0    336.0  ...     348.0     297.0   \n",
       "9/2/2020              85.54    953.0   1002.0  ...     950.0     984.0   \n",
       "\n",
       "           Demand92  Demand93  Demand94  Demand95  Demand96  Demand97  \\\n",
       "Date time                                                               \n",
       "8/24/2020    1040.0    1037.0    1011.0    1067.0    1033.0    1011.0   \n",
       "8/25/2020     329.0     310.0     333.0     325.0     318.0     329.0   \n",
       "8/26/2020    1081.0    1070.0    1017.0    1080.0    1006.0    1051.0   \n",
       "8/27/2020     331.0     339.0     310.0     310.0     327.0     312.0   \n",
       "8/28/2020    1009.0    1043.0     992.0    1047.0     984.0    1005.0   \n",
       "8/29/2020     963.0     900.0     925.0     954.0     942.0     919.0   \n",
       "8/30/2020     357.0     327.0     333.0     325.0     342.0     321.0   \n",
       "8/31/2020    1057.0    1034.0    1038.0    1013.0    1014.0    1030.0   \n",
       "9/1/2020      361.0     321.0     339.0     346.0     317.0     319.0   \n",
       "9/2/2020     1001.0     970.0     938.0     987.0     927.0     960.0   \n",
       "\n",
       "           Demand98  Demand99  \n",
       "Date time                      \n",
       "8/24/2020    1034.0    1032.0  \n",
       "8/25/2020     308.0     353.0  \n",
       "8/26/2020    1050.0    1047.0  \n",
       "8/27/2020     351.0     341.0  \n",
       "8/28/2020    1007.0    1012.0  \n",
       "8/29/2020     897.0     943.0  \n",
       "8/30/2020     307.0     338.0  \n",
       "8/31/2020    1050.0    1019.0  \n",
       "9/1/2020      307.0     352.0  \n",
       "9/2/2020     1009.0     990.0  \n",
       "\n",
       "[10 rows x 108 columns]"
      ]
     },
     "execution_count": 73,
     "metadata": {},
     "output_type": "execute_result"
    }
   ],
   "source": [
    "FeaturesAndDemands.head(10)"
   ]
  },
  {
   "cell_type": "code",
   "execution_count": 79,
   "metadata": {},
   "outputs": [],
   "source": [
    "one_hot = pd.get_dummies(FeaturesAndDemands['Day'])"
   ]
  },
  {
   "cell_type": "code",
   "execution_count": 81,
   "metadata": {},
   "outputs": [],
   "source": [
    "FeaturesAndDemands = FeaturesAndDemands.drop('Day' , axis= 1)"
   ]
  },
  {
   "cell_type": "code",
   "execution_count": 82,
   "metadata": {},
   "outputs": [],
   "source": [
    "FeaturesAndDemands = FeaturesAndDemands.join(one_hot)"
   ]
  },
  {
   "cell_type": "code",
   "execution_count": 83,
   "metadata": {},
   "outputs": [
    {
     "data": {
      "text/html": [
       "<div>\n",
       "<style scoped>\n",
       "    .dataframe tbody tr th:only-of-type {\n",
       "        vertical-align: middle;\n",
       "    }\n",
       "\n",
       "    .dataframe tbody tr th {\n",
       "        vertical-align: top;\n",
       "    }\n",
       "\n",
       "    .dataframe thead th {\n",
       "        text-align: right;\n",
       "    }\n",
       "</style>\n",
       "<table border=\"1\" class=\"dataframe\">\n",
       "  <thead>\n",
       "    <tr style=\"text-align: right;\">\n",
       "      <th></th>\n",
       "      <th>Tmax</th>\n",
       "      <th>Tmin</th>\n",
       "      <th>FeelsLike</th>\n",
       "      <th>Precipitation</th>\n",
       "      <th>WindSpeed</th>\n",
       "      <th>CloudCover</th>\n",
       "      <th>RelativeHumidity</th>\n",
       "      <th>Demand0</th>\n",
       "      <th>Demand1</th>\n",
       "      <th>Demand2</th>\n",
       "      <th>...</th>\n",
       "      <th>Demand95</th>\n",
       "      <th>Demand96</th>\n",
       "      <th>Demand97</th>\n",
       "      <th>Demand98</th>\n",
       "      <th>Demand99</th>\n",
       "      <th>F</th>\n",
       "      <th>M</th>\n",
       "      <th>R</th>\n",
       "      <th>T</th>\n",
       "      <th>W</th>\n",
       "    </tr>\n",
       "    <tr>\n",
       "      <th>Date time</th>\n",
       "      <th></th>\n",
       "      <th></th>\n",
       "      <th></th>\n",
       "      <th></th>\n",
       "      <th></th>\n",
       "      <th></th>\n",
       "      <th></th>\n",
       "      <th></th>\n",
       "      <th></th>\n",
       "      <th></th>\n",
       "      <th></th>\n",
       "      <th></th>\n",
       "      <th></th>\n",
       "      <th></th>\n",
       "      <th></th>\n",
       "      <th></th>\n",
       "      <th></th>\n",
       "      <th></th>\n",
       "      <th></th>\n",
       "      <th></th>\n",
       "      <th></th>\n",
       "    </tr>\n",
       "  </thead>\n",
       "  <tbody>\n",
       "    <tr>\n",
       "      <th>8/24/2020</th>\n",
       "      <td>86.5</td>\n",
       "      <td>66.4</td>\n",
       "      <td>88.9</td>\n",
       "      <td>0.00</td>\n",
       "      <td>6.4</td>\n",
       "      <td>57.1</td>\n",
       "      <td>77.67</td>\n",
       "      <td>959.0</td>\n",
       "      <td>1086.0</td>\n",
       "      <td>1024.0</td>\n",
       "      <td>...</td>\n",
       "      <td>1067.0</td>\n",
       "      <td>1033.0</td>\n",
       "      <td>1011.0</td>\n",
       "      <td>1034.0</td>\n",
       "      <td>1032.0</td>\n",
       "      <td>0</td>\n",
       "      <td>1</td>\n",
       "      <td>0</td>\n",
       "      <td>0</td>\n",
       "      <td>0</td>\n",
       "    </tr>\n",
       "    <tr>\n",
       "      <th>8/25/2020</th>\n",
       "      <td>87.8</td>\n",
       "      <td>66.8</td>\n",
       "      <td>89.2</td>\n",
       "      <td>0.00</td>\n",
       "      <td>10.4</td>\n",
       "      <td>41.4</td>\n",
       "      <td>74.50</td>\n",
       "      <td>302.0</td>\n",
       "      <td>316.0</td>\n",
       "      <td>305.0</td>\n",
       "      <td>...</td>\n",
       "      <td>325.0</td>\n",
       "      <td>318.0</td>\n",
       "      <td>329.0</td>\n",
       "      <td>308.0</td>\n",
       "      <td>353.0</td>\n",
       "      <td>0</td>\n",
       "      <td>0</td>\n",
       "      <td>0</td>\n",
       "      <td>1</td>\n",
       "      <td>0</td>\n",
       "    </tr>\n",
       "    <tr>\n",
       "      <th>8/26/2020</th>\n",
       "      <td>89.0</td>\n",
       "      <td>65.6</td>\n",
       "      <td>91.5</td>\n",
       "      <td>0.00</td>\n",
       "      <td>6.9</td>\n",
       "      <td>39.4</td>\n",
       "      <td>76.62</td>\n",
       "      <td>1028.0</td>\n",
       "      <td>1059.0</td>\n",
       "      <td>1046.0</td>\n",
       "      <td>...</td>\n",
       "      <td>1080.0</td>\n",
       "      <td>1006.0</td>\n",
       "      <td>1051.0</td>\n",
       "      <td>1050.0</td>\n",
       "      <td>1047.0</td>\n",
       "      <td>0</td>\n",
       "      <td>0</td>\n",
       "      <td>0</td>\n",
       "      <td>0</td>\n",
       "      <td>1</td>\n",
       "    </tr>\n",
       "    <tr>\n",
       "      <th>8/27/2020</th>\n",
       "      <td>86.9</td>\n",
       "      <td>66.8</td>\n",
       "      <td>91.1</td>\n",
       "      <td>0.00</td>\n",
       "      <td>10.4</td>\n",
       "      <td>52.0</td>\n",
       "      <td>80.55</td>\n",
       "      <td>321.0</td>\n",
       "      <td>317.0</td>\n",
       "      <td>325.0</td>\n",
       "      <td>...</td>\n",
       "      <td>310.0</td>\n",
       "      <td>327.0</td>\n",
       "      <td>312.0</td>\n",
       "      <td>351.0</td>\n",
       "      <td>341.0</td>\n",
       "      <td>0</td>\n",
       "      <td>0</td>\n",
       "      <td>1</td>\n",
       "      <td>0</td>\n",
       "      <td>0</td>\n",
       "    </tr>\n",
       "    <tr>\n",
       "      <th>8/28/2020</th>\n",
       "      <td>85.4</td>\n",
       "      <td>68.2</td>\n",
       "      <td>90.3</td>\n",
       "      <td>0.42</td>\n",
       "      <td>6.5</td>\n",
       "      <td>49.8</td>\n",
       "      <td>82.33</td>\n",
       "      <td>995.0</td>\n",
       "      <td>1033.0</td>\n",
       "      <td>1037.0</td>\n",
       "      <td>...</td>\n",
       "      <td>1047.0</td>\n",
       "      <td>984.0</td>\n",
       "      <td>1005.0</td>\n",
       "      <td>1007.0</td>\n",
       "      <td>1012.0</td>\n",
       "      <td>1</td>\n",
       "      <td>0</td>\n",
       "      <td>0</td>\n",
       "      <td>0</td>\n",
       "      <td>0</td>\n",
       "    </tr>\n",
       "    <tr>\n",
       "      <th>8/29/2020</th>\n",
       "      <td>82.6</td>\n",
       "      <td>70.2</td>\n",
       "      <td>85.9</td>\n",
       "      <td>0.58</td>\n",
       "      <td>12.8</td>\n",
       "      <td>67.5</td>\n",
       "      <td>83.84</td>\n",
       "      <td>916.0</td>\n",
       "      <td>920.0</td>\n",
       "      <td>895.0</td>\n",
       "      <td>...</td>\n",
       "      <td>954.0</td>\n",
       "      <td>942.0</td>\n",
       "      <td>919.0</td>\n",
       "      <td>897.0</td>\n",
       "      <td>943.0</td>\n",
       "      <td>0</td>\n",
       "      <td>1</td>\n",
       "      <td>0</td>\n",
       "      <td>0</td>\n",
       "      <td>0</td>\n",
       "    </tr>\n",
       "    <tr>\n",
       "      <th>8/30/2020</th>\n",
       "      <td>82.3</td>\n",
       "      <td>69.6</td>\n",
       "      <td>83.7</td>\n",
       "      <td>0.00</td>\n",
       "      <td>5.5</td>\n",
       "      <td>67.4</td>\n",
       "      <td>80.26</td>\n",
       "      <td>325.0</td>\n",
       "      <td>318.0</td>\n",
       "      <td>308.0</td>\n",
       "      <td>...</td>\n",
       "      <td>325.0</td>\n",
       "      <td>342.0</td>\n",
       "      <td>321.0</td>\n",
       "      <td>307.0</td>\n",
       "      <td>338.0</td>\n",
       "      <td>0</td>\n",
       "      <td>0</td>\n",
       "      <td>0</td>\n",
       "      <td>1</td>\n",
       "      <td>0</td>\n",
       "    </tr>\n",
       "    <tr>\n",
       "      <th>8/31/2020</th>\n",
       "      <td>82.6</td>\n",
       "      <td>69.7</td>\n",
       "      <td>86.3</td>\n",
       "      <td>0.25</td>\n",
       "      <td>4.6</td>\n",
       "      <td>71.3</td>\n",
       "      <td>86.65</td>\n",
       "      <td>1021.0</td>\n",
       "      <td>1005.0</td>\n",
       "      <td>1029.0</td>\n",
       "      <td>...</td>\n",
       "      <td>1013.0</td>\n",
       "      <td>1014.0</td>\n",
       "      <td>1030.0</td>\n",
       "      <td>1050.0</td>\n",
       "      <td>1019.0</td>\n",
       "      <td>0</td>\n",
       "      <td>0</td>\n",
       "      <td>0</td>\n",
       "      <td>0</td>\n",
       "      <td>1</td>\n",
       "    </tr>\n",
       "    <tr>\n",
       "      <th>9/1/2020</th>\n",
       "      <td>82.8</td>\n",
       "      <td>70.1</td>\n",
       "      <td>87.7</td>\n",
       "      <td>0.29</td>\n",
       "      <td>5.3</td>\n",
       "      <td>60.9</td>\n",
       "      <td>87.33</td>\n",
       "      <td>326.0</td>\n",
       "      <td>336.0</td>\n",
       "      <td>339.0</td>\n",
       "      <td>...</td>\n",
       "      <td>346.0</td>\n",
       "      <td>317.0</td>\n",
       "      <td>319.0</td>\n",
       "      <td>307.0</td>\n",
       "      <td>352.0</td>\n",
       "      <td>0</td>\n",
       "      <td>0</td>\n",
       "      <td>1</td>\n",
       "      <td>0</td>\n",
       "      <td>0</td>\n",
       "    </tr>\n",
       "    <tr>\n",
       "      <th>9/2/2020</th>\n",
       "      <td>86.8</td>\n",
       "      <td>70.4</td>\n",
       "      <td>92.4</td>\n",
       "      <td>0.14</td>\n",
       "      <td>14.2</td>\n",
       "      <td>55.2</td>\n",
       "      <td>85.54</td>\n",
       "      <td>953.0</td>\n",
       "      <td>1002.0</td>\n",
       "      <td>915.0</td>\n",
       "      <td>...</td>\n",
       "      <td>987.0</td>\n",
       "      <td>927.0</td>\n",
       "      <td>960.0</td>\n",
       "      <td>1009.0</td>\n",
       "      <td>990.0</td>\n",
       "      <td>1</td>\n",
       "      <td>0</td>\n",
       "      <td>0</td>\n",
       "      <td>0</td>\n",
       "      <td>0</td>\n",
       "    </tr>\n",
       "  </tbody>\n",
       "</table>\n",
       "<p>10 rows × 112 columns</p>\n",
       "</div>"
      ],
      "text/plain": [
       "           Tmax  Tmin  FeelsLike  Precipitation  WindSpeed  CloudCover  \\\n",
       "Date time                                                                \n",
       "8/24/2020  86.5  66.4       88.9           0.00        6.4        57.1   \n",
       "8/25/2020  87.8  66.8       89.2           0.00       10.4        41.4   \n",
       "8/26/2020  89.0  65.6       91.5           0.00        6.9        39.4   \n",
       "8/27/2020  86.9  66.8       91.1           0.00       10.4        52.0   \n",
       "8/28/2020  85.4  68.2       90.3           0.42        6.5        49.8   \n",
       "8/29/2020  82.6  70.2       85.9           0.58       12.8        67.5   \n",
       "8/30/2020  82.3  69.6       83.7           0.00        5.5        67.4   \n",
       "8/31/2020  82.6  69.7       86.3           0.25        4.6        71.3   \n",
       "9/1/2020   82.8  70.1       87.7           0.29        5.3        60.9   \n",
       "9/2/2020   86.8  70.4       92.4           0.14       14.2        55.2   \n",
       "\n",
       "           RelativeHumidity  Demand0  Demand1  Demand2  ...  Demand95  \\\n",
       "Date time                                               ...             \n",
       "8/24/2020             77.67    959.0   1086.0   1024.0  ...    1067.0   \n",
       "8/25/2020             74.50    302.0    316.0    305.0  ...     325.0   \n",
       "8/26/2020             76.62   1028.0   1059.0   1046.0  ...    1080.0   \n",
       "8/27/2020             80.55    321.0    317.0    325.0  ...     310.0   \n",
       "8/28/2020             82.33    995.0   1033.0   1037.0  ...    1047.0   \n",
       "8/29/2020             83.84    916.0    920.0    895.0  ...     954.0   \n",
       "8/30/2020             80.26    325.0    318.0    308.0  ...     325.0   \n",
       "8/31/2020             86.65   1021.0   1005.0   1029.0  ...    1013.0   \n",
       "9/1/2020              87.33    326.0    336.0    339.0  ...     346.0   \n",
       "9/2/2020              85.54    953.0   1002.0    915.0  ...     987.0   \n",
       "\n",
       "           Demand96  Demand97  Demand98  Demand99  F  M  R  T  W  \n",
       "Date time                                                         \n",
       "8/24/2020    1033.0    1011.0    1034.0    1032.0  0  1  0  0  0  \n",
       "8/25/2020     318.0     329.0     308.0     353.0  0  0  0  1  0  \n",
       "8/26/2020    1006.0    1051.0    1050.0    1047.0  0  0  0  0  1  \n",
       "8/27/2020     327.0     312.0     351.0     341.0  0  0  1  0  0  \n",
       "8/28/2020     984.0    1005.0    1007.0    1012.0  1  0  0  0  0  \n",
       "8/29/2020     942.0     919.0     897.0     943.0  0  1  0  0  0  \n",
       "8/30/2020     342.0     321.0     307.0     338.0  0  0  0  1  0  \n",
       "8/31/2020    1014.0    1030.0    1050.0    1019.0  0  0  0  0  1  \n",
       "9/1/2020      317.0     319.0     307.0     352.0  0  0  1  0  0  \n",
       "9/2/2020      927.0     960.0    1009.0     990.0  1  0  0  0  0  \n",
       "\n",
       "[10 rows x 112 columns]"
      ]
     },
     "execution_count": 83,
     "metadata": {},
     "output_type": "execute_result"
    }
   ],
   "source": [
    "FeaturesAndDemands.head(10)"
   ]
  },
  {
   "cell_type": "code",
   "execution_count": 88,
   "metadata": {},
   "outputs": [],
   "source": [
    "cols = list(FeaturesAndDemands.columns.values)"
   ]
  },
  {
   "cell_type": "code",
   "execution_count": 95,
   "metadata": {},
   "outputs": [],
   "source": [
    "FeaturesAndDemands = FeaturesAndDemands[['M', 'T', 'W', 'R', 'F', 'Tmax', 'Tmin', 'FeelsLike',\n",
    "       'Precipitation', 'WindSpeed', 'CloudCover', 'RelativeHumidity',\n",
    "       'Demand0', 'Demand1', 'Demand2', 'Demand3', 'Demand4', 'Demand5',\n",
    "       'Demand6', 'Demand7', 'Demand8', 'Demand9', 'Demand10', 'Demand11',\n",
    "       'Demand12', 'Demand13', 'Demand14', 'Demand15', 'Demand16',\n",
    "       'Demand17', 'Demand18', 'Demand19', 'Demand20', 'Demand21',\n",
    "       'Demand22', 'Demand23', 'Demand24', 'Demand25', 'Demand26',\n",
    "       'Demand27', 'Demand28', 'Demand29', 'Demand30', 'Demand31',\n",
    "       'Demand32', 'Demand33', 'Demand34', 'Demand35', 'Demand36',\n",
    "       'Demand37', 'Demand38', 'Demand39', 'Demand40', 'Demand41',\n",
    "       'Demand42', 'Demand43', 'Demand44', 'Demand45', 'Demand46',\n",
    "       'Demand47', 'Demand48', 'Demand49', 'Demand50', 'Demand51',\n",
    "       'Demand52', 'Demand53', 'Demand54', 'Demand55', 'Demand56',\n",
    "       'Demand57', 'Demand58', 'Demand59', 'Demand60', 'Demand61',\n",
    "       'Demand62', 'Demand63', 'Demand64', 'Demand65', 'Demand66',\n",
    "       'Demand67', 'Demand68', 'Demand69', 'Demand70', 'Demand71',\n",
    "       'Demand72', 'Demand73', 'Demand74', 'Demand75', 'Demand76',\n",
    "       'Demand77', 'Demand78', 'Demand79', 'Demand80', 'Demand81',\n",
    "       'Demand82', 'Demand83', 'Demand84', 'Demand85', 'Demand86',\n",
    "       'Demand87', 'Demand88', 'Demand89', 'Demand90', 'Demand91',\n",
    "       'Demand92', 'Demand93', 'Demand94', 'Demand95', 'Demand96',\n",
    "       'Demand97', 'Demand98', 'Demand99']]"
   ]
  },
  {
   "cell_type": "code",
   "execution_count": 98,
   "metadata": {},
   "outputs": [
    {
     "data": {
      "text/html": [
       "<div>\n",
       "<style scoped>\n",
       "    .dataframe tbody tr th:only-of-type {\n",
       "        vertical-align: middle;\n",
       "    }\n",
       "\n",
       "    .dataframe tbody tr th {\n",
       "        vertical-align: top;\n",
       "    }\n",
       "\n",
       "    .dataframe thead th {\n",
       "        text-align: right;\n",
       "    }\n",
       "</style>\n",
       "<table border=\"1\" class=\"dataframe\">\n",
       "  <thead>\n",
       "    <tr style=\"text-align: right;\">\n",
       "      <th></th>\n",
       "      <th>M</th>\n",
       "      <th>T</th>\n",
       "      <th>W</th>\n",
       "      <th>R</th>\n",
       "      <th>F</th>\n",
       "      <th>Tmax</th>\n",
       "      <th>Tmin</th>\n",
       "      <th>FeelsLike</th>\n",
       "      <th>Precipitation</th>\n",
       "      <th>WindSpeed</th>\n",
       "      <th>...</th>\n",
       "      <th>Demand90</th>\n",
       "      <th>Demand91</th>\n",
       "      <th>Demand92</th>\n",
       "      <th>Demand93</th>\n",
       "      <th>Demand94</th>\n",
       "      <th>Demand95</th>\n",
       "      <th>Demand96</th>\n",
       "      <th>Demand97</th>\n",
       "      <th>Demand98</th>\n",
       "      <th>Demand99</th>\n",
       "    </tr>\n",
       "    <tr>\n",
       "      <th>Date time</th>\n",
       "      <th></th>\n",
       "      <th></th>\n",
       "      <th></th>\n",
       "      <th></th>\n",
       "      <th></th>\n",
       "      <th></th>\n",
       "      <th></th>\n",
       "      <th></th>\n",
       "      <th></th>\n",
       "      <th></th>\n",
       "      <th></th>\n",
       "      <th></th>\n",
       "      <th></th>\n",
       "      <th></th>\n",
       "      <th></th>\n",
       "      <th></th>\n",
       "      <th></th>\n",
       "      <th></th>\n",
       "      <th></th>\n",
       "      <th></th>\n",
       "      <th></th>\n",
       "    </tr>\n",
       "  </thead>\n",
       "  <tbody>\n",
       "    <tr>\n",
       "      <th>4/16/2021</th>\n",
       "      <td>1</td>\n",
       "      <td>0</td>\n",
       "      <td>0</td>\n",
       "      <td>0</td>\n",
       "      <td>0</td>\n",
       "      <td>62.1</td>\n",
       "      <td>31.8</td>\n",
       "      <td>44.9</td>\n",
       "      <td>0.00</td>\n",
       "      <td>9.1</td>\n",
       "      <td>...</td>\n",
       "      <td>922.0</td>\n",
       "      <td>935.0</td>\n",
       "      <td>925.0</td>\n",
       "      <td>948.0</td>\n",
       "      <td>936.0</td>\n",
       "      <td>872.0</td>\n",
       "      <td>909.0</td>\n",
       "      <td>911.0</td>\n",
       "      <td>878.0</td>\n",
       "      <td>904.0</td>\n",
       "    </tr>\n",
       "    <tr>\n",
       "      <th>4/17/2021</th>\n",
       "      <td>0</td>\n",
       "      <td>1</td>\n",
       "      <td>0</td>\n",
       "      <td>0</td>\n",
       "      <td>0</td>\n",
       "      <td>59.4</td>\n",
       "      <td>38.9</td>\n",
       "      <td>50.2</td>\n",
       "      <td>0.00</td>\n",
       "      <td>8.6</td>\n",
       "      <td>...</td>\n",
       "      <td>282.0</td>\n",
       "      <td>273.0</td>\n",
       "      <td>261.0</td>\n",
       "      <td>266.0</td>\n",
       "      <td>275.0</td>\n",
       "      <td>282.0</td>\n",
       "      <td>275.0</td>\n",
       "      <td>288.0</td>\n",
       "      <td>247.0</td>\n",
       "      <td>295.0</td>\n",
       "    </tr>\n",
       "    <tr>\n",
       "      <th>4/18/2021</th>\n",
       "      <td>0</td>\n",
       "      <td>0</td>\n",
       "      <td>1</td>\n",
       "      <td>0</td>\n",
       "      <td>0</td>\n",
       "      <td>64.0</td>\n",
       "      <td>46.1</td>\n",
       "      <td>46.2</td>\n",
       "      <td>0.00</td>\n",
       "      <td>7.6</td>\n",
       "      <td>...</td>\n",
       "      <td>892.0</td>\n",
       "      <td>885.0</td>\n",
       "      <td>881.0</td>\n",
       "      <td>899.0</td>\n",
       "      <td>904.0</td>\n",
       "      <td>830.0</td>\n",
       "      <td>900.0</td>\n",
       "      <td>859.0</td>\n",
       "      <td>917.0</td>\n",
       "      <td>908.0</td>\n",
       "    </tr>\n",
       "    <tr>\n",
       "      <th>4/19/2021</th>\n",
       "      <td>0</td>\n",
       "      <td>0</td>\n",
       "      <td>0</td>\n",
       "      <td>1</td>\n",
       "      <td>0</td>\n",
       "      <td>63.3</td>\n",
       "      <td>46.4</td>\n",
       "      <td>46.1</td>\n",
       "      <td>0.02</td>\n",
       "      <td>10.8</td>\n",
       "      <td>...</td>\n",
       "      <td>288.0</td>\n",
       "      <td>277.0</td>\n",
       "      <td>315.0</td>\n",
       "      <td>284.0</td>\n",
       "      <td>318.0</td>\n",
       "      <td>230.0</td>\n",
       "      <td>287.0</td>\n",
       "      <td>295.0</td>\n",
       "      <td>242.0</td>\n",
       "      <td>278.0</td>\n",
       "    </tr>\n",
       "    <tr>\n",
       "      <th>4/20/2021</th>\n",
       "      <td>0</td>\n",
       "      <td>0</td>\n",
       "      <td>0</td>\n",
       "      <td>0</td>\n",
       "      <td>1</td>\n",
       "      <td>72.8</td>\n",
       "      <td>38.5</td>\n",
       "      <td>55.9</td>\n",
       "      <td>0.00</td>\n",
       "      <td>14.8</td>\n",
       "      <td>...</td>\n",
       "      <td>855.0</td>\n",
       "      <td>880.0</td>\n",
       "      <td>896.0</td>\n",
       "      <td>891.0</td>\n",
       "      <td>917.0</td>\n",
       "      <td>900.0</td>\n",
       "      <td>858.0</td>\n",
       "      <td>864.0</td>\n",
       "      <td>951.0</td>\n",
       "      <td>911.0</td>\n",
       "    </tr>\n",
       "    <tr>\n",
       "      <th>4/21/2021</th>\n",
       "      <td>1</td>\n",
       "      <td>0</td>\n",
       "      <td>0</td>\n",
       "      <td>0</td>\n",
       "      <td>0</td>\n",
       "      <td>55.7</td>\n",
       "      <td>34.4</td>\n",
       "      <td>30.7</td>\n",
       "      <td>0.03</td>\n",
       "      <td>15.8</td>\n",
       "      <td>...</td>\n",
       "      <td>832.0</td>\n",
       "      <td>822.0</td>\n",
       "      <td>826.0</td>\n",
       "      <td>785.0</td>\n",
       "      <td>827.0</td>\n",
       "      <td>777.0</td>\n",
       "      <td>827.0</td>\n",
       "      <td>858.0</td>\n",
       "      <td>831.0</td>\n",
       "      <td>809.0</td>\n",
       "    </tr>\n",
       "    <tr>\n",
       "      <th>4/22/2021</th>\n",
       "      <td>0</td>\n",
       "      <td>1</td>\n",
       "      <td>0</td>\n",
       "      <td>0</td>\n",
       "      <td>0</td>\n",
       "      <td>53.6</td>\n",
       "      <td>25.8</td>\n",
       "      <td>31.1</td>\n",
       "      <td>0.00</td>\n",
       "      <td>14.3</td>\n",
       "      <td>...</td>\n",
       "      <td>274.0</td>\n",
       "      <td>301.0</td>\n",
       "      <td>289.0</td>\n",
       "      <td>284.0</td>\n",
       "      <td>272.0</td>\n",
       "      <td>251.0</td>\n",
       "      <td>276.0</td>\n",
       "      <td>256.0</td>\n",
       "      <td>266.0</td>\n",
       "      <td>306.0</td>\n",
       "    </tr>\n",
       "    <tr>\n",
       "      <th>4/23/2021</th>\n",
       "      <td>0</td>\n",
       "      <td>0</td>\n",
       "      <td>1</td>\n",
       "      <td>0</td>\n",
       "      <td>0</td>\n",
       "      <td>57.3</td>\n",
       "      <td>28.8</td>\n",
       "      <td>44.1</td>\n",
       "      <td>0.00</td>\n",
       "      <td>10.6</td>\n",
       "      <td>...</td>\n",
       "      <td>917.0</td>\n",
       "      <td>918.0</td>\n",
       "      <td>939.0</td>\n",
       "      <td>891.0</td>\n",
       "      <td>923.0</td>\n",
       "      <td>921.0</td>\n",
       "      <td>903.0</td>\n",
       "      <td>918.0</td>\n",
       "      <td>877.0</td>\n",
       "      <td>911.0</td>\n",
       "    </tr>\n",
       "    <tr>\n",
       "      <th>4/24/2021</th>\n",
       "      <td>0</td>\n",
       "      <td>0</td>\n",
       "      <td>0</td>\n",
       "      <td>1</td>\n",
       "      <td>0</td>\n",
       "      <td>57.4</td>\n",
       "      <td>44.0</td>\n",
       "      <td>43.8</td>\n",
       "      <td>0.76</td>\n",
       "      <td>8.5</td>\n",
       "      <td>...</td>\n",
       "      <td>281.0</td>\n",
       "      <td>270.0</td>\n",
       "      <td>263.0</td>\n",
       "      <td>266.0</td>\n",
       "      <td>251.0</td>\n",
       "      <td>273.0</td>\n",
       "      <td>271.0</td>\n",
       "      <td>294.0</td>\n",
       "      <td>253.0</td>\n",
       "      <td>267.0</td>\n",
       "    </tr>\n",
       "    <tr>\n",
       "      <th>4/25/2021</th>\n",
       "      <td>0</td>\n",
       "      <td>0</td>\n",
       "      <td>0</td>\n",
       "      <td>0</td>\n",
       "      <td>1</td>\n",
       "      <td>63.2</td>\n",
       "      <td>47.7</td>\n",
       "      <td>48.3</td>\n",
       "      <td>0.04</td>\n",
       "      <td>10.7</td>\n",
       "      <td>...</td>\n",
       "      <td>887.0</td>\n",
       "      <td>959.0</td>\n",
       "      <td>915.0</td>\n",
       "      <td>908.0</td>\n",
       "      <td>993.0</td>\n",
       "      <td>934.0</td>\n",
       "      <td>914.0</td>\n",
       "      <td>872.0</td>\n",
       "      <td>893.0</td>\n",
       "      <td>950.0</td>\n",
       "    </tr>\n",
       "    <tr>\n",
       "      <th>4/26/2021</th>\n",
       "      <td>1</td>\n",
       "      <td>0</td>\n",
       "      <td>0</td>\n",
       "      <td>0</td>\n",
       "      <td>0</td>\n",
       "      <td>77.3</td>\n",
       "      <td>37.8</td>\n",
       "      <td>47.7</td>\n",
       "      <td>0.00</td>\n",
       "      <td>5.3</td>\n",
       "      <td>...</td>\n",
       "      <td>965.0</td>\n",
       "      <td>995.0</td>\n",
       "      <td>987.0</td>\n",
       "      <td>993.0</td>\n",
       "      <td>1010.0</td>\n",
       "      <td>956.0</td>\n",
       "      <td>968.0</td>\n",
       "      <td>989.0</td>\n",
       "      <td>1008.0</td>\n",
       "      <td>957.0</td>\n",
       "    </tr>\n",
       "    <tr>\n",
       "      <th>4/27/2021</th>\n",
       "      <td>0</td>\n",
       "      <td>1</td>\n",
       "      <td>0</td>\n",
       "      <td>0</td>\n",
       "      <td>0</td>\n",
       "      <td>81.6</td>\n",
       "      <td>47.9</td>\n",
       "      <td>80.6</td>\n",
       "      <td>0.00</td>\n",
       "      <td>9.1</td>\n",
       "      <td>...</td>\n",
       "      <td>301.0</td>\n",
       "      <td>312.0</td>\n",
       "      <td>310.0</td>\n",
       "      <td>314.0</td>\n",
       "      <td>346.0</td>\n",
       "      <td>331.0</td>\n",
       "      <td>355.0</td>\n",
       "      <td>318.0</td>\n",
       "      <td>305.0</td>\n",
       "      <td>307.0</td>\n",
       "    </tr>\n",
       "    <tr>\n",
       "      <th>4/28/2021</th>\n",
       "      <td>0</td>\n",
       "      <td>0</td>\n",
       "      <td>1</td>\n",
       "      <td>0</td>\n",
       "      <td>0</td>\n",
       "      <td>81.2</td>\n",
       "      <td>58.7</td>\n",
       "      <td>81.4</td>\n",
       "      <td>0.00</td>\n",
       "      <td>14.6</td>\n",
       "      <td>...</td>\n",
       "      <td>934.0</td>\n",
       "      <td>974.0</td>\n",
       "      <td>944.0</td>\n",
       "      <td>891.0</td>\n",
       "      <td>941.0</td>\n",
       "      <td>875.0</td>\n",
       "      <td>859.0</td>\n",
       "      <td>1001.0</td>\n",
       "      <td>987.0</td>\n",
       "      <td>909.0</td>\n",
       "    </tr>\n",
       "    <tr>\n",
       "      <th>4/29/2021</th>\n",
       "      <td>0</td>\n",
       "      <td>0</td>\n",
       "      <td>0</td>\n",
       "      <td>1</td>\n",
       "      <td>0</td>\n",
       "      <td>77.7</td>\n",
       "      <td>58.8</td>\n",
       "      <td>68.6</td>\n",
       "      <td>0.03</td>\n",
       "      <td>18.1</td>\n",
       "      <td>...</td>\n",
       "      <td>303.0</td>\n",
       "      <td>280.0</td>\n",
       "      <td>272.0</td>\n",
       "      <td>319.0</td>\n",
       "      <td>270.0</td>\n",
       "      <td>264.0</td>\n",
       "      <td>291.0</td>\n",
       "      <td>291.0</td>\n",
       "      <td>302.0</td>\n",
       "      <td>283.0</td>\n",
       "    </tr>\n",
       "    <tr>\n",
       "      <th>4/30/2021</th>\n",
       "      <td>0</td>\n",
       "      <td>0</td>\n",
       "      <td>0</td>\n",
       "      <td>0</td>\n",
       "      <td>1</td>\n",
       "      <td>72.7</td>\n",
       "      <td>51.0</td>\n",
       "      <td>63.4</td>\n",
       "      <td>0.09</td>\n",
       "      <td>17.6</td>\n",
       "      <td>...</td>\n",
       "      <td>852.0</td>\n",
       "      <td>842.0</td>\n",
       "      <td>887.0</td>\n",
       "      <td>932.0</td>\n",
       "      <td>881.0</td>\n",
       "      <td>877.0</td>\n",
       "      <td>886.0</td>\n",
       "      <td>836.0</td>\n",
       "      <td>903.0</td>\n",
       "      <td>834.0</td>\n",
       "    </tr>\n",
       "  </tbody>\n",
       "</table>\n",
       "<p>15 rows × 112 columns</p>\n",
       "</div>"
      ],
      "text/plain": [
       "           M  T  W  R  F  Tmax  Tmin  FeelsLike  Precipitation  WindSpeed  \\\n",
       "Date time                                                                   \n",
       "4/16/2021  1  0  0  0  0  62.1  31.8       44.9           0.00        9.1   \n",
       "4/17/2021  0  1  0  0  0  59.4  38.9       50.2           0.00        8.6   \n",
       "4/18/2021  0  0  1  0  0  64.0  46.1       46.2           0.00        7.6   \n",
       "4/19/2021  0  0  0  1  0  63.3  46.4       46.1           0.02       10.8   \n",
       "4/20/2021  0  0  0  0  1  72.8  38.5       55.9           0.00       14.8   \n",
       "4/21/2021  1  0  0  0  0  55.7  34.4       30.7           0.03       15.8   \n",
       "4/22/2021  0  1  0  0  0  53.6  25.8       31.1           0.00       14.3   \n",
       "4/23/2021  0  0  1  0  0  57.3  28.8       44.1           0.00       10.6   \n",
       "4/24/2021  0  0  0  1  0  57.4  44.0       43.8           0.76        8.5   \n",
       "4/25/2021  0  0  0  0  1  63.2  47.7       48.3           0.04       10.7   \n",
       "4/26/2021  1  0  0  0  0  77.3  37.8       47.7           0.00        5.3   \n",
       "4/27/2021  0  1  0  0  0  81.6  47.9       80.6           0.00        9.1   \n",
       "4/28/2021  0  0  1  0  0  81.2  58.7       81.4           0.00       14.6   \n",
       "4/29/2021  0  0  0  1  0  77.7  58.8       68.6           0.03       18.1   \n",
       "4/30/2021  0  0  0  0  1  72.7  51.0       63.4           0.09       17.6   \n",
       "\n",
       "           ...  Demand90  Demand91  Demand92  Demand93  Demand94  Demand95  \\\n",
       "Date time  ...                                                               \n",
       "4/16/2021  ...     922.0     935.0     925.0     948.0     936.0     872.0   \n",
       "4/17/2021  ...     282.0     273.0     261.0     266.0     275.0     282.0   \n",
       "4/18/2021  ...     892.0     885.0     881.0     899.0     904.0     830.0   \n",
       "4/19/2021  ...     288.0     277.0     315.0     284.0     318.0     230.0   \n",
       "4/20/2021  ...     855.0     880.0     896.0     891.0     917.0     900.0   \n",
       "4/21/2021  ...     832.0     822.0     826.0     785.0     827.0     777.0   \n",
       "4/22/2021  ...     274.0     301.0     289.0     284.0     272.0     251.0   \n",
       "4/23/2021  ...     917.0     918.0     939.0     891.0     923.0     921.0   \n",
       "4/24/2021  ...     281.0     270.0     263.0     266.0     251.0     273.0   \n",
       "4/25/2021  ...     887.0     959.0     915.0     908.0     993.0     934.0   \n",
       "4/26/2021  ...     965.0     995.0     987.0     993.0    1010.0     956.0   \n",
       "4/27/2021  ...     301.0     312.0     310.0     314.0     346.0     331.0   \n",
       "4/28/2021  ...     934.0     974.0     944.0     891.0     941.0     875.0   \n",
       "4/29/2021  ...     303.0     280.0     272.0     319.0     270.0     264.0   \n",
       "4/30/2021  ...     852.0     842.0     887.0     932.0     881.0     877.0   \n",
       "\n",
       "           Demand96  Demand97  Demand98  Demand99  \n",
       "Date time                                          \n",
       "4/16/2021     909.0     911.0     878.0     904.0  \n",
       "4/17/2021     275.0     288.0     247.0     295.0  \n",
       "4/18/2021     900.0     859.0     917.0     908.0  \n",
       "4/19/2021     287.0     295.0     242.0     278.0  \n",
       "4/20/2021     858.0     864.0     951.0     911.0  \n",
       "4/21/2021     827.0     858.0     831.0     809.0  \n",
       "4/22/2021     276.0     256.0     266.0     306.0  \n",
       "4/23/2021     903.0     918.0     877.0     911.0  \n",
       "4/24/2021     271.0     294.0     253.0     267.0  \n",
       "4/25/2021     914.0     872.0     893.0     950.0  \n",
       "4/26/2021     968.0     989.0    1008.0     957.0  \n",
       "4/27/2021     355.0     318.0     305.0     307.0  \n",
       "4/28/2021     859.0    1001.0     987.0     909.0  \n",
       "4/29/2021     291.0     291.0     302.0     283.0  \n",
       "4/30/2021     886.0     836.0     903.0     834.0  \n",
       "\n",
       "[15 rows x 112 columns]"
      ]
     },
     "execution_count": 98,
     "metadata": {},
     "output_type": "execute_result"
    }
   ],
   "source": [
    "FeaturesAndDemands.tail(15)"
   ]
  },
  {
   "cell_type": "code",
   "execution_count": 97,
   "metadata": {},
   "outputs": [],
   "source": [
    "FeaturesAndDemands.to_csv('FeaturesAndDemands.csv')"
   ]
  },
  {
   "cell_type": "code",
   "execution_count": 102,
   "metadata": {},
   "outputs": [
    {
     "data": {
      "text/plain": [
       "(250, 112)"
      ]
     },
     "execution_count": 102,
     "metadata": {},
     "output_type": "execute_result"
    }
   ],
   "source": [
    "FeaturesAndDemands.shape"
   ]
  },
  {
   "cell_type": "code",
   "execution_count": 110,
   "metadata": {},
   "outputs": [],
   "source": [
    "fad = pd.concat([FeaturesAndDemands.iloc[:,:12]]*100, ignore_index= True)"
   ]
  },
  {
   "cell_type": "code",
   "execution_count": 111,
   "metadata": {},
   "outputs": [],
   "source": [
    "df = pd.concat([FeaturesAndDemands[\"Demand%s\"%i] for i in range(100)], ignore_index= True)"
   ]
  },
  {
   "cell_type": "code",
   "execution_count": 112,
   "metadata": {},
   "outputs": [],
   "source": [
    "fad['Demand'] = df"
   ]
  },
  {
   "cell_type": "code",
   "execution_count": 114,
   "metadata": {
    "scrolled": true
   },
   "outputs": [],
   "source": [
    "fad.to_csv('FeaturesAndDemands.csv')"
   ]
  },
  {
   "cell_type": "code",
   "execution_count": 3,
   "metadata": {},
   "outputs": [
    {
     "data": {
      "text/plain": [
       "(25000, 14)"
      ]
     },
     "execution_count": 3,
     "metadata": {},
     "output_type": "execute_result"
    }
   ],
   "source": [
    "fad = pd.read_csv('FeaturesAndDemands.csv')\n",
    "fad.shape"
   ]
  },
  {
   "cell_type": "code",
   "execution_count": 6,
   "metadata": {},
   "outputs": [],
   "source": [
    "##Split data to train and test\n",
    "train_I = fad.sample(frac=0.8,random_state=200) \n",
    "test_I = fad.drop(train_I.index)"
   ]
  },
  {
   "cell_type": "code",
   "execution_count": 4,
   "metadata": {},
   "outputs": [
    {
     "ename": "NameError",
     "evalue": "name 'train_I' is not defined",
     "output_type": "error",
     "traceback": [
      "\u001b[1;31m---------------------------------------------------------------------------\u001b[0m",
      "\u001b[1;31mNameError\u001b[0m                                 Traceback (most recent call last)",
      "\u001b[1;32m<ipython-input-4-0ed806f70dde>\u001b[0m in \u001b[0;36m<module>\u001b[1;34m\u001b[0m\n\u001b[1;32m----> 1\u001b[1;33m \u001b[0mtrain_I\u001b[0m\u001b[1;33m.\u001b[0m\u001b[0mshape\u001b[0m\u001b[1;33m,\u001b[0m \u001b[0mtest_I\u001b[0m\u001b[1;33m.\u001b[0m\u001b[0mshape\u001b[0m\u001b[1;33m\u001b[0m\u001b[1;33m\u001b[0m\u001b[0m\n\u001b[0m",
      "\u001b[1;31mNameError\u001b[0m: name 'train_I' is not defined"
     ]
    }
   ],
   "source": [
    "train_I.shape, test_I.shape"
   ]
  },
  {
   "cell_type": "code",
   "execution_count": 8,
   "metadata": {},
   "outputs": [],
   "source": [
    "train_I.to_csv(\"train_Ice.csv\")\n",
    "test_I.to_csv(\"test_Ice.csv\")"
   ]
  },
  {
   "cell_type": "code",
   "execution_count": null,
   "metadata": {},
   "outputs": [],
   "source": []
  }
 ],
 "metadata": {
  "kernelspec": {
   "display_name": "Python 3",
   "language": "python",
   "name": "python3"
  },
  "language_info": {
   "codemirror_mode": {
    "name": "ipython",
    "version": 3
   },
   "file_extension": ".py",
   "mimetype": "text/x-python",
   "name": "python",
   "nbconvert_exporter": "python",
   "pygments_lexer": "ipython3",
   "version": "3.8.5"
  }
 },
 "nbformat": 4,
 "nbformat_minor": 4
}
