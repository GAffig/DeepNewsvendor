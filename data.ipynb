{
 "cells": [
  {
   "cell_type": "code",
   "execution_count": 8,
   "metadata": {},
   "outputs": [],
   "source": [
    "import numpy as np"
   ]
  },
  {
   "cell_type": "code",
   "execution_count": 9,
   "metadata": {},
   "outputs": [],
   "source": [
    "my_data = np.genfromtxt('/sales_fact_1997_8.csv', delimiter=',')"
   ]
  },
  {
   "cell_type": "code",
   "execution_count": 10,
   "metadata": {},
   "outputs": [
    {
     "name": "stdout",
     "output_type": "stream",
     "text": [
      "[[       nan        nan        nan ...        nan        nan        nan]\n",
      " [3.3700e+02 3.7100e+02 6.2800e+03 ... 1.5000e+00 5.1000e-01 2.0000e+00]\n",
      " [1.5120e+03 3.7100e+02 6.2800e+03 ... 1.6200e+00 6.3180e-01 3.0000e+00]\n",
      " ...\n",
      " [2.1600e+02 1.0360e+03 9.3940e+03 ... 1.0800e+01 5.2920e+00 3.0000e+00]\n",
      " [3.2600e+02 1.0360e+03 9.3940e+03 ... 9.8800e+00 4.3472e+00 4.0000e+00]\n",
      " [4.1000e+02 1.0360e+03 9.3940e+03 ... 5.0400e+00 2.3184e+00 4.0000e+00]]\n"
     ]
    }
   ],
   "source": [
    "print(my_data)"
   ]
  },
  {
   "cell_type": "code",
   "execution_count": 11,
   "metadata": {},
   "outputs": [],
   "source": [
    "np.savetxt(\"ruhaha.csv\", my_data, delimiter=\",\")"
   ]
  },
  {
   "cell_type": "code",
   "execution_count": 15,
   "metadata": {},
   "outputs": [],
   "source": [
    "my_data = my_data[my_data[:,1].argsort()]"
   ]
  },
  {
   "cell_type": "code",
   "execution_count": 16,
   "metadata": {},
   "outputs": [],
   "source": [
    "np.savetxt(\"ruhaha.csv\", my_data, delimiter=\",\")"
   ]
  },
  {
   "cell_type": "code",
   "execution_count": 17,
   "metadata": {},
   "outputs": [
    {
     "data": {
      "text/plain": [
       "array([[1.4610e+03, 3.6700e+02, 6.0620e+03, ..., 5.1200e+00, 2.2016e+00,\n",
       "        2.0000e+00],\n",
       "       [8.8500e+02, 3.6700e+02, 5.8020e+03, ..., 5.5200e+00, 2.3736e+00,\n",
       "        4.0000e+00],\n",
       "       [2.3600e+02, 3.6700e+02, 5.8020e+03, ..., 5.4300e+00, 1.6833e+00,\n",
       "        3.0000e+00],\n",
       "       ...,\n",
       "       [1.2480e+03, 1.0650e+03, 6.1140e+03, ..., 1.3320e+01, 4.7952e+00,\n",
       "        4.0000e+00],\n",
       "       [9.5400e+02, 1.0650e+03, 3.0210e+03, ..., 5.2200e+00, 1.9836e+00,\n",
       "        3.0000e+00],\n",
       "       [       nan,        nan,        nan, ...,        nan,        nan,\n",
       "               nan]])"
      ]
     },
     "execution_count": 17,
     "metadata": {},
     "output_type": "execute_result"
    }
   ],
   "source": [
    "my_data"
   ]
  },
  {
   "cell_type": "code",
   "execution_count": 19,
   "metadata": {},
   "outputs": [
    {
     "data": {
      "text/plain": [
       "array([ 367.,  367.,  367., ..., 1065., 1065.,   nan])"
      ]
     },
     "execution_count": 19,
     "metadata": {},
     "output_type": "execute_result"
    }
   ],
   "source": [
    "my_data[:,1]"
   ]
  },
  {
   "cell_type": "code",
   "execution_count": null,
   "metadata": {},
   "outputs": [],
   "source": []
  }
 ],
 "metadata": {
  "kernelspec": {
   "display_name": "Python 3",
   "language": "python",
   "name": "python3"
  },
  "language_info": {
   "codemirror_mode": {
    "name": "ipython",
    "version": 3
   },
   "file_extension": ".py",
   "mimetype": "text/x-python",
   "name": "python",
   "nbconvert_exporter": "python",
   "pygments_lexer": "ipython3",
   "version": "3.6.4"
  }
 },
 "nbformat": 4,
 "nbformat_minor": 2
}
